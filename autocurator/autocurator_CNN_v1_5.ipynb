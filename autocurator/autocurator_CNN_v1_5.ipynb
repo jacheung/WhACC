{
  "nbformat": 4,
  "nbformat_minor": 0,
  "metadata": {
    "colab": {
      "name": "autocurator_CNN_v1_5.ipynb",
      "provenance": [],
      "collapsed_sections": [],
      "toc_visible": true,
      "include_colab_link": true
    },
    "kernelspec": {
      "name": "python3",
      "display_name": "Python 3"
    },
    "accelerator": "GPU"
  },
  "cells": [
    {
      "cell_type": "markdown",
      "metadata": {
        "id": "view-in-github",
        "colab_type": "text"
      },
      "source": [
        "<a href=\"https://colab.research.google.com/github/jacheung/auto-curator/blob/master/autocurator_CNN_v1_5.ipynb\" target=\"_parent\"><img src=\"https://colab.research.google.com/assets/colab-badge.svg\" alt=\"Open In Colab\"/></a>"
      ]
    },
    {
      "cell_type": "code",
      "metadata": {
        "id": "WBEOUJuANrQK",
        "colab_type": "code",
        "colab": {
          "base_uri": "https://localhost:8080/",
          "height": 34
        },
        "outputId": "10d44f18-c46a-422f-acfa-fc2fba8b4d83"
      },
      "source": [
        "# Import necessary libraries and set up image libraries in Google drive\n",
        "import numpy as np\n",
        "import scipy.io\n",
        "import tensorflow as tf \n",
        "from tensorflow import keras\n",
        "from sklearn.utils import class_weight\n",
        "import sklearn.model_selection as ms\n",
        "from sklearn.metrics import roc_curve     \n",
        "\n",
        "from google.colab import drive\n",
        "import glob\n",
        "import matplotlib.pyplot as plt\n",
        "from psutil import virtual_memory\n",
        "import sys\n",
        "import time\n",
        "import dill \n",
        "import shelve\n",
        "from keras.preprocessing.image import ImageDataGenerator\n",
        "\n",
        "\n",
        "# Mount google drive and set up directories \n",
        "drive.mount('/content/gdrive')\n",
        "base_dir = \"/content/gdrive/My Drive/Colab data/trialFramesNPY/\"\n",
        "model_save_dir = \"/content/gdrive/My Drive/Colab data/model_iterations/\"\n",
        "\n",
        "# grab images and labels names \n",
        "frame_ind_files = glob.glob(base_dir + \"*_frameIndex.mat\")\n",
        "T_class = glob.glob(base_dir + \"*touchClass.mat\")\n",
        "frames = glob.glob(base_dir + \"*dataset.mat\")\n",
        "\n",
        "base_dir = \"/content/gdrive/My Drive/Colab data/aug50_real1_100realImsPerFile2/\"\n",
        "aug_files = glob.glob(base_dir + \"*.h5\")\n",
        "\n",
        "#                   4/3gEp7zWFwsvd7MRstqM73mJrNwFWCqTFm2a5j3xVvJCGzVG68Ne2Dto"
      ],
      "execution_count": 2,
      "outputs": [
        {
          "output_type": "stream",
          "text": [
            "Mounted at /content/gdrive\n"
          ],
          "name": "stdout"
        }
      ]
    },
    {
      "cell_type": "markdown",
      "metadata": {
        "id": "dJzQ9d1ZzXyX",
        "colab_type": "text"
      },
      "source": [
        "# 1) Data cleaning\n"
      ]
    },
    {
      "cell_type": "code",
      "metadata": {
        "id": "hr5IFpVOwh10",
        "colab_type": "code",
        "colab": {}
      },
      "source": [
        "\n",
        "mem = virtual_memory()\n",
        "mem_free = np.round(mem.free/1024**3, 2)\n",
        "tot_mem = np.round(mem.total/1024**3, 2)\n",
        "print(str(mem_free) + ' of ' + str(tot_mem) + ' GB of mem')\n",
        "\n",
        "aug_files"
      ],
      "execution_count": null,
      "outputs": []
    },
    {
      "cell_type": "markdown",
      "metadata": {
        "id": "d0XkvNfc1-yf",
        "colab_type": "text"
      },
      "source": [
        "## 1.1 Matching frames and labels"
      ]
    },
    {
      "cell_type": "code",
      "metadata": {
        "id": "aXFWPKw6on2f",
        "colab_type": "code",
        "colab": {
          "base_uri": "https://localhost:8080/",
          "height": 54
        },
        "outputId": "e72b6d4a-b57f-4ed4-afb0-7fb28a7c4bac"
      },
      "source": [
        "# Trim frames and labels names to make the names the same to match them\n",
        "frame_nums = []\n",
        "T_class_nums = []\n",
        "frame_inds = []\n",
        "for i in range(len(frames)):\n",
        "  frame_nums.append(frames[i][1:-11])\n",
        "\n",
        "for i in range(len(T_class)):\n",
        "  T_class_nums.append(T_class[i][1:-14])\n",
        "  \n",
        "for i in range(len(frame_ind_files)):\n",
        "  frame_inds.append(frame_ind_files[i][1:-14])  \n",
        "print(frame_inds)"
      ],
      "execution_count": 3,
      "outputs": [
        {
          "output_type": "stream",
          "text": [
            "['content/gdrive/My Drive/Colab data/trialFramesNPY/AH0000x000000-153_', 'content/gdrive/My Drive/Colab data/trialFramesNPY/AH0000x000000-154_', 'content/gdrive/My Drive/Colab data/trialFramesNPY/AH0000x000000-155_', 'content/gdrive/My Drive/Colab data/trialFramesNPY/AH0000x000000-156_', 'content/gdrive/My Drive/Colab data/trialFramesNPY/AH0000x000000-157_', 'content/gdrive/My Drive/Colab data/trialFramesNPY/AH0000x000000-158_', 'content/gdrive/My Drive/Colab data/trialFramesNPY/AH0000x000000-159_', 'content/gdrive/My Drive/Colab data/trialFramesNPY/AH0000x000000-160_', 'content/gdrive/My Drive/Colab data/trialFramesNPY/AH0000x000000-161_', 'content/gdrive/My Drive/Colab data/trialFramesNPY/AH0000x000000-162_', 'content/gdrive/My Drive/Colab data/trialFramesNPY/AH0000x000000-163_', 'content/gdrive/My Drive/Colab data/trialFramesNPY/AH0000x000000-164_', 'content/gdrive/My Drive/Colab data/trialFramesNPY/AH0000x000000-165_', 'content/gdrive/My Drive/Colab data/trialFramesNPY/AH0000x000000-166_', 'content/gdrive/My Drive/Colab data/trialFramesNPY/AH0000x000000-167_', 'content/gdrive/My Drive/Colab data/trialFramesNPY/AH0000x000000-168_', 'content/gdrive/My Drive/Colab data/trialFramesNPY/AH0000x000000-169_', 'content/gdrive/My Drive/Colab data/trialFramesNPY/AH0000x000000-170_', 'content/gdrive/My Drive/Colab data/trialFramesNPY/AH0000x000000-171_', 'content/gdrive/My Drive/Colab data/trialFramesNPY/AH0000x000000-172_', 'content/gdrive/My Drive/Colab data/trialFramesNPY/AH0000x000000-173_', 'content/gdrive/My Drive/Colab data/trialFramesNPY/AH0000x000000-174_', 'content/gdrive/My Drive/Colab data/trialFramesNPY/AH0000x000000-175_', 'content/gdrive/My Drive/Colab data/trialFramesNPY/AH0000x000000-176_', 'content/gdrive/My Drive/Colab data/trialFramesNPY/AH0000x000000-177_', 'content/gdrive/My Drive/Colab data/trialFramesNPY/AH0000x000000-178_', 'content/gdrive/My Drive/Colab data/trialFramesNPY/AH0000x000000-179_', 'content/gdrive/My Drive/Colab data/trialFramesNPY/AH0000x000000-180_', 'content/gdrive/My Drive/Colab data/trialFramesNPY/AH0000x000000-181_', 'content/gdrive/My Drive/Colab data/trialFramesNPY/AH0000x000000-182_', 'content/gdrive/My Drive/Colab data/trialFramesNPY/AH0000x000000-183_', 'content/gdrive/My Drive/Colab data/trialFramesNPY/AH0000x000000-184_', 'content/gdrive/My Drive/Colab data/trialFramesNPY/AH0000x000000-185_', 'content/gdrive/My Drive/Colab data/trialFramesNPY/AH0000x000000-186_', 'content/gdrive/My Drive/Colab data/trialFramesNPY/AH0000x000000-187_', 'content/gdrive/My Drive/Colab data/trialFramesNPY/AH0000x000000-188_', 'content/gdrive/My Drive/Colab data/trialFramesNPY/AH0000x000000-189_', 'content/gdrive/My Drive/Colab data/trialFramesNPY/AH0000x000000-190_', 'content/gdrive/My Drive/Colab data/trialFramesNPY/AH0000x000000-191_', 'content/gdrive/My Drive/Colab data/trialFramesNPY/AH0000x000000-192_', 'content/gdrive/My Drive/Colab data/trialFramesNPY/AH0000x000000-193_', 'content/gdrive/My Drive/Colab data/trialFramesNPY/AH0000x000000-194_', 'content/gdrive/My Drive/Colab data/trialFramesNPY/AH0000x000000-195_', 'content/gdrive/My Drive/Colab data/trialFramesNPY/AH0000x000000-196_', 'content/gdrive/My Drive/Colab data/trialFramesNPY/AH0000x000000-197_', 'content/gdrive/My Drive/Colab data/trialFramesNPY/AH0000x000000-198_', 'content/gdrive/My Drive/Colab data/trialFramesNPY/AH0000x000000-199_', 'content/gdrive/My Drive/Colab data/trialFramesNPY/AH0000x000000-200_', 'content/gdrive/My Drive/Colab data/trialFramesNPY/AH0000x000000-201_', 'content/gdrive/My Drive/Colab data/trialFramesNPY/AH0000x000000-202_', 'content/gdrive/My Drive/Colab data/trialFramesNPY/AH0000x000000-203_', 'content/gdrive/My Drive/Colab data/trialFramesNPY/AH0000x000000-204_', 'content/gdrive/My Drive/Colab data/trialFramesNPY/AH0000x000000-205_', 'content/gdrive/My Drive/Colab data/trialFramesNPY/AH0000x000000-206_', 'content/gdrive/My Drive/Colab data/trialFramesNPY/AH0000x000000-207_', 'content/gdrive/My Drive/Colab data/trialFramesNPY/AH0000x000000-208_', 'content/gdrive/My Drive/Colab data/trialFramesNPY/AH0000x000000-209_', 'content/gdrive/My Drive/Colab data/trialFramesNPY/AH0000x000000-210_', 'content/gdrive/My Drive/Colab data/trialFramesNPY/AH0000x000000-211_', 'content/gdrive/My Drive/Colab data/trialFramesNPY/AH0000x000000-212_', 'content/gdrive/My Drive/Colab data/trialFramesNPY/AH0000x000000-213_', 'content/gdrive/My Drive/Colab data/trialFramesNPY/AH0000x000000-214_', 'content/gdrive/My Drive/Colab data/trialFramesNPY/AH0000x000000-215_', 'content/gdrive/My Drive/Colab data/trialFramesNPY/AH0000x000000-216_', 'content/gdrive/My Drive/Colab data/trialFramesNPY/AH0000x000000-217_', 'content/gdrive/My Drive/Colab data/trialFramesNPY/AH0000x000000-218_', 'content/gdrive/My Drive/Colab data/trialFramesNPY/AH0000x000000-219_', 'content/gdrive/My Drive/Colab data/trialFramesNPY/AH0000x000000-220_', 'content/gdrive/My Drive/Colab data/trialFramesNPY/AH0000x000000-221_', 'content/gdrive/My Drive/Colab data/trialFramesNPY/AH0000x000000-222_', 'content/gdrive/My Drive/Colab data/trialFramesNPY/AH0000x000000-223_', 'content/gdrive/My Drive/Colab data/trialFramesNPY/AH0000x000000-224_', 'content/gdrive/My Drive/Colab data/trialFramesNPY/AH0000x000000-225_', 'content/gdrive/My Drive/Colab data/trialFramesNPY/AH0000x000000-226_', 'content/gdrive/My Drive/Colab data/trialFramesNPY/AH0000x000000-227_', 'content/gdrive/My Drive/Colab data/trialFramesNPY/AH0000x000000-228_', 'content/gdrive/My Drive/Colab data/trialFramesNPY/AH0000x000000-229_', 'content/gdrive/My Drive/Colab data/trialFramesNPY/AH0000x000000-230_', 'content/gdrive/My Drive/Colab data/trialFramesNPY/AH0000x000000-231_', 'content/gdrive/My Drive/Colab data/trialFramesNPY/AH0000x000000-232_', 'content/gdrive/My Drive/Colab data/trialFramesNPY/AH0000x000000-233_', 'content/gdrive/My Drive/Colab data/trialFramesNPY/AH0000x000000-234_', 'content/gdrive/My Drive/Colab data/trialFramesNPY/AH0000x000000-235_', 'content/gdrive/My Drive/Colab data/trialFramesNPY/AH0000x000000-236_', 'content/gdrive/My Drive/Colab data/trialFramesNPY/AH0000x000000-237_', 'content/gdrive/My Drive/Colab data/trialFramesNPY/AH0000x000000-238_', 'content/gdrive/My Drive/Colab data/trialFramesNPY/AH0000x000000-239_', 'content/gdrive/My Drive/Colab data/trialFramesNPY/AH0000x000000-240_', 'content/gdrive/My Drive/Colab data/trialFramesNPY/AH0000x000000-241_', 'content/gdrive/My Drive/Colab data/trialFramesNPY/AH0000x000000-242_', 'content/gdrive/My Drive/Colab data/trialFramesNPY/AH0000x000000-243_', 'content/gdrive/My Drive/Colab data/trialFramesNPY/AH0000x000000-244_', 'content/gdrive/My Drive/Colab data/trialFramesNPY/AH0000x000000-245_', 'content/gdrive/My Drive/Colab data/trialFramesNPY/AH0000x000000-246_', 'content/gdrive/My Drive/Colab data/trialFramesNPY/AH0000x000000-247_', 'content/gdrive/My Drive/Colab data/trialFramesNPY/AH0000x000000-248_', 'content/gdrive/My Drive/Colab data/trialFramesNPY/AH0000x000000-249_', 'content/gdrive/My Drive/Colab data/trialFramesNPY/AH0000x000000-250_', 'content/gdrive/My Drive/Colab data/trialFramesNPY/AH0000x000000-251_', 'content/gdrive/My Drive/Colab data/trialFramesNPY/AH0000x000000-252_', 'content/gdrive/My Drive/Colab data/trialFramesNPY/AH0000x000000-253_', 'content/gdrive/My Drive/Colab data/trialFramesNPY/AH0000x000000-254_', 'content/gdrive/My Drive/Colab data/trialFramesNPY/AH0000x000000-255_', 'content/gdrive/My Drive/Colab data/trialFramesNPY/AH0000x000000-256_', 'content/gdrive/My Drive/Colab data/trialFramesNPY/AH0000x000000-257_', 'content/gdrive/My Drive/Colab data/trialFramesNPY/AH0000x000000-258_', 'content/gdrive/My Drive/Colab data/trialFramesNPY/AH0000x000000-259_', 'content/gdrive/My Drive/Colab data/trialFramesNPY/AH0000x000000-260_', 'content/gdrive/My Drive/Colab data/trialFramesNPY/AH0000x000000-261_', 'content/gdrive/My Drive/Colab data/trialFramesNPY/AH0000x000000-262_', 'content/gdrive/My Drive/Colab data/trialFramesNPY/AH0000x000000-263_', 'content/gdrive/My Drive/Colab data/trialFramesNPY/AH0000x000000-264_', 'content/gdrive/My Drive/Colab data/trialFramesNPY/AH0000x000000-265_', 'content/gdrive/My Drive/Colab data/trialFramesNPY/AH0000x000000-266_', 'content/gdrive/My Drive/Colab data/trialFramesNPY/AH0000x000000-267_', 'content/gdrive/My Drive/Colab data/trialFramesNPY/AH0000x000000-268_', 'content/gdrive/My Drive/Colab data/trialFramesNPY/AH0000x000000-269_', 'content/gdrive/My Drive/Colab data/trialFramesNPY/AH0000x000000-270_', 'content/gdrive/My Drive/Colab data/trialFramesNPY/AH0000x000000-271_', 'content/gdrive/My Drive/Colab data/trialFramesNPY/AH0000x000000-272_', 'content/gdrive/My Drive/Colab data/trialFramesNPY/AH0000x000000-273_', 'content/gdrive/My Drive/Colab data/trialFramesNPY/AH0000x000000-274_', 'content/gdrive/My Drive/Colab data/trialFramesNPY/AH0000x000000-275_', 'content/gdrive/My Drive/Colab data/trialFramesNPY/AH0000x000000-276_', 'content/gdrive/My Drive/Colab data/trialFramesNPY/AH0000x000000-277_', 'content/gdrive/My Drive/Colab data/trialFramesNPY/AH0000x000000-278_', 'content/gdrive/My Drive/Colab data/trialFramesNPY/AH0000x000000-279_', 'content/gdrive/My Drive/Colab data/trialFramesNPY/AH0000x000000-280_', 'content/gdrive/My Drive/Colab data/trialFramesNPY/AH0000x000000-281_', 'content/gdrive/My Drive/Colab data/trialFramesNPY/AH0000x000000-282_', 'content/gdrive/My Drive/Colab data/trialFramesNPY/AH0000x000000-283_', 'content/gdrive/My Drive/Colab data/trialFramesNPY/AH0000x000000-284_', 'content/gdrive/My Drive/Colab data/trialFramesNPY/AH0000x000000-285_', 'content/gdrive/My Drive/Colab data/trialFramesNPY/AH0000x000000-286_', 'content/gdrive/My Drive/Colab data/trialFramesNPY/AH0000x000000-287_', 'content/gdrive/My Drive/Colab data/trialFramesNPY/AH0000x000000-288_', 'content/gdrive/My Drive/Colab data/trialFramesNPY/AH0000x000000-289_', 'content/gdrive/My Drive/Colab data/trialFramesNPY/AH0000x000000-290_', 'content/gdrive/My Drive/Colab data/trialFramesNPY/AH0000x000000-291_', 'content/gdrive/My Drive/Colab data/trialFramesNPY/AH0000x000000-1_', 'content/gdrive/My Drive/Colab data/trialFramesNPY/AH0000x000000-2_', 'content/gdrive/My Drive/Colab data/trialFramesNPY/AH0000x000000-3_', 'content/gdrive/My Drive/Colab data/trialFramesNPY/AH0000x000000-4_', 'content/gdrive/My Drive/Colab data/trialFramesNPY/AH0000x000000-5_', 'content/gdrive/My Drive/Colab data/trialFramesNPY/AH0000x000000-6_', 'content/gdrive/My Drive/Colab data/trialFramesNPY/AH0000x000000-7_', 'content/gdrive/My Drive/Colab data/trialFramesNPY/AH0000x000000-8_', 'content/gdrive/My Drive/Colab data/trialFramesNPY/AH0000x000000-9_', 'content/gdrive/My Drive/Colab data/trialFramesNPY/AH0000x000000-10_', 'content/gdrive/My Drive/Colab data/trialFramesNPY/AH0000x000000-11_', 'content/gdrive/My Drive/Colab data/trialFramesNPY/AH0000x000000-12_', 'content/gdrive/My Drive/Colab data/trialFramesNPY/AH0000x000000-13_', 'content/gdrive/My Drive/Colab data/trialFramesNPY/AH0000x000000-14_', 'content/gdrive/My Drive/Colab data/trialFramesNPY/AH0000x000000-15_', 'content/gdrive/My Drive/Colab data/trialFramesNPY/AH0000x000000-16_', 'content/gdrive/My Drive/Colab data/trialFramesNPY/AH0000x000000-17_', 'content/gdrive/My Drive/Colab data/trialFramesNPY/AH0000x000000-18_', 'content/gdrive/My Drive/Colab data/trialFramesNPY/AH0000x000000-19_', 'content/gdrive/My Drive/Colab data/trialFramesNPY/AH0000x000000-20_', 'content/gdrive/My Drive/Colab data/trialFramesNPY/AH0000x000000-21_', 'content/gdrive/My Drive/Colab data/trialFramesNPY/AH0000x000000-22_', 'content/gdrive/My Drive/Colab data/trialFramesNPY/AH0000x000000-23_', 'content/gdrive/My Drive/Colab data/trialFramesNPY/AH0000x000000-24_', 'content/gdrive/My Drive/Colab data/trialFramesNPY/AH0000x000000-25_', 'content/gdrive/My Drive/Colab data/trialFramesNPY/AH0000x000000-26_', 'content/gdrive/My Drive/Colab data/trialFramesNPY/AH0000x000000-27_', 'content/gdrive/My Drive/Colab data/trialFramesNPY/AH0000x000000-28_', 'content/gdrive/My Drive/Colab data/trialFramesNPY/AH0000x000000-29_', 'content/gdrive/My Drive/Colab data/trialFramesNPY/AH0000x000000-30_', 'content/gdrive/My Drive/Colab data/trialFramesNPY/AH0000x000000-31_', 'content/gdrive/My Drive/Colab data/trialFramesNPY/AH0000x000000-32_', 'content/gdrive/My Drive/Colab data/trialFramesNPY/AH0000x000000-33_', 'content/gdrive/My Drive/Colab data/trialFramesNPY/AH0000x000000-34_', 'content/gdrive/My Drive/Colab data/trialFramesNPY/AH0000x000000-35_', 'content/gdrive/My Drive/Colab data/trialFramesNPY/AH0000x000000-36_', 'content/gdrive/My Drive/Colab data/trialFramesNPY/AH0000x000000-37_', 'content/gdrive/My Drive/Colab data/trialFramesNPY/AH0000x000000-38_', 'content/gdrive/My Drive/Colab data/trialFramesNPY/AH0000x000000-39_', 'content/gdrive/My Drive/Colab data/trialFramesNPY/AH0000x000000-40_', 'content/gdrive/My Drive/Colab data/trialFramesNPY/AH0000x000000-41_', 'content/gdrive/My Drive/Colab data/trialFramesNPY/AH0000x000000-42_', 'content/gdrive/My Drive/Colab data/trialFramesNPY/AH0000x000000-43_', 'content/gdrive/My Drive/Colab data/trialFramesNPY/AH0000x000000-44_', 'content/gdrive/My Drive/Colab data/trialFramesNPY/AH0000x000000-45_', 'content/gdrive/My Drive/Colab data/trialFramesNPY/AH0000x000000-46_', 'content/gdrive/My Drive/Colab data/trialFramesNPY/AH0000x000000-47_', 'content/gdrive/My Drive/Colab data/trialFramesNPY/AH0000x000000-48_', 'content/gdrive/My Drive/Colab data/trialFramesNPY/AH0000x000000-49_', 'content/gdrive/My Drive/Colab data/trialFramesNPY/AH0000x000000-50_', 'content/gdrive/My Drive/Colab data/trialFramesNPY/AH0000x000000-51_', 'content/gdrive/My Drive/Colab data/trialFramesNPY/AH0000x000000-52_', 'content/gdrive/My Drive/Colab data/trialFramesNPY/AH0000x000000-53_', 'content/gdrive/My Drive/Colab data/trialFramesNPY/AH0000x000000-54_', 'content/gdrive/My Drive/Colab data/trialFramesNPY/AH0000x000000-55_', 'content/gdrive/My Drive/Colab data/trialFramesNPY/AH0000x000000-56_', 'content/gdrive/My Drive/Colab data/trialFramesNPY/AH0000x000000-57_', 'content/gdrive/My Drive/Colab data/trialFramesNPY/AH0000x000000-58_', 'content/gdrive/My Drive/Colab data/trialFramesNPY/AH0000x000000-59_', 'content/gdrive/My Drive/Colab data/trialFramesNPY/AH0000x000000-60_', 'content/gdrive/My Drive/Colab data/trialFramesNPY/AH0000x000000-61_', 'content/gdrive/My Drive/Colab data/trialFramesNPY/AH0000x000000-62_', 'content/gdrive/My Drive/Colab data/trialFramesNPY/AH0000x000000-63_', 'content/gdrive/My Drive/Colab data/trialFramesNPY/AH0000x000000-64_', 'content/gdrive/My Drive/Colab data/trialFramesNPY/AH0000x000000-65_', 'content/gdrive/My Drive/Colab data/trialFramesNPY/AH0000x000000-66_', 'content/gdrive/My Drive/Colab data/trialFramesNPY/AH0000x000000-67_', 'content/gdrive/My Drive/Colab data/trialFramesNPY/AH0000x000000-68_', 'content/gdrive/My Drive/Colab data/trialFramesNPY/AH0000x000000-69_', 'content/gdrive/My Drive/Colab data/trialFramesNPY/AH0000x000000-70_', 'content/gdrive/My Drive/Colab data/trialFramesNPY/AH0000x000000-71_', 'content/gdrive/My Drive/Colab data/trialFramesNPY/AH0000x000000-72_', 'content/gdrive/My Drive/Colab data/trialFramesNPY/AH0000x000000-73_', 'content/gdrive/My Drive/Colab data/trialFramesNPY/AH0000x000000-74_', 'content/gdrive/My Drive/Colab data/trialFramesNPY/AH0000x000000-75_', 'content/gdrive/My Drive/Colab data/trialFramesNPY/AH0000x000000-76_', 'content/gdrive/My Drive/Colab data/trialFramesNPY/AH0000x000000-77_', 'content/gdrive/My Drive/Colab data/trialFramesNPY/AH0000x000000-78_', 'content/gdrive/My Drive/Colab data/trialFramesNPY/AH0000x000000-79_', 'content/gdrive/My Drive/Colab data/trialFramesNPY/AH0000x000000-80_', 'content/gdrive/My Drive/Colab data/trialFramesNPY/AH0000x000000-81_', 'content/gdrive/My Drive/Colab data/trialFramesNPY/AH0000x000000-82_', 'content/gdrive/My Drive/Colab data/trialFramesNPY/AH0000x000000-83_', 'content/gdrive/My Drive/Colab data/trialFramesNPY/AH0000x000000-84_', 'content/gdrive/My Drive/Colab data/trialFramesNPY/AH0000x000000-85_', 'content/gdrive/My Drive/Colab data/trialFramesNPY/AH0000x000000-86_', 'content/gdrive/My Drive/Colab data/trialFramesNPY/AH0000x000000-87_', 'content/gdrive/My Drive/Colab data/trialFramesNPY/AH0000x000000-88_', 'content/gdrive/My Drive/Colab data/trialFramesNPY/AH0000x000000-89_', 'content/gdrive/My Drive/Colab data/trialFramesNPY/AH0000x000000-90_', 'content/gdrive/My Drive/Colab data/trialFramesNPY/AH0000x000000-91_', 'content/gdrive/My Drive/Colab data/trialFramesNPY/AH0000x000000-92_', 'content/gdrive/My Drive/Colab data/trialFramesNPY/AH0000x000000-93_', 'content/gdrive/My Drive/Colab data/trialFramesNPY/AH0000x000000-94_', 'content/gdrive/My Drive/Colab data/trialFramesNPY/AH0000x000000-95_', 'content/gdrive/My Drive/Colab data/trialFramesNPY/AH0000x000000-96_', 'content/gdrive/My Drive/Colab data/trialFramesNPY/AH0000x000000-97_', 'content/gdrive/My Drive/Colab data/trialFramesNPY/AH0000x000000-98_', 'content/gdrive/My Drive/Colab data/trialFramesNPY/AH0000x000000-99_', 'content/gdrive/My Drive/Colab data/trialFramesNPY/AH0000x000000-100_', 'content/gdrive/My Drive/Colab data/trialFramesNPY/AH0000x000000-101_', 'content/gdrive/My Drive/Colab data/trialFramesNPY/AH0000x000000-102_', 'content/gdrive/My Drive/Colab data/trialFramesNPY/AH0000x000000-103_', 'content/gdrive/My Drive/Colab data/trialFramesNPY/AH0000x000000-104_', 'content/gdrive/My Drive/Colab data/trialFramesNPY/AH0000x000000-105_', 'content/gdrive/My Drive/Colab data/trialFramesNPY/AH0000x000000-106_', 'content/gdrive/My Drive/Colab data/trialFramesNPY/AH0000x000000-107_', 'content/gdrive/My Drive/Colab data/trialFramesNPY/AH0000x000000-108_', 'content/gdrive/My Drive/Colab data/trialFramesNPY/AH0000x000000-109_', 'content/gdrive/My Drive/Colab data/trialFramesNPY/AH0000x000000-110_', 'content/gdrive/My Drive/Colab data/trialFramesNPY/AH0000x000000-111_', 'content/gdrive/My Drive/Colab data/trialFramesNPY/AH0000x000000-112_', 'content/gdrive/My Drive/Colab data/trialFramesNPY/AH0000x000000-113_', 'content/gdrive/My Drive/Colab data/trialFramesNPY/AH0000x000000-114_', 'content/gdrive/My Drive/Colab data/trialFramesNPY/AH0000x000000-115_', 'content/gdrive/My Drive/Colab data/trialFramesNPY/AH0000x000000-116_', 'content/gdrive/My Drive/Colab data/trialFramesNPY/AH0000x000000-117_', 'content/gdrive/My Drive/Colab data/trialFramesNPY/AH0000x000000-118_', 'content/gdrive/My Drive/Colab data/trialFramesNPY/AH0000x000000-119_', 'content/gdrive/My Drive/Colab data/trialFramesNPY/AH0000x000000-120_', 'content/gdrive/My Drive/Colab data/trialFramesNPY/AH0000x000000-121_', 'content/gdrive/My Drive/Colab data/trialFramesNPY/AH0000x000000-122_', 'content/gdrive/My Drive/Colab data/trialFramesNPY/AH0000x000000-123_', 'content/gdrive/My Drive/Colab data/trialFramesNPY/AH0000x000000-124_', 'content/gdrive/My Drive/Colab data/trialFramesNPY/AH0000x000000-125_', 'content/gdrive/My Drive/Colab data/trialFramesNPY/AH0000x000000-126_', 'content/gdrive/My Drive/Colab data/trialFramesNPY/AH0000x000000-127_', 'content/gdrive/My Drive/Colab data/trialFramesNPY/AH0000x000000-128_', 'content/gdrive/My Drive/Colab data/trialFramesNPY/AH0000x000000-129_', 'content/gdrive/My Drive/Colab data/trialFramesNPY/AH0000x000000-130_', 'content/gdrive/My Drive/Colab data/trialFramesNPY/AH0000x000000-131_', 'content/gdrive/My Drive/Colab data/trialFramesNPY/AH0000x000000-132_', 'content/gdrive/My Drive/Colab data/trialFramesNPY/AH0000x000000-133_', 'content/gdrive/My Drive/Colab data/trialFramesNPY/AH0000x000000-134_', 'content/gdrive/My Drive/Colab data/trialFramesNPY/AH0000x000000-135_', 'content/gdrive/My Drive/Colab data/trialFramesNPY/AH0000x000000-136_', 'content/gdrive/My Drive/Colab data/trialFramesNPY/AH0000x000000-137_', 'content/gdrive/My Drive/Colab data/trialFramesNPY/AH0000x000000-138_', 'content/gdrive/My Drive/Colab data/trialFramesNPY/AH0000x000000-139_', 'content/gdrive/My Drive/Colab data/trialFramesNPY/AH0000x000000-140_', 'content/gdrive/My Drive/Colab data/trialFramesNPY/AH0000x000000-141_', 'content/gdrive/My Drive/Colab data/trialFramesNPY/AH0000x000000-142_', 'content/gdrive/My Drive/Colab data/trialFramesNPY/AH0000x000000-143_', 'content/gdrive/My Drive/Colab data/trialFramesNPY/AH0000x000000-144_', 'content/gdrive/My Drive/Colab data/trialFramesNPY/AH0000x000000-145_', 'content/gdrive/My Drive/Colab data/trialFramesNPY/AH0000x000000-146_', 'content/gdrive/My Drive/Colab data/trialFramesNPY/AH0000x000000-147_', 'content/gdrive/My Drive/Colab data/trialFramesNPY/AH0000x000000-148_', 'content/gdrive/My Drive/Colab data/trialFramesNPY/AH0000x000000-149_', 'content/gdrive/My Drive/Colab data/trialFramesNPY/AH0000x000000-150_', 'content/gdrive/My Drive/Colab data/trialFramesNPY/AH0000x000000-151_', 'content/gdrive/My Drive/Colab data/trialFramesNPY/AH0000x000000-152_']\n"
          ],
          "name": "stdout"
        }
      ]
    },
    {
      "cell_type": "code",
      "metadata": {
        "id": "nHk8StOgAPbm",
        "colab_type": "code",
        "colab": {
          "base_uri": "https://localhost:8080/",
          "height": 105
        },
        "outputId": "c76c8910-1b6a-439f-d993-8ee82f88d030"
      },
      "source": [
        "# # rearrange frame_nums so that they are in order just for convenience\n",
        "\n",
        "\n",
        "import re\n",
        "def extract_between(s, str1, str2):\n",
        "  result = re.search(str1 + '(.*)' + str2, s)\n",
        "  return result.group(1)\n",
        "\n",
        "tmp1 = [int(extract_between(k, '000000-', '_')) for k in frame_nums]\n",
        "sorted_inds = np.argsort(tmp1)\n",
        "print(np.max(sorted_inds))\n",
        "print(np.shape(frame_nums))\n",
        "frame_nums = [frame_nums[sorted_inds[k]] for k, strings in enumerate(frame_nums)]\n",
        "frames = [frames[sorted_inds[k]] for k, strings in enumerate(frames)]\n",
        "\n",
        "\n",
        "tmp1 = [int(extract_between(k, '000000-', '_')) for k in frame_nums]\n",
        "print(tmp1)\n",
        "tmp1 = [int(extract_between(k, '000000-', '_')) for k in frames]\n",
        "print(tmp1)\n",
        "\n",
        "\n",
        "\n",
        "# print(frame_nums)\n",
        "# print(frames)\n",
        "\n",
        "# for k, strings in enumerate(frame_nums):\n",
        "\n",
        "#   print(k)\n",
        "#   print(strings)\n",
        "#   print(sorted_inds[k])\n",
        "#   frame_nums = strings[sorted_inds[k]]"
      ],
      "execution_count": 4,
      "outputs": [
        {
          "output_type": "stream",
          "text": [
            "290\n",
            "(291,)\n",
            "[1, 2, 3, 4, 5, 6, 7, 8, 9, 10, 11, 12, 13, 14, 15, 16, 17, 18, 19, 20, 21, 22, 23, 24, 25, 26, 27, 28, 29, 30, 31, 32, 33, 34, 35, 36, 37, 38, 39, 40, 41, 42, 43, 44, 45, 46, 47, 48, 49, 50, 51, 52, 53, 54, 55, 56, 57, 58, 59, 60, 61, 62, 63, 64, 65, 66, 67, 68, 69, 70, 71, 72, 73, 74, 75, 76, 77, 78, 79, 80, 81, 82, 83, 84, 85, 86, 87, 88, 89, 90, 91, 92, 93, 94, 95, 96, 97, 98, 99, 100, 101, 102, 103, 104, 105, 106, 107, 108, 109, 110, 111, 112, 113, 114, 115, 116, 117, 118, 119, 120, 121, 122, 123, 124, 125, 126, 127, 128, 129, 130, 131, 132, 133, 134, 135, 136, 137, 138, 139, 140, 141, 142, 143, 144, 145, 146, 147, 148, 149, 150, 151, 152, 153, 154, 155, 156, 157, 158, 159, 160, 161, 162, 163, 164, 165, 166, 167, 168, 169, 170, 171, 172, 173, 174, 175, 176, 177, 178, 179, 180, 181, 182, 183, 184, 185, 186, 187, 188, 189, 190, 191, 192, 193, 194, 195, 196, 197, 198, 199, 200, 201, 202, 203, 204, 205, 206, 207, 208, 209, 210, 211, 212, 213, 214, 215, 216, 217, 218, 219, 220, 221, 222, 223, 224, 225, 226, 227, 228, 229, 230, 231, 232, 233, 234, 235, 236, 237, 238, 239, 240, 241, 242, 243, 244, 245, 246, 247, 248, 249, 250, 251, 252, 253, 254, 255, 256, 257, 258, 259, 260, 261, 262, 263, 264, 265, 266, 267, 268, 269, 270, 271, 272, 273, 274, 275, 276, 277, 278, 279, 280, 281, 282, 283, 284, 285, 286, 287, 288, 289, 290, 291]\n",
            "[1, 2, 3, 4, 5, 6, 7, 8, 9, 10, 11, 12, 13, 14, 15, 16, 17, 18, 19, 20, 21, 22, 23, 24, 25, 26, 27, 28, 29, 30, 31, 32, 33, 34, 35, 36, 37, 38, 39, 40, 41, 42, 43, 44, 45, 46, 47, 48, 49, 50, 51, 52, 53, 54, 55, 56, 57, 58, 59, 60, 61, 62, 63, 64, 65, 66, 67, 68, 69, 70, 71, 72, 73, 74, 75, 76, 77, 78, 79, 80, 81, 82, 83, 84, 85, 86, 87, 88, 89, 90, 91, 92, 93, 94, 95, 96, 97, 98, 99, 100, 101, 102, 103, 104, 105, 106, 107, 108, 109, 110, 111, 112, 113, 114, 115, 116, 117, 118, 119, 120, 121, 122, 123, 124, 125, 126, 127, 128, 129, 130, 131, 132, 133, 134, 135, 136, 137, 138, 139, 140, 141, 142, 143, 144, 145, 146, 147, 148, 149, 150, 151, 152, 153, 154, 155, 156, 157, 158, 159, 160, 161, 162, 163, 164, 165, 166, 167, 168, 169, 170, 171, 172, 173, 174, 175, 176, 177, 178, 179, 180, 181, 182, 183, 184, 185, 186, 187, 188, 189, 190, 191, 192, 193, 194, 195, 196, 197, 198, 199, 200, 201, 202, 203, 204, 205, 206, 207, 208, 209, 210, 211, 212, 213, 214, 215, 216, 217, 218, 219, 220, 221, 222, 223, 224, 225, 226, 227, 228, 229, 230, 231, 232, 233, 234, 235, 236, 237, 238, 239, 240, 241, 242, 243, 244, 245, 246, 247, 248, 249, 250, 251, 252, 253, 254, 255, 256, 257, 258, 259, 260, 261, 262, 263, 264, 265, 266, 267, 268, 269, 270, 271, 272, 273, 274, 275, 276, 277, 278, 279, 280, 281, 282, 283, 284, 285, 286, 287, 288, 289, 290, 291]\n"
          ],
          "name": "stdout"
        }
      ]
    },
    {
      "cell_type": "code",
      "metadata": {
        "id": "L_JezT3C_6EE",
        "colab_type": "code",
        "colab": {
          "base_uri": "https://localhost:8080/",
          "height": 105
        },
        "outputId": "e32d2bfc-1b7e-4fae-fae8-645f74996e60"
      },
      "source": [
        "# Match and reorder all frames and label files\n",
        "indices = []\n",
        "T_class_reordered = []\n",
        "for k in range(len(frame_nums)):\n",
        "  indices.append([i for i, s in enumerate(T_class_nums) if frame_nums[k] == s])\n",
        "\n",
        "indices = [x for x in indices if x != []]\n",
        "\n",
        "for k in range(len(indices)):\n",
        "    T_class_reordered.append(T_class[indices[k][0]])\n",
        "\n",
        "\n",
        "#################\n",
        "indices = []\n",
        "frame_inds_reordered = []\n",
        "for k in range(len(frame_nums)):\n",
        "  indices.append([i for i, s in enumerate(frame_inds) if frame_nums[k] == s])\n",
        "\n",
        "indices = [x for x in indices if x != []]\n",
        "\n",
        "for k in range(len(indices)):\n",
        "    frame_inds_reordered.append(frame_ind_files[indices[k][0]])\n",
        "\n",
        "#############\n",
        "\n",
        "# test that this is matched\n",
        "tmp1 = [int(extract_between(k, '000000-', '_')) for k in T_class_reordered]\n",
        "print(tmp1)\n",
        "tmp1 = [int(extract_between(k, '000000-', '_')) for k in frame_nums]\n",
        "print(tmp1)\n",
        "tmp1 = [int(extract_between(k, '000000-', '_')) for k in frame_inds_reordered]\n",
        "print(tmp1)\n",
        "tmp1 = [int(extract_between(k, '000000-', '_')) for k in frames]\n",
        "print(tmp1)\n"
      ],
      "execution_count": 5,
      "outputs": [
        {
          "output_type": "stream",
          "text": [
            "[1, 2, 3, 4, 5, 6, 7, 8, 9, 10, 11, 12, 13, 14, 15, 16, 17, 18, 19, 20, 21, 22, 23, 24, 25, 26, 27, 28, 29, 30, 31, 32, 33, 34, 35, 36, 37, 38, 39, 40, 41, 42, 43, 44, 45, 46, 47, 48, 49, 50, 51, 52, 53, 54, 55, 56, 57, 58, 59, 60, 61, 62, 63, 64, 65, 66, 67, 68, 69, 70, 71, 72, 73, 74, 75, 76, 77, 78, 79, 80, 81, 82, 83, 84, 85, 86, 87, 88, 89, 90, 91, 92, 93, 94, 95, 96, 97, 98, 99, 100, 101, 102, 103, 104, 105, 106, 107, 108, 109, 110, 111, 112, 113, 114, 115, 116, 117, 118, 119, 120, 121, 122, 123, 124, 125, 126, 127, 128, 129, 130, 131, 132, 133, 134, 135, 136, 137, 138, 139, 140, 141, 142, 143, 144, 145, 146, 147, 148, 149, 150, 151, 152, 153, 154, 155, 156, 157, 158, 159, 160, 161, 162, 163, 164, 165, 166, 167, 168, 169, 170, 171, 172, 173, 174, 175, 176, 177, 178, 179, 180, 181, 182, 183, 184, 185, 186, 187, 188, 189, 190, 191, 192, 193, 194, 195, 196, 197, 198, 199, 200, 201, 202, 203, 204, 205, 206, 207, 208, 209, 210, 211, 212, 213, 214, 215, 216, 217, 218, 219, 220, 221, 222, 223, 224, 225, 226, 227, 228, 229, 230, 231, 232, 233, 234, 235, 236, 237, 238, 239, 240, 241, 242, 243, 244, 245, 246, 247, 248, 249, 250, 251, 252, 253, 254, 255, 256, 257, 258, 259, 260, 261, 262, 263, 264, 265, 266, 267, 268, 269, 270, 271, 272, 273, 274, 275, 276, 277, 278, 279, 280, 281, 282, 283, 284, 285, 286, 287, 288, 289, 290, 291]\n",
            "[1, 2, 3, 4, 5, 6, 7, 8, 9, 10, 11, 12, 13, 14, 15, 16, 17, 18, 19, 20, 21, 22, 23, 24, 25, 26, 27, 28, 29, 30, 31, 32, 33, 34, 35, 36, 37, 38, 39, 40, 41, 42, 43, 44, 45, 46, 47, 48, 49, 50, 51, 52, 53, 54, 55, 56, 57, 58, 59, 60, 61, 62, 63, 64, 65, 66, 67, 68, 69, 70, 71, 72, 73, 74, 75, 76, 77, 78, 79, 80, 81, 82, 83, 84, 85, 86, 87, 88, 89, 90, 91, 92, 93, 94, 95, 96, 97, 98, 99, 100, 101, 102, 103, 104, 105, 106, 107, 108, 109, 110, 111, 112, 113, 114, 115, 116, 117, 118, 119, 120, 121, 122, 123, 124, 125, 126, 127, 128, 129, 130, 131, 132, 133, 134, 135, 136, 137, 138, 139, 140, 141, 142, 143, 144, 145, 146, 147, 148, 149, 150, 151, 152, 153, 154, 155, 156, 157, 158, 159, 160, 161, 162, 163, 164, 165, 166, 167, 168, 169, 170, 171, 172, 173, 174, 175, 176, 177, 178, 179, 180, 181, 182, 183, 184, 185, 186, 187, 188, 189, 190, 191, 192, 193, 194, 195, 196, 197, 198, 199, 200, 201, 202, 203, 204, 205, 206, 207, 208, 209, 210, 211, 212, 213, 214, 215, 216, 217, 218, 219, 220, 221, 222, 223, 224, 225, 226, 227, 228, 229, 230, 231, 232, 233, 234, 235, 236, 237, 238, 239, 240, 241, 242, 243, 244, 245, 246, 247, 248, 249, 250, 251, 252, 253, 254, 255, 256, 257, 258, 259, 260, 261, 262, 263, 264, 265, 266, 267, 268, 269, 270, 271, 272, 273, 274, 275, 276, 277, 278, 279, 280, 281, 282, 283, 284, 285, 286, 287, 288, 289, 290, 291]\n",
            "[1, 2, 3, 4, 5, 6, 7, 8, 9, 10, 11, 12, 13, 14, 15, 16, 17, 18, 19, 20, 21, 22, 23, 24, 25, 26, 27, 28, 29, 30, 31, 32, 33, 34, 35, 36, 37, 38, 39, 40, 41, 42, 43, 44, 45, 46, 47, 48, 49, 50, 51, 52, 53, 54, 55, 56, 57, 58, 59, 60, 61, 62, 63, 64, 65, 66, 67, 68, 69, 70, 71, 72, 73, 74, 75, 76, 77, 78, 79, 80, 81, 82, 83, 84, 85, 86, 87, 88, 89, 90, 91, 92, 93, 94, 95, 96, 97, 98, 99, 100, 101, 102, 103, 104, 105, 106, 107, 108, 109, 110, 111, 112, 113, 114, 115, 116, 117, 118, 119, 120, 121, 122, 123, 124, 125, 126, 127, 128, 129, 130, 131, 132, 133, 134, 135, 136, 137, 138, 139, 140, 141, 142, 143, 144, 145, 146, 147, 148, 149, 150, 151, 152, 153, 154, 155, 156, 157, 158, 159, 160, 161, 162, 163, 164, 165, 166, 167, 168, 169, 170, 171, 172, 173, 174, 175, 176, 177, 178, 179, 180, 181, 182, 183, 184, 185, 186, 187, 188, 189, 190, 191, 192, 193, 194, 195, 196, 197, 198, 199, 200, 201, 202, 203, 204, 205, 206, 207, 208, 209, 210, 211, 212, 213, 214, 215, 216, 217, 218, 219, 220, 221, 222, 223, 224, 225, 226, 227, 228, 229, 230, 231, 232, 233, 234, 235, 236, 237, 238, 239, 240, 241, 242, 243, 244, 245, 246, 247, 248, 249, 250, 251, 252, 253, 254, 255, 256, 257, 258, 259, 260, 261, 262, 263, 264, 265, 266, 267, 268, 269, 270, 271, 272, 273, 274, 275, 276, 277, 278, 279, 280, 281, 282, 283, 284, 285, 286, 287, 288, 289, 290, 291]\n",
            "[1, 2, 3, 4, 5, 6, 7, 8, 9, 10, 11, 12, 13, 14, 15, 16, 17, 18, 19, 20, 21, 22, 23, 24, 25, 26, 27, 28, 29, 30, 31, 32, 33, 34, 35, 36, 37, 38, 39, 40, 41, 42, 43, 44, 45, 46, 47, 48, 49, 50, 51, 52, 53, 54, 55, 56, 57, 58, 59, 60, 61, 62, 63, 64, 65, 66, 67, 68, 69, 70, 71, 72, 73, 74, 75, 76, 77, 78, 79, 80, 81, 82, 83, 84, 85, 86, 87, 88, 89, 90, 91, 92, 93, 94, 95, 96, 97, 98, 99, 100, 101, 102, 103, 104, 105, 106, 107, 108, 109, 110, 111, 112, 113, 114, 115, 116, 117, 118, 119, 120, 121, 122, 123, 124, 125, 126, 127, 128, 129, 130, 131, 132, 133, 134, 135, 136, 137, 138, 139, 140, 141, 142, 143, 144, 145, 146, 147, 148, 149, 150, 151, 152, 153, 154, 155, 156, 157, 158, 159, 160, 161, 162, 163, 164, 165, 166, 167, 168, 169, 170, 171, 172, 173, 174, 175, 176, 177, 178, 179, 180, 181, 182, 183, 184, 185, 186, 187, 188, 189, 190, 191, 192, 193, 194, 195, 196, 197, 198, 199, 200, 201, 202, 203, 204, 205, 206, 207, 208, 209, 210, 211, 212, 213, 214, 215, 216, 217, 218, 219, 220, 221, 222, 223, 224, 225, 226, 227, 228, 229, 230, 231, 232, 233, 234, 235, 236, 237, 238, 239, 240, 241, 242, 243, 244, 245, 246, 247, 248, 249, 250, 251, 252, 253, 254, 255, 256, 257, 258, 259, 260, 261, 262, 263, 264, 265, 266, 267, 268, 269, 270, 271, 272, 273, 274, 275, 276, 277, 278, 279, 280, 281, 282, 283, 284, 285, 286, 287, 288, 289, 290, 291]\n"
          ],
          "name": "stdout"
        }
      ]
    },
    {
      "cell_type": "code",
      "metadata": {
        "id": "xGem5Qao1cYz",
        "colab_type": "code",
        "colab": {}
      },
      "source": [
        "# load in labels \n",
        "# each file represents a trial so for us this could be anywhere between 1 and 4000 data points. \n",
        "# most often somewhere between 200-600\n",
        "raw_Y_set = []\n",
        "frame_num_in_Y_set = []\n",
        "for cnt1 in range(len(frames)):\n",
        "  tmp2 = scipy.io.loadmat(T_class_reordered[cnt1])\n",
        "  raw_Y_set.append(tmp2['touchClass'])\n",
        "  frame_num_in_Y_set.append(len(raw_Y_set[cnt1]))"
      ],
      "execution_count": 6,
      "outputs": []
    },
    {
      "cell_type": "markdown",
      "metadata": {
        "id": "nX1TKm3-yQrB",
        "colab_type": "text"
      },
      "source": [
        "## 1.2 Build Keras Image Generator \n",
        " "
      ]
    },
    {
      "cell_type": "code",
      "metadata": {
        "id": "JSWi7dJzeIDy",
        "colab_type": "code",
        "colab": {}
      },
      "source": [
        "# # test_img = dmatx[50, :, :, :]\n",
        "# # num_aug_ims = 100\n",
        "# # tmp1 = fux_wit_imgs(num_aug_ims, test_img)\n",
        "\n",
        "# def fux_wit_imgs(num_aug_ims, test_img):\n",
        "#   datagen = ImageDataGenerator(rotation_range=360, #\n",
        "#                               width_shift_range=.07, #\n",
        "#                               height_shift_range = .07, #\n",
        "#                               shear_range = 30,#\n",
        "#                               zoom_range = .24,\n",
        "#                               brightness_range=[0.75,1.25])#\n",
        "\n",
        "\n",
        "#   samples = np.expand_dims(test_img, 0)\n",
        "#   # prepare iterator\n",
        "#   it = datagen.flow(samples, batch_size=1)\n",
        "#   all_augment = samples\n",
        "#   for i in range(num_aug_ims):##\n",
        "#     # generate batch of images\n",
        "#     batch = it.next()\n",
        "#     # convert to unsigned integers for viewing\n",
        "#     image = batch[0].astype('uint8')\n",
        "#     # print(np.shape(all_augment))\n",
        "#     # print(np.shape(np.expand_dims(image, 0)))\n",
        "#     all_augment = np.append(all_augment, np.expand_dims(image, 0), 0)\n",
        "#   np.shape(all_augment)\n",
        "\n",
        "#   return all_augment"
      ],
      "execution_count": null,
      "outputs": []
    },
    {
      "cell_type": "code",
      "metadata": {
        "id": "429cn4jieNgQ",
        "colab_type": "code",
        "colab": {}
      },
      "source": [
        "class My_Custom_Generator(keras.utils.Sequence) :\n",
        "  \n",
        "  def __init__(self, file_trial_list, file_Y_list, num_in_each, batch_size, to_fit) :\n",
        "    cnt = 0\n",
        "    extract_inds = []\n",
        "    # num_in_each contains the number of frames in each file I am loading, ie\n",
        "    # for trial/file 1 there are 200 frames , trial/file 2 has 215 frames etc\n",
        "    for k, elem in enumerate(num_in_each) :\n",
        "      tot_frame_nums = sum(num_in_each[cnt: k+1]) # used to test if the number of frames in \n",
        "      # all these files exceded the \"batch_size\" limit \n",
        "      if tot_frame_nums>batch_size or len(num_in_each)-1 == k: # condition met, these files together \n",
        "      # meet the max requirment to load together as a batch \n",
        "        extract_inds.append([cnt, k+1])\n",
        "        cnt = k+1 # reset to the current iter\n",
        "        if np.diff(extract_inds[-1]) > 1: # if there is more than one file then we want to take off the last file \n",
        "        # because it excedes the set number of frames\n",
        "          extract_inds[-1][-1] = extract_inds[-1][-1]-1\n",
        "          cnt = cnt-1\n",
        "    \n",
        "    file_list_chunks = []\n",
        "    file_Y_list_chunks = []\n",
        "    for i, ii in enumerate(extract_inds):\n",
        "      file_list_chunks.append(file_trial_list[ii[0]:ii[1]])\n",
        "      file_Y_list_chunks.append(file_Y_list[ii[0]:ii[1]])\n",
        "\n",
        "    self.to_fit = to_fit #set to True to return XY and False to return X\n",
        "    self.file_trial_list = file_trial_list\n",
        "    self.file_Y_list = file_Y_list\n",
        "    self.batch_size = batch_size\n",
        "    self.extract_inds = extract_inds\n",
        "    self.num_in_each = num_in_each\n",
        "    self.file_list_chunks = file_list_chunks\n",
        "    self.file_Y_list_chunks = file_Y_list_chunks\n",
        "\n",
        "    \n",
        "  def __len__(self) :\n",
        "    return len(self.extract_inds)\n",
        "  \n",
        "  def __getitem__(self, num_2_extract) :\n",
        "    # raw_X, raw_Y = self._build_data(self.file_list_chunks[num_2_extract], \n",
        "    #                       self.file_Y_list_chunks[num_2_extract])\n",
        "    \n",
        "    raw_X = self._generate_X(self.file_list_chunks[num_2_extract])\n",
        "    \n",
        "    rgb_batch = np.repeat(raw_X[..., np.newaxis], 3, -1)\n",
        "    IMG_SIZE = 96 # All images will be resized to 160x160. This is the size of MobileNetV2 input sizes\n",
        "\n",
        "    rgb_tensor = tf.cast(rgb_batch, tf.float32) # convert to tf tensor with float32 dtypes\n",
        "    rgb_tensor = (rgb_tensor/127.5) - 1 # /127.5 = 0:2, -1 = -1:1 requirement for mobilenetV2\n",
        "    rgb_tensor = tf.image.resize(rgb_tensor, (IMG_SIZE, IMG_SIZE)) # resizing\n",
        "\n",
        "    self.IMG_SHAPE = (IMG_SIZE, IMG_SIZE, 3)\n",
        "    rgb_tensor_aug = rgb_tensor\n",
        "\n",
        "    # print(len(raw_Y))\n",
        "    # for i, ims in enumerate(rgb_tensor):\n",
        "    #   # print(i)\n",
        "    #   tmp1 = fux_wit_imgs(20, ims)\n",
        "    #   rgb_tensor_aug = np.append(rgb_tensor_aug, tmp1, 0)\n",
        "    \n",
        "    if self.to_fit:\n",
        "      raw_Y = self._generate_Y(self.file_Y_list_chunks[num_2_extract])\n",
        "      return rgb_tensor_aug, raw_Y\n",
        "    else:\n",
        "      return rgb_tensor_aug\n",
        "\n",
        "\n",
        "  # def _getitem__tmp(self, touch_aug_num, no_touch_aug_num)\n",
        "\n",
        "  def get_single_trials(self, num_2_extract) :\n",
        "      # raw_X, raw_Y = self._build_data([self.file_trial_list[num_2_extract]], \n",
        "      #                       [self.file_Y_list[num_2_extract]])\n",
        "      \n",
        "      raw_X = self._generate_X(self.file_list_chunks[num_2_extract])\n",
        "      raw_Y = self._generate_Y(self.file_Y_list_chunks[num_2_extract])\n",
        "\n",
        "      frame_index = scipy.io.loadmat(self.frame_ind_list[num_2_extract])\n",
        "      frame_index = frame_index['relevantIdx']\n",
        "      frame_index = frame_index[0]\n",
        "      rgb_batch = np.repeat(raw_X[..., np.newaxis], 3, -1)\n",
        "      IMG_SIZE = 96 # All images will be resized to 160x160. This is the size of MobileNetV2 input sizes\n",
        "\n",
        "      rgb_tensor = tf.cast(rgb_batch, tf.float32) # convert to tf tensor with float32 dtypes\n",
        "      rgb_tensor = (rgb_tensor/127.5) - 1 # /127.5 = 0:2, -1 = -1:1 requirement for mobilenetV2\n",
        "      rgb_tensor = tf.image.resize(rgb_tensor, (IMG_SIZE, IMG_SIZE)) # resizing\n",
        "\n",
        "      self.IMG_SHAPE = (IMG_SIZE, IMG_SIZE, 3)\n",
        "      rgb_tensor_aug = rgb_tensor\n",
        "      # print(len(raw_Y))\n",
        "      # for i, ims in enumerate(rgb_tensor):\n",
        "      #   print(i)\n",
        "      #   tmp1 = fux_wit_imgs(20, ims)\n",
        "      #   rgb_tensor_aug = np.append(rgb_tensor_aug, tmp1, 0)\n",
        "      return rgb_tensor_aug, raw_Y\n",
        "    \n",
        "      # return rgb_tensor, raw_Y, frame_index#, trial_file_num\n",
        "  # Function to generate an image tensor and corresponding label array\n",
        "\n",
        "  def _build_data(self, x_files, y_files) :\n",
        "    \"\"\"Phils original build data structure used to generate X and Y together. It has been broken down into _generate_X and _generate_Y. Delete ASAP\"\"\" \n",
        "    cnt1 = -1;\n",
        "\n",
        "    for k in range(len(y_files)):\n",
        "      cnt1 = cnt1 + 1\n",
        "      tmp1 = scipy.io.loadmat(x_files[cnt1])\n",
        "      tmp2 = scipy.io.loadmat(y_files[cnt1])\n",
        "\n",
        "      Xtmp = tmp1['finalMat']\n",
        "      Ytmp = tmp2['touchClass']\n",
        "      if cnt1==0:\n",
        "        raw_X = Xtmp\n",
        "        raw_Y = Ytmp\n",
        "      else:\n",
        "\n",
        "        raw_X = np.concatenate((raw_X,Xtmp), axis=0)\n",
        "        raw_Y = np.concatenate((raw_Y,Ytmp), axis=0)\n",
        "\n",
        "    return raw_X, raw_Y\n",
        "\n",
        "  def _generate_X(self, x_files) :\n",
        "    cnt1 = -1;\n",
        "\n",
        "    for k in range(len(x_files)):\n",
        "      cnt1 = cnt1 + 1\n",
        "      tmp1 = scipy.io.loadmat(x_files[cnt1])\n",
        "      Xtmp = tmp1['finalMat']\n",
        "      \n",
        "      if cnt1==0:\n",
        "        raw_X = Xtmp      \n",
        "      else:\n",
        "        raw_X = np.concatenate((raw_X,Xtmp), axis=0)\n",
        "        \n",
        "    return raw_X\n",
        "    \n",
        "  def _generate_Y(self, y_files) :\n",
        "    cnt1 = -1;\n",
        "\n",
        "    for k in range(len(y_files)):\n",
        "      cnt1 = cnt1 + 1\n",
        "      tmp2 = scipy.io.loadmat(y_files[cnt1])\n",
        "\n",
        "      Ytmp = tmp2['touchClass']\n",
        "      if cnt1==0:\n",
        "        raw_Y = Ytmp\n",
        "      else:\n",
        "        raw_Y = np.concatenate((raw_Y,Ytmp), axis=0)\n",
        "\n",
        "    return raw_Y\n",
        "  def plot_batch_distribution(self):\n",
        "      # randomly select a batch and generate images and labels\n",
        "      batch_num = np.random.choice(np.arange(0, len(self.file_list_chunks)))\n",
        "      samp_x, samp_y = self.__getitem__(batch_num)\n",
        "\n",
        "      # look at the distribution of classes\n",
        "      plt.pie([1 - np.mean(samp_y), np.mean(samp_y)],\n",
        "              labels=['non-touch frames', 'touch frames'], autopct='%1.1f%%', )\n",
        "      plt.title('class distribution from batch ' + str(batch_num))\n",
        "      plt.show()\n",
        "\n",
        "      # generate indices for positive and negative classes\n",
        "      images_to_sample = 20\n",
        "      neg_class = [i for i, val in enumerate(samp_y) if val == 0]\n",
        "      pos_class = [i for i, val in enumerate(samp_y) if val == 1]\n",
        "      neg_index = np.random.choice(neg_class, images_to_sample)\n",
        "      pos_index = np.random.choice(pos_class, images_to_sample)\n",
        "\n",
        "      # plot sample positive and negative class images\n",
        "      plt.figure(figsize=(10, 10))\n",
        "      for i in range(images_to_sample):\n",
        "          plt.subplot(5, 10, i + 1)\n",
        "          plt.xticks([])\n",
        "          plt.yticks([])\n",
        "          plt.grid(False)\n",
        "          _ = plt.imshow(image_transform(samp_x[neg_index[i]]))\n",
        "          plt.xlabel('0')\n",
        "\n",
        "          plt.subplot(5, 10, images_to_sample + i + 1)\n",
        "          plt.xticks([])\n",
        "          plt.yticks([])\n",
        "          plt.grid(False)\n",
        "          plt.imshow(image_transform(samp_x[pos_index[i]]))\n",
        "          plt.xlabel('1')\n",
        "      plt.suptitle('sample images from batch  ' + str(batch_num))\n",
        "      plt.show()"
      ],
      "execution_count": 7,
      "outputs": []
    },
    {
      "cell_type": "code",
      "metadata": {
        "id": "Qa2BV1BoRDJM",
        "colab_type": "code",
        "colab": {
          "base_uri": "https://localhost:8080/",
          "height": 34
        },
        "outputId": "94fc7af7-f287-476a-fc41-23cd4cf0fe47"
      },
      "source": [
        "# Data splits to train/test/validation sets \n",
        "\n",
        "# *** need to get actual data split here\n",
        "batch_size = 2000\n",
        "validate_fraction = .3\n",
        "\n",
        "# for now we will split based on num files not number of frames becasue its easier and shouldnt make\n",
        "#  too much of a difference -- can fix later if we care to \n",
        "mixed_inds = np.random.choice(len(frames), len(frames), replace=False)\n",
        "validate_count = round(validate_fraction*len(frames))\n",
        "T_inds = mixed_inds[validate_count+1:-1]\n",
        "# T_inds = [frames[k] for k in T_inds]\n",
        "v_inds = mixed_inds[0:validate_count]\n",
        "# v_inds = [frames[k] for k in v_inds]\n",
        "\n",
        "my_training_batch_generator = My_Custom_Generator([frames[k] for k in T_inds],\n",
        "                                                  [T_class_reordered[k] for k in T_inds],\n",
        "                                                  [frame_num_in_Y_set[k] for k in T_inds],\n",
        "                                                  batch_size,\n",
        "                                                  to_fit = True)\n",
        "my_validation_batch_generator = My_Custom_Generator([frames[k] for k in v_inds],\n",
        "                                                    [T_class_reordered[k] for k in v_inds],\n",
        "                                                    [frame_num_in_Y_set[k] for k in v_inds],\n",
        "                                                    batch_size,\n",
        "                                                    to_fit = True)\n",
        "\n",
        "my_test_batch_generator = My_Custom_Generator([frames[k] for k in v_inds],\n",
        "                                                    [],\n",
        "                                                    [frame_num_in_Y_set[k] for k in v_inds],\n",
        "                                                    batch_size,\n",
        "                                                    to_fit = False)\n",
        "print(len(frames))\n"
      ],
      "execution_count": 9,
      "outputs": [
        {
          "output_type": "stream",
          "text": [
            "291\n"
          ],
          "name": "stdout"
        }
      ]
    },
    {
      "cell_type": "markdown",
      "metadata": {
        "id": "uAQfCvkC2uPD",
        "colab_type": "text"
      },
      "source": [
        "#2) Exploratory Data Analysis\n",
        "\n",
        "We're going to take a look at the distribution of classes and some sample images in randomly selected batches to ensure data quality.  "
      ]
    },
    {
      "cell_type": "code",
      "metadata": {
        "id": "HX-pqjwr6wrz",
        "colab_type": "code",
        "colab": {}
      },
      "source": [
        "# image transform from [-1 1] back to [0 255] for imshow\n",
        "def image_transform(x):\n",
        "  image = tf.cast((x + 1) * 127.5, tf.uint8)\n",
        "  return image"
      ],
      "execution_count": 10,
      "outputs": []
    },
    {
      "cell_type": "code",
      "metadata": {
        "id": "ISto1VtxD5sR",
        "colab_type": "code",
        "colab": {
          "base_uri": "https://localhost:8080/",
          "height": 264
        },
        "outputId": "10adde14-a79f-405b-9713-dd51d6114a9e"
      },
      "source": [
        "# population distribution of data\n",
        "total_touch_frames = np.sum([np.sum(k) for k in raw_Y_set]) \n",
        "total_non_touch_frames = np.sum([np.sum(k==0) for k in raw_Y_set]) \n",
        "total_frames = np.sum(frame_num_in_Y_set)\n",
        "\n",
        "population = np.array([total_non_touch_frames,total_touch_frames]) / total_frames\n",
        "plt.pie(population,\n",
        "        labels=['non-touch frames', 'touch frames'], autopct='%1.1f%%',)\n",
        "plt.title('class distribution across population (n=' + str(total_frames) + ' frames)')\n",
        "plt.show()"
      ],
      "execution_count": 9,
      "outputs": [
        {
          "output_type": "display_data",
          "data": {
            "image/png": "[encoded data removed]",
            "text/plain": [
              "<Figure size 432x288 with 1 Axes>"
            ]
          },
          "metadata": {
            "tags": []
          }
        }
      ]
    },
    {
      "cell_type": "code",
      "metadata": {
        "id": "mZgvKS5GQtAi",
        "colab_type": "code",
        "colab": {
          "base_uri": "https://localhost:8080/",
          "height": 772
        },
        "outputId": "2541b968-38e1-4325-96cd-f01976551991"
      },
      "source": [
        "# look at distribution of data and some sample images \n",
        "my_training_batch_generator.plot_batch_distribution()"
      ],
      "execution_count": 11,
      "outputs": [
        {
          "output_type": "display_data",
          "data": {
            "image/png": "[encoded data removed]",
            "text/plain": [
              "<Figure size 432x288 with 1 Axes>"
            ]
          },
          "metadata": {
            "tags": []
          }
        },
        {
          "output_type": "display_data",
          "data": {
            "image/png": "[encoded data removed]",
            "text/plain": [
              "<Figure size 720x720 with 40 Axes>"
            ]
          },
          "metadata": {
            "tags": []
          }
        }
      ]
    },
    {
      "cell_type": "markdown",
      "metadata": {
        "id": "TQKE1y9YBVyQ",
        "colab_type": "text"
      },
      "source": [
        "# 3) Feature engineering?\n"
      ]
    },
    {
      "cell_type": "code",
      "metadata": {
        "id": "L0LNCqs96cO2",
        "colab_type": "code",
        "colab": {}
      },
      "source": [
        "# Y vectorization and class weight calculation \n",
        "to_del = 0\n",
        "start = time.time()\n",
        "\n",
        "cnt1 = -1;\n",
        "mem_free = 9999\n",
        "y_files = my_training_batch_generator.file_Y_list\n",
        "for k in range(len(y_files)):\n",
        "  cnt1 = cnt1 + 1\n",
        "  tmp2 = scipy.io.loadmat(y_files[cnt1])\n",
        "\n",
        "  Ytmp = tmp2['touchClass']\n",
        "  if cnt1==0:\n",
        "    raw_Y_2 = Ytmp\n",
        "  else:\n",
        "    raw_Y_2 = np.concatenate((raw_Y_2,Ytmp), axis=0)\n"
      ],
      "execution_count": 12,
      "outputs": []
    },
    {
      "cell_type": "markdown",
      "metadata": {
        "id": "JIWvXzxw37a7",
        "colab_type": "text"
      },
      "source": [
        "# 4) Deploy and selection of base model\n",
        "In this section we're going to use MobileNetV2 as the base model.\n",
        "We're going to run two variations of the model.  \n",
        "a. basemodel with frozen layers and output classifer changes   \n",
        "b. basemodel with final 100 layers unfrozen to optimize prediction \n"
      ]
    },
    {
      "cell_type": "code",
      "metadata": {
        "id": "xOfFjdZbqXoS",
        "colab_type": "code",
        "colab": {
          "base_uri": "https://localhost:8080/",
          "height": 377
        },
        "outputId": "199ad65a-cbd3-460f-c4ec-65542823899a"
      },
      "source": [
        "# Create base model \n",
        "\n",
        "# First, instantiate a MobileNet V2 model pre-loaded with weights trained on ImageNet. By specifying the include_top=False argument, \n",
        "# you load a network that doesn't include the classification layers at the top, which is ideal for feature extraction\n",
        "\n",
        "# Create the base model from the pre-trained model MobileNet V2\n",
        "IMG_SIZE = 96 # All images will be resized to 96x96. This is the size of MobileNetV2 input sizes\n",
        "IMG_SHAPE = (IMG_SIZE, IMG_SIZE, 3)\n",
        "\n",
        "base_model = tf.keras.applications.MobileNetV2(input_shape=IMG_SHAPE,\n",
        "                                               include_top=False,\n",
        "                                               weights='imagenet')\n",
        "\n",
        "base_model.trainable = False\n",
        "\n",
        "feature_batch = base_model.output\n",
        "print(feature_batch.shape)\n",
        "\n",
        "# Adding Classification head\n",
        "global_average_layer = tf.keras.layers.GlobalAveragePooling2D()\n",
        "feature_batch_average = global_average_layer(feature_batch)\n",
        "print(feature_batch_average.shape)\n",
        "\n",
        "prediction_layer = tf.keras.layers.Dense(1, activation='sigmoid')\n",
        "prediction_batch = prediction_layer(feature_batch_average)\n",
        "print(prediction_batch.shape)\n",
        "\n",
        "# Model Stacking\n",
        "model = tf.keras.Sequential([\n",
        "  base_model,\n",
        "  global_average_layer,\n",
        "  prediction_layer\n",
        "])\n",
        "\n",
        "print(model.summary())\n",
        "\n",
        "# Compile model with specific metrics\n",
        "# Metrics below are for evaluating imbalanced datasets\n",
        "METRICS = [\n",
        "      keras.metrics.TruePositives(name='tp'),\n",
        "      keras.metrics.FalsePositives(name='fp'),\n",
        "      keras.metrics.TrueNegatives(name='tn'),\n",
        "      keras.metrics.FalseNegatives(name='fn'), \n",
        "      keras.metrics.Precision(name='precision'),\n",
        "      keras.metrics.Recall(name='recall'),\n",
        "      keras.metrics.AUC(name = 'auc')\n",
        "]\n",
        "\n",
        "base_learning_rate = 0.0001\n",
        "model.compile(optimizer=tf.keras.optimizers.RMSprop(lr=base_learning_rate),\n",
        "              loss=tf.keras.losses.BinaryCrossentropy(),\n",
        "              metrics=METRICS)\n"
      ],
      "execution_count": 13,
      "outputs": [
        {
          "output_type": "stream",
          "text": [
            "Downloading data from https://storage.googleapis.com/tensorflow/keras-applications/mobilenet_v2/mobilenet_v2_weights_tf_dim_ordering_tf_kernels_1.0_96_no_top.h5\n",
            "9412608/9406464 [==============================] - 0s 0us/step\n",
            "(None, 3, 3, 1280)\n",
            "(None, 1280)\n",
            "(None, 1)\n",
            "Model: \"sequential\"\n",
            "_________________________________________________________________\n",
            "Layer (type)                 Output Shape              Param #   \n",
            "=================================================================\n",
            "mobilenetv2_1.00_96 (Functio (None, 3, 3, 1280)        2257984   \n",
            "_________________________________________________________________\n",
            "global_average_pooling2d (Gl (None, 1280)              0         \n",
            "_________________________________________________________________\n",
            "dense (Dense)                (None, 1)                 1281      \n",
            "=================================================================\n",
            "Total params: 2,259,265\n",
            "Trainable params: 1,281\n",
            "Non-trainable params: 2,257,984\n",
            "_________________________________________________________________\n",
            "None\n"
          ],
          "name": "stdout"
        }
      ]
    },
    {
      "cell_type": "code",
      "metadata": {
        "colab_type": "code",
        "id": "gt0G74FsB6_i",
        "colab": {
          "base_uri": "https://localhost:8080/",
          "height": 768
        },
        "outputId": "99a49e0c-5399-43f6-cd57-48c82acd7cdd"
      },
      "source": [
        "start = time.time()\n",
        "\n",
        "# Fit model with a couple parameters\n",
        "EPOCHS = 40\n",
        "\n",
        "# Class imbalance weighting\n",
        "rebalance = class_weight.compute_class_weight('balanced',\n",
        "                                  [0, 1], raw_Y_2.flatten())\n",
        "class_weights = {i : rebalance[i] for i in range(2)}\n",
        "\n",
        "# Early stopping \n",
        "callbacks = [keras.callbacks.EarlyStopping (monitor = 'val_loss',\n",
        "                                            patience = 2)]\n",
        "\n",
        "history = model.fit(my_training_batch_generator, epochs=EPOCHS,\n",
        "              validation_data= my_validation_batch_generator,\n",
        "              callbacks = callbacks,\n",
        "              class_weight = class_weights)\n",
        "\n",
        "\n",
        "total_seconds = time.time() - start\n",
        "print('total run time :' + str(round(total_seconds/60)), ' minutes')\n",
        "\n",
        "todays_version = time.strftime(\"%Y%m%d\", time.gmtime())\n",
        "end_dir = model_save_dir + '/' + 'cp-final-' + todays_version +'.ckpt'\n",
        "model.save_weights(end_dir)"
      ],
      "execution_count": 13,
      "outputs": [
        {
          "output_type": "stream",
          "text": [
            "Epoch 1/40\n",
            "159/159 [==============================] - 415s 3s/step - loss: 0.5260 - tp: 49041.0000 - fp: 57532.0000 - tn: 163853.0000 - fn: 11717.0000 - precision: 0.4602 - recall: 0.8072 - auc: 0.8646 - val_loss: 0.4315 - val_tp: 24734.0000 - val_fp: 14496.0000 - val_tn: 83854.0000 - val_fn: 2383.0000 - val_precision: 0.6305 - val_recall: 0.9121 - val_auc: 0.9490\n",
            "Epoch 2/40\n",
            "159/159 [==============================] - 112s 706ms/step - loss: 0.3816 - tp: 56778.0000 - fp: 35129.0000 - tn: 186256.0000 - fn: 3980.0000 - precision: 0.6178 - recall: 0.9345 - auc: 0.9542 - val_loss: 0.3387 - val_tp: 26132.0000 - val_fp: 11142.0000 - val_tn: 87208.0000 - val_fn: 985.0000 - val_precision: 0.7011 - val_recall: 0.9637 - val_auc: 0.9705\n",
            "Epoch 3/40\n",
            "159/159 [==============================] - 114s 718ms/step - loss: 0.2978 - tp: 58292.0000 - fp: 25010.0000 - tn: 196375.0000 - fn: 2466.0000 - precision: 0.6998 - recall: 0.9594 - auc: 0.9693 - val_loss: 0.3083 - val_tp: 26738.0000 - val_fp: 11593.0000 - val_tn: 86757.0000 - val_fn: 379.0000 - val_precision: 0.6976 - val_recall: 0.9860 - val_auc: 0.9772\n",
            "Epoch 4/40\n",
            "159/159 [==============================] - 113s 710ms/step - loss: 0.2495 - tp: 59285.0000 - fp: 22167.0000 - tn: 199218.0000 - fn: 1473.0000 - precision: 0.7279 - recall: 0.9758 - auc: 0.9759 - val_loss: 0.2390 - val_tp: 26536.0000 - val_fp: 9014.0000 - val_tn: 89336.0000 - val_fn: 581.0000 - val_precision: 0.7464 - val_recall: 0.9786 - val_auc: 0.9806\n",
            "Epoch 5/40\n",
            "159/159 [==============================] - 112s 706ms/step - loss: 0.2161 - tp: 59318.0000 - fp: 19686.0000 - tn: 201699.0000 - fn: 1440.0000 - precision: 0.7508 - recall: 0.9763 - auc: 0.9786 - val_loss: 0.2398 - val_tp: 26804.0000 - val_fp: 9775.0000 - val_tn: 88575.0000 - val_fn: 313.0000 - val_precision: 0.7328 - val_recall: 0.9885 - val_auc: 0.9831\n",
            "Epoch 6/40\n",
            "159/159 [==============================] - 113s 708ms/step - loss: 0.1968 - tp: 59439.0000 - fp: 19222.0000 - tn: 202163.0000 - fn: 1319.0000 - precision: 0.7556 - recall: 0.9783 - auc: 0.9808 - val_loss: 0.2032 - val_tp: 26711.0000 - val_fp: 8293.0000 - val_tn: 90057.0000 - val_fn: 406.0000 - val_precision: 0.7631 - val_recall: 0.9850 - val_auc: 0.9849\n",
            "Epoch 7/40\n",
            "159/159 [==============================] - 111s 696ms/step - loss: 0.1793 - tp: 59476.0000 - fp: 17667.0000 - tn: 203718.0000 - fn: 1282.0000 - precision: 0.7710 - recall: 0.9789 - auc: 0.9828 - val_loss: 0.1901 - val_tp: 26745.0000 - val_fp: 7827.0000 - val_tn: 90523.0000 - val_fn: 372.0000 - val_precision: 0.7736 - val_recall: 0.9863 - val_auc: 0.9864\n",
            "Epoch 8/40\n",
            "159/159 [==============================] - 113s 708ms/step - loss: 0.1683 - tp: 59495.0000 - fp: 16534.0000 - tn: 204851.0000 - fn: 1263.0000 - precision: 0.7825 - recall: 0.9792 - auc: 0.9837 - val_loss: 0.1866 - val_tp: 26799.0000 - val_fp: 7785.0000 - val_tn: 90565.0000 - val_fn: 318.0000 - val_precision: 0.7749 - val_recall: 0.9883 - val_auc: 0.9875\n",
            "Epoch 9/40\n",
            "159/159 [==============================] - 112s 702ms/step - loss: 0.1588 - tp: 59528.0000 - fp: 15625.0000 - tn: 205760.0000 - fn: 1230.0000 - precision: 0.7921 - recall: 0.9798 - auc: 0.9848 - val_loss: 0.1777 - val_tp: 26807.0000 - val_fp: 7383.0000 - val_tn: 90967.0000 - val_fn: 310.0000 - val_precision: 0.7841 - val_recall: 0.9886 - val_auc: 0.9885\n",
            "Epoch 10/40\n",
            "159/159 [==============================] - 112s 702ms/step - loss: 0.1501 - tp: 59571.0000 - fp: 14401.0000 - tn: 206984.0000 - fn: 1187.0000 - precision: 0.8053 - recall: 0.9805 - auc: 0.9856 - val_loss: 0.1769 - val_tp: 26847.0000 - val_fp: 7365.0000 - val_tn: 90985.0000 - val_fn: 270.0000 - val_precision: 0.7847 - val_recall: 0.9900 - val_auc: 0.9893\n",
            "Epoch 11/40\n",
            "159/159 [==============================] - 112s 703ms/step - loss: 0.1428 - tp: 59651.0000 - fp: 13816.0000 - tn: 207569.0000 - fn: 1107.0000 - precision: 0.8119 - recall: 0.9818 - auc: 0.9867 - val_loss: 0.1618 - val_tp: 26821.0000 - val_fp: 6726.0000 - val_tn: 91624.0000 - val_fn: 296.0000 - val_precision: 0.7995 - val_recall: 0.9891 - val_auc: 0.9898\n",
            "Epoch 12/40\n",
            "159/159 [==============================] - 111s 698ms/step - loss: 0.1372 - tp: 59615.0000 - fp: 13037.0000 - tn: 208348.0000 - fn: 1143.0000 - precision: 0.8206 - recall: 0.9812 - auc: 0.9873 - val_loss: 0.1618 - val_tp: 26842.0000 - val_fp: 6732.0000 - val_tn: 91618.0000 - val_fn: 275.0000 - val_precision: 0.7995 - val_recall: 0.9899 - val_auc: 0.9904\n",
            "Epoch 13/40\n",
            "159/159 [==============================] - 111s 698ms/step - loss: 0.1328 - tp: 59667.0000 - fp: 12624.0000 - tn: 208761.0000 - fn: 1091.0000 - precision: 0.8254 - recall: 0.9820 - auc: 0.9876 - val_loss: 0.1564 - val_tp: 26847.0000 - val_fp: 6500.0000 - val_tn: 91850.0000 - val_fn: 270.0000 - val_precision: 0.8051 - val_recall: 0.9900 - val_auc: 0.9908\n",
            "Epoch 14/40\n",
            "159/159 [==============================] - 112s 702ms/step - loss: 0.1281 - tp: 59631.0000 - fp: 11976.0000 - tn: 209409.0000 - fn: 1127.0000 - precision: 0.8328 - recall: 0.9815 - auc: 0.9883 - val_loss: 0.1553 - val_tp: 26868.0000 - val_fp: 6422.0000 - val_tn: 91928.0000 - val_fn: 249.0000 - val_precision: 0.8071 - val_recall: 0.9908 - val_auc: 0.9913\n",
            "Epoch 15/40\n",
            "159/159 [==============================] - 112s 702ms/step - loss: 0.1241 - tp: 59705.0000 - fp: 11890.0000 - tn: 209495.0000 - fn: 1053.0000 - precision: 0.8339 - recall: 0.9827 - auc: 0.9888 - val_loss: 0.1378 - val_tp: 26813.0000 - val_fp: 5673.0000 - val_tn: 92677.0000 - val_fn: 304.0000 - val_precision: 0.8254 - val_recall: 0.9888 - val_auc: 0.9915\n",
            "Epoch 16/40\n",
            "159/159 [==============================] - 111s 699ms/step - loss: 0.1203 - tp: 59622.0000 - fp: 10941.0000 - tn: 210444.0000 - fn: 1136.0000 - precision: 0.8449 - recall: 0.9813 - auc: 0.9890 - val_loss: 0.1500 - val_tp: 26888.0000 - val_fp: 6127.0000 - val_tn: 92223.0000 - val_fn: 229.0000 - val_precision: 0.8144 - val_recall: 0.9916 - val_auc: 0.9918\n",
            "Epoch 17/40\n",
            "159/159 [==============================] - 111s 701ms/step - loss: 0.1187 - tp: 59703.0000 - fp: 11057.0000 - tn: 210328.0000 - fn: 1055.0000 - precision: 0.8437 - recall: 0.9826 - auc: 0.9893 - val_loss: 0.1323 - val_tp: 26833.0000 - val_fp: 5350.0000 - val_tn: 93000.0000 - val_fn: 284.0000 - val_precision: 0.8338 - val_recall: 0.9895 - val_auc: 0.9921\n",
            "Epoch 18/40\n",
            "159/159 [==============================] - 110s 695ms/step - loss: 0.1162 - tp: 59711.0000 - fp: 10818.0000 - tn: 210567.0000 - fn: 1047.0000 - precision: 0.8466 - recall: 0.9828 - auc: 0.9896 - val_loss: 0.1292 - val_tp: 26834.0000 - val_fp: 5198.0000 - val_tn: 93152.0000 - val_fn: 283.0000 - val_precision: 0.8377 - val_recall: 0.9896 - val_auc: 0.9923\n",
            "Epoch 19/40\n",
            "159/159 [==============================] - 111s 697ms/step - loss: 0.1133 - tp: 59710.0000 - fp: 10490.0000 - tn: 210895.0000 - fn: 1048.0000 - precision: 0.8506 - recall: 0.9828 - auc: 0.9900 - val_loss: 0.1213 - val_tp: 26802.0000 - val_fp: 4825.0000 - val_tn: 93525.0000 - val_fn: 315.0000 - val_precision: 0.8474 - val_recall: 0.9884 - val_auc: 0.9925\n",
            "Epoch 20/40\n",
            "159/159 [==============================] - 111s 697ms/step - loss: 0.1117 - tp: 59726.0000 - fp: 10245.0000 - tn: 211140.0000 - fn: 1032.0000 - precision: 0.8536 - recall: 0.9830 - auc: 0.9901 - val_loss: 0.1271 - val_tp: 26847.0000 - val_fp: 5057.0000 - val_tn: 93293.0000 - val_fn: 270.0000 - val_precision: 0.8415 - val_recall: 0.9900 - val_auc: 0.9927\n",
            "Epoch 21/40\n",
            "159/159 [==============================] - 111s 696ms/step - loss: 0.1101 - tp: 59730.0000 - fp: 10068.0000 - tn: 211317.0000 - fn: 1028.0000 - precision: 0.8558 - recall: 0.9831 - auc: 0.9902 - val_loss: 0.1266 - val_tp: 26856.0000 - val_fp: 4997.0000 - val_tn: 93353.0000 - val_fn: 261.0000 - val_precision: 0.8431 - val_recall: 0.9904 - val_auc: 0.9929\n",
            "total run time :45  minutes\n"
          ],
          "name": "stdout"
        }
      ]
    },
    {
      "cell_type": "code",
      "metadata": {
        "id": "Z0H_uQQFU8Zo",
        "colab_type": "code",
        "colab": {
          "base_uri": "https://localhost:8080/",
          "height": 34
        },
        "outputId": "fdac0a26-d5ae-4080-e43b-11398642b24f"
      },
      "source": [
        "\n",
        "\n",
        "latest = tf.train.latest_checkpoint(model_save_dir)\n",
        "model.load_weights(latest)\n",
        "# model.save('/content/gdrive/My Drive/Colab data/model_200906_400_000_imgs_2.h5')\n",
        "# model.load_weights('/content/gdrive/My Drive/Colab data/model_200906_400_000_imgs.h5')\n"
      ],
      "execution_count": 14,
      "outputs": [
        {
          "output_type": "execute_result",
          "data": {
            "text/plain": [
              "<tensorflow.python.training.tracking.util.CheckpointLoadStatus at 0x7f92e3057ac8>"
            ]
          },
          "metadata": {
            "tags": []
          },
          "execution_count": 14
        }
      ]
    },
    {
      "cell_type": "markdown",
      "metadata": {
        "id": "ob4GCg-USBl_",
        "colab_type": "text"
      },
      "source": [
        "## 4.1) Model learning evaluation \n",
        "\n",
        "Here we'll look at metrics of loss, AUC, precision, and recall across epochs of learning \n",
        "\n",
        " "
      ]
    },
    {
      "cell_type": "code",
      "metadata": {
        "id": "TMGd5RW2VDaz",
        "colab_type": "code",
        "colab": {
          "base_uri": "https://localhost:8080/",
          "height": 509
        },
        "outputId": "c0a02a76-b3b3-4834-ffd5-0b8f85379365"
      },
      "source": [
        "# Overall model evaluation\n",
        "colors = plt.rcParams['axes.prop_cycle'].by_key()['color']\n",
        "def plot_metrics(history):\n",
        "  metrics =  ['loss', 'auc', 'precision', 'recall']\n",
        "  fig = plt.figure(figsize=(8, 7))\n",
        "  plt.rcParams.update({'font.size':12})\n",
        "  for n, metric in enumerate(metrics):\n",
        "    name = metric.replace(\"_\",\" \").capitalize()\n",
        "    plt.subplot(2,2,n+1)\n",
        "    plt.plot(history.epoch,  history.history[metric], color=colors[0], label='Train')\n",
        "    plt.plot(history.epoch, history.history['val_'+metric],\n",
        "             color=colors[0], linestyle=\"--\", label='Val')\n",
        "    plt.xlabel('Epoch')\n",
        "    plt.ylabel(name)\n",
        "    if metric == 'loss':\n",
        "      plt.ylim([0, plt.ylim()[1]])\n",
        "    elif metric == 'auc':\n",
        "      plt.ylim([0.8,1])\n",
        "    else:\n",
        "      plt.ylim([0,1.1])\n",
        "\n",
        "    plt.legend()\n",
        "    plt.tight_layout()\n",
        "\n",
        "plot_metrics(history)"
      ],
      "execution_count": 71,
      "outputs": [
        {
          "output_type": "display_data",
          "data": {
            "image/png": "[encoded data removed]",
            "text/plain": [
              "<Figure size 576x504 with 4 Axes>"
            ]
          },
          "metadata": {
            "tags": [],
            "needs_background": "light"
          }
        }
      ]
    },
    {
      "cell_type": "code",
      "metadata": {
        "id": "Z2ei_oK9x3SV",
        "colab_type": "code",
        "colab": {
          "base_uri": "https://localhost:8080/",
          "height": 460
        },
        "outputId": "054403e6-60a3-47d6-b2e6-4394e1a5a88f"
      },
      "source": [
        "# Confusion matrix last epoch \n",
        "def plot_confusion_matrix(history, epoch):\n",
        "  fig = plt.figure(figsize = (6,6))\n",
        "  plt.rcParams.update({'font.size':14})\n",
        "  plt.tight_layout()\n",
        "\n",
        "  total_samples= history.history['tp'][epoch] + history.history['fp'][epoch] + history.history['tn'][epoch] + history.history['fn'][epoch]\n",
        "  values = np.array([[history.history['tp'][epoch], history.history['fp'][epoch]],\n",
        "                      [history.history['fn'][epoch], history.history['tn'][epoch]]]) / total_samples\n",
        "  for i in range(2):\n",
        "      for j in range(2):\n",
        "          text = plt.text(j, i, round(values[i, j],2),\n",
        "                        ha=\"center\", va=\"center\", color=\"w\")\n",
        "\n",
        "  im = plt.imshow(values,cmap='bone',vmin=0, vmax=1)\n",
        "  plt.yticks([0,1],labels=['Pred O', 'Pred X'])\n",
        "  plt.xticks([0,1],labels = ['True O', 'True X'],rotation=45)\n",
        "  plt.title('Final epoch performance')\n",
        "  plt.show\n",
        "  return values\n",
        "\n",
        "plot_confusion_matrix(history,-1)"
      ],
      "execution_count": 72,
      "outputs": [
        {
          "output_type": "execute_result",
          "data": {
            "text/plain": [
              "array([[0.20794153, 0.03614687],\n",
              "       [0.00452375, 0.75138785]])"
            ]
          },
          "metadata": {
            "tags": []
          },
          "execution_count": 72
        },
        {
          "output_type": "display_data",
          "data": {
            "image/png": "[encoded data removed]",
            "text/plain": [
              "<Figure size 432x432 with 1 Axes>"
            ]
          },
          "metadata": {
            "tags": [],
            "needs_background": "light"
          }
        }
      ]
    },
    {
      "cell_type": "code",
      "metadata": {
        "id": "2wvNNdWv3BeC",
        "colab_type": "code",
        "colab": {
          "base_uri": "https://localhost:8080/",
          "height": 367
        },
        "outputId": "aed33888-51a6-4893-8087-176445bda135"
      },
      "source": [
        "# load all validation data and get distribution of probability differences\n",
        "accumulator = np.array([])\n",
        "for batch_num in np.arange(0,len(my_training_batch_generator.file_list_chunks)):\n",
        "  dmatx, dmaty = my_training_batch_generator.__getitem__(batch_num)\n",
        "  # mem_breakdown_and_big_vars(locals()) #check to see memory consumption \n",
        "  # predict using the trained model and calculate difference from target\n",
        "  # prob_diff: positive values are false negatives, negative values are false positives \n",
        "  predy = model.predict(dmatx)\n",
        "  prob_diff = dmaty - predy\n",
        "  accumulator = np.concatenate((accumulator,prob_diff[:,0]))\n",
        "\n",
        "plt.figure(figsize=(6,5))\n",
        "plt.xlim([-1, 1])\n",
        "plt.xticks(np.linspace(-1,1,5))\n",
        "plt.xlabel('FP -------TN--------TP-------- FN')\n",
        "plt.ylabel('Number of images')\n",
        "plt.title('Training set predictions')\n",
        "l = plt.hist(accumulator,bins=np.linspace(-1,1,17))\n",
        "for k in np.array([-.5,0,.5]):\n",
        "  plt.plot([k, k],[0, max(l[0])*1.2],color='k',linestyle='--')\n",
        "plt.ylim([0, max(l[0])*1.2])\n",
        "plt.show"
      ],
      "execution_count": 15,
      "outputs": [
        {
          "output_type": "execute_result",
          "data": {
            "text/plain": [
              "<function matplotlib.pyplot.show>"
            ]
          },
          "metadata": {
            "tags": []
          },
          "execution_count": 15
        },
        {
          "output_type": "display_data",
          "data": {
            "image/png": "[encoded data removed]",
            "text/plain": [
              "<Figure size 432x360 with 1 Axes>"
            ]
          },
          "metadata": {
            "tags": [],
            "needs_background": "light"
          }
        }
      ]
    },
    {
      "cell_type": "code",
      "metadata": {
        "id": "z6Ksp9A2WTb7",
        "colab_type": "code",
        "colab": {}
      },
      "source": [
        "# ROC Analysis\n",
        "\n",
        "def calculate_roc(batch_generator):\n",
        "  y_pred = np.array([])\n",
        "  y_true = np.array([])\n",
        "\n",
        "  for batch_num in np.arange(0,len(batch_generator.file_list_chunks)):\n",
        "    dmat_x, dmat_y = batch_generator.__getitem__(batch_num)\n",
        "    # predict using the trained model and calculate difference from target\n",
        "    # prob_diff: positive values are false negatives, negative values are false positives \n",
        "    pred_y = model.predict(dmat_x)\n",
        "    y_true = np.concatenate((y_true, dmat_y[:,0]))\n",
        "    y_pred = np.concatenate((y_pred,pred_y[:,0]))\n",
        "\n",
        "  fpr, tpr, thresholds = roc_curve(y_true, y_pred)\n",
        "\n",
        "  return fpr, tpr, thresholds\n",
        "\n",
        "train_fp, train_tp, train_thresh = calculate_roc(my_training_batch_generator)\n",
        "val_fp, val_tp, val_thresh = calculate_roc(my_validation_batch_generator)\n",
        "\n",
        "fig,axs = plt.subplots(2,1,figsize=(4,6))\n",
        "axs[0].plot(train_fp,train_tp,color = 'b',label = 'train')\n",
        "axs[0].plot(val_fp,val_tp, color = 'b', linestyle=\"--\", label = 'val')\n",
        "axs[0].set_xlabel('False positive rate (%)')\n",
        "axs[0].set_ylabel('True positive rate (%)')\n",
        "\n",
        "axs[1].plot(train_fp,train_tp,color = 'b',label = 'train')\n",
        "axs[1].plot(val_fp,val_tp, color = 'b', linestyle=\"--\", label = 'val')\n",
        "axs[1].set_ylim(.9, 1.01)\n",
        "axs[1].set_xlim(0, .1)\n",
        "axs[1].set_xticks([0, .3])\n",
        "axs[1].set_yticks([.7, 1])\n",
        "axs[1].set_title('zoomed')\n",
        "axs[1].set_xlabel('False positive rate (%)')\n",
        "axs[1].set_ylabel('True positive rate (%)')\n",
        "\n",
        "plt.tight_layout()\n",
        "plt.legend()\n",
        "plt.show"
      ],
      "execution_count": null,
      "outputs": []
    },
    {
      "cell_type": "markdown",
      "metadata": {
        "id": "C4qjuZs-T_9Z",
        "colab_type": "text"
      },
      "source": [
        "## 4.2) Model evaluation of failed images\n",
        "\n",
        "Here we'll plot 10 images of the False Positive and False Negative cases in each batch. This will help us see what the extreme cases of false negatives and false positives are. "
      ]
    },
    {
      "cell_type": "code",
      "metadata": {
        "id": "ZvyS7RL2T-VZ",
        "colab_type": "code",
        "colab": {
          "base_uri": "https://localhost:8080/",
          "height": 631
        },
        "outputId": "fa1f09d3-1f8c-49b3-8379-f4efd54533a9"
      },
      "source": [
        "# load a batch of data\n",
        "batch_num = np.random.choice(np.arange(0,len(my_validation_batch_generator.file_list_chunks)))\n",
        "dmatx, dmaty = my_validation_batch_generator.__getitem__(batch_num)\n",
        "\n",
        "# predict using the trained model and calculate difference from target\n",
        "# prob_diff: positive values are false negatives, negative values are false positives \n",
        "predy = model.predict(dmatx)\n",
        "prob_diff = dmaty - predy\n",
        "\n",
        "# sorted indices and values for plotting\n",
        "idx = np.argsort(prob_diff.flatten())\n",
        "values = np.sort(prob_diff.flatten()).round(2)\n",
        "\n",
        "images_to_sample = 16\n",
        "\n",
        "plt.figure(figsize=(10,10))\n",
        "for i in range(images_to_sample):\n",
        "    plt.subplot(4,images_to_sample/2,i+1)\n",
        "    plt.xticks([])\n",
        "    plt.yticks([])\n",
        "    plt.grid(False)\n",
        "    _ = plt.imshow(image_transform(dmatx[idx[i]]))\n",
        "    plt.xlabel('FP ' + str(values[i]))\n",
        "\n",
        "    plt.subplot(4,images_to_sample/2,images_to_sample+i+1)\n",
        "    plt.xticks([])\n",
        "    plt.yticks([])\n",
        "    plt.grid(False)\n",
        "    plt.imshow(image_transform(dmatx[idx[-i -1]]))\n",
        "    plt.xlabel('FN ' + str(values[-i -1]))\n",
        "\n",
        "plt.suptitle('Validation batch number ' + str(batch_num))\n",
        "plt.show()\n",
        "\n"
      ],
      "execution_count": null,
      "outputs": [
        {
          "output_type": "display_data",
          "data": {
            "image/png": "[encoded data removed]",
            "text/plain": [
              "<Figure size 720x720 with 32 Axes>"
            ]
          },
          "metadata": {
            "tags": []
          }
        }
      ]
    },
    {
      "cell_type": "markdown",
      "metadata": {
        "id": "FEIdWwHA5ELy",
        "colab_type": "text"
      },
      "source": [
        "# 5) Hyperparameter tuning \n",
        " Here we'll loosen up a couple of the top layers for training to see if we can boost performance \n",
        "\n",
        "\"In most convolutional networks, the higher up a layer is, the more specialized it is. The first few layers learn very simple and generic features that generalize to almost all types of images. As you go higher up, the features are increasingly more specific to the dataset on which the model was trained. The goal of fine-tuning is to adapt these specialized features to work with the new dataset, rather than overwrite the generic learning\""
      ]
    },
    {
      "cell_type": "code",
      "metadata": {
        "colab_type": "code",
        "id": "gHqPAt_944CI",
        "colab": {
          "base_uri": "https://localhost:8080/",
          "height": 35
        },
        "outputId": "e53671ac-9040-4748-9bd0-0a4171b3692d"
      },
      "source": [
        "# Fine-tuning model by unfreezing layers and allowing them to be trainable\n",
        "\n",
        "model.trainable = True\n",
        "\n",
        "# Let's take a look to see how many layers are in the base model\n",
        "print(\"Number of layers in the base model: \", len(model.layers))\n",
        "\n",
        "# Fine-tune from this layer onwards\n",
        "fine_tune_at = 50\n",
        "\n",
        "# Freeze all the layers before the `fine_tune_at` layer\n",
        "for layer in model.layers[:fine_tune_at]:\n",
        "  layer.trainable =  False\n",
        "\n",
        "# Compile model with specific metrics\n",
        "# Metrics below are for evaluating imbalanced datasets\n",
        "METRICS = [\n",
        "      keras.metrics.TruePositives(name='tp'),\n",
        "      keras.metrics.FalsePositives(name='fp'),\n",
        "      keras.metrics.TrueNegatives(name='tn'),\n",
        "      keras.metrics.FalseNegatives(name='fn'), \n",
        "      keras.metrics.Precision(name='precision'),\n",
        "      keras.metrics.Recall(name='recall'),\n",
        "      keras.metrics.AUC(name = 'auc')\n",
        "]\n",
        "\n",
        "# compile model with a much slower learning rate \n",
        "base_learning_rate = 0.0001\n",
        "model.compile(optimizer=tf.keras.optimizers.RMSprop(lr=base_learning_rate/10),\n",
        "              loss=tf.keras.losses.BinaryCrossentropy(),\n",
        "              metrics=METRICS)\n"
      ],
      "execution_count": null,
      "outputs": [
        {
          "output_type": "stream",
          "text": [
            "Number of layers in the base model:  3\n"
          ],
          "name": "stdout"
        }
      ]
    },
    {
      "cell_type": "code",
      "metadata": {
        "colab_type": "code",
        "id": "7mTLXuRr44CO",
        "colab": {
          "base_uri": "https://localhost:8080/",
          "height": 158
        },
        "outputId": "26dfd2f6-9bc0-4945-908d-e19dba6ba665"
      },
      "source": [
        "start = time.time()\n",
        "\n",
        "# Fit model with a couple parameters\n",
        "EPOCHS = 20\n",
        "\n",
        "# Class imbalance weighting\n",
        "rebalance = class_weight.compute_class_weight('balanced',\n",
        "                                  [0, 1], raw_Y_2.flatten())\n",
        "class_weights = {i : rebalance[i] for i in range(2)}\n",
        "\n",
        "# Early stopping \n",
        "callbacks = [keras.callbacks.EarlyStopping (monitor = 'val_loss',\n",
        "                                            patience = 2)]\n",
        "\n",
        "history = model.fit(my_training_batch_generator, epochs=EPOCHS,\n",
        "              validation_data= my_validation_batch_generator,\n",
        "              callbacks = callbacks,\n",
        "              class_weight = class_weights)\n",
        "\n",
        "total_seconds = time.time() - start\n",
        "print('total time took ' + str(round(total_seconds/60)), ' minutes')"
      ],
      "execution_count": null,
      "outputs": [
        {
          "output_type": "stream",
          "text": [
            "Epoch 1/20\n",
            "155/155 [==============================] - 86s 554ms/step - loss: 0.1233 - tp: 58560.0000 - fp: 12586.0000 - tn: 209167.0000 - fn: 783.0000 - precision: 0.8231 - recall: 0.9868 - auc: 0.9898 - val_loss: 0.1665 - val_tp: 28208.0000 - val_fp: 6905.0000 - val_tn: 91002.0000 - val_fn: 456.0000 - val_precision: 0.8033 - val_recall: 0.9841 - val_auc: 0.9861\n",
            "Epoch 2/20\n",
            "155/155 [==============================] - 84s 544ms/step - loss: 0.1233 - tp: 58560.0000 - fp: 12586.0000 - tn: 209167.0000 - fn: 783.0000 - precision: 0.8231 - recall: 0.9868 - auc: 0.9898 - val_loss: 0.1665 - val_tp: 28208.0000 - val_fp: 6905.0000 - val_tn: 91002.0000 - val_fn: 456.0000 - val_precision: 0.8033 - val_recall: 0.9841 - val_auc: 0.9861\n",
            "Epoch 3/20\n",
            "155/155 [==============================] - 85s 548ms/step - loss: 0.1233 - tp: 58560.0000 - fp: 12586.0000 - tn: 209167.0000 - fn: 783.0000 - precision: 0.8231 - recall: 0.9868 - auc: 0.9898 - val_loss: 0.1665 - val_tp: 28208.0000 - val_fp: 6905.0000 - val_tn: 91002.0000 - val_fn: 456.0000 - val_precision: 0.8033 - val_recall: 0.9841 - val_auc: 0.9861\n",
            "total time took 4  minutes\n"
          ],
          "name": "stdout"
        }
      ]
    },
    {
      "cell_type": "markdown",
      "metadata": {
        "id": "wwlEuSCRBASZ",
        "colab_type": "text"
      },
      "source": [
        "# 6) Test set on model \n"
      ]
    },
    {
      "cell_type": "code",
      "metadata": {
        "id": "GfjFdk08BGBo",
        "colab_type": "code",
        "colab": {}
      },
      "source": [
        "predictions = model.predict(my_test_batch_generator)"
      ],
      "execution_count": 18,
      "outputs": []
    },
    {
      "cell_type": "code",
      "metadata": {
        "id": "-UrwUNIeCA1m",
        "colab_type": "code",
        "colab": {
          "base_uri": "https://localhost:8080/",
          "height": 34
        },
        "outputId": "17252447-b7ad-4fbd-ead7-08e94b0bbca9"
      },
      "source": [
        ""
      ],
      "execution_count": 21,
      "outputs": [
        {
          "output_type": "execute_result",
          "data": {
            "text/plain": [
              "0.25191114771820544"
            ]
          },
          "metadata": {
            "tags": []
          },
          "execution_count": 21
        }
      ]
    },
    {
      "cell_type": "markdown",
      "metadata": {
        "id": "fR4oHmidBh-X",
        "colab_type": "text"
      },
      "source": [
        "# ---- DONE ---- "
      ]
    },
    {
      "cell_type": "code",
      "metadata": {
        "id": "HNTIl3CGQR8t",
        "colab_type": "code",
        "colab": {}
      },
      "source": [
        "test_img = dmatx[50:52, :, :, :]\n",
        "test_img = (test_img+1)/2*255\n",
        "\n",
        "# example of random rotation image augmentation\n",
        "from keras.preprocessing.image import ImageDataGenerator\n",
        "# load the image\n",
        "data = test_img\n",
        "# # convert to numpy array\n",
        "# data = img_to_array(img)\n",
        "# expand dimension to one sample\n",
        "print(np.shape(data))\n",
        "\n",
        "samples = np.expand_dims(data, 0)\n",
        "print(np.shape(samples))\n",
        "\n",
        "samples = data\n",
        "print(np.shape(samples))\n",
        "\n",
        "# create image data augmentation generator\n",
        "datagen = ImageDataGenerator(rotation_range=360, #\n",
        "                             width_shift_range=.07, #\n",
        "                             height_shift_range = .07, #\n",
        "                             shear_range = 30,#\n",
        "                             zoom_range = .24,\n",
        "                             brightness_range=[0.75,1.25])#\n",
        "# prepare iterator\n",
        "it = datagen.flow(samples, batch_size=1)\n",
        "# generate samples and plot\n",
        "plt.figure(figsize=(20,20))\n",
        "\n",
        "for i in range(50):\n",
        "\t# define subplot\n",
        "\tplt.subplot(5, 10, i+1)\n",
        "\t# generate batch of images\n",
        "\tbatch = it.next()\n",
        "\t# convert to unsigned integers for viewing\n",
        "\timage = batch[0].astype('uint8')\n",
        "\t# plot raw pixel data\n",
        "\tplt.imshow(image)\n",
        "# show the figure\n",
        "plt.show()\n",
        "np.shape(image)"
      ],
      "execution_count": null,
      "outputs": []
    },
    {
      "cell_type": "code",
      "metadata": {
        "id": "cLjTjbWhOcQM",
        "colab_type": "code",
        "colab": {
          "base_uri": "https://localhost:8080/",
          "height": 385
        },
        "outputId": "a2b93c0f-354d-47c1-df5c-d8610a8d7f44"
      },
      "source": [
        "# print(np.shape())\n",
        "# print(96/2)\n",
        "test_img = dmatx[39, :, :, :]\n",
        "\n",
        "\n",
        "test_img = (test_img+1)/2\n",
        "# print(np.max(test_img))\n",
        "# print(np.min(test_img))\n",
        "images_to_sample = 12\n",
        "plt.figure(figsize=(10,10))\n",
        "\n",
        "for i in range(images_to_sample):\n",
        "\n",
        "  plt.subplot(4,images_to_sample/2,i+1)\n",
        "  tmp1 = tf.keras.preprocessing.image.random_rotation(\n",
        "      test_img,1, row_axis=48, col_axis=48, channel_axis=0, fill_mode='nearest', cval=0.0,\n",
        "      interpolation_order=1\n",
        "  )\n",
        "  if i == 0:\n",
        "    plt.imshow(test_img)\n",
        "  else:\n",
        "    plt.imshow(tmp1)"
      ],
      "execution_count": null,
      "outputs": [
        {
          "output_type": "error",
          "ename": "TypeError",
          "evalue": "ignored",
          "traceback": [
            "\u001b[0;31m---------------------------------------------------------------------------\u001b[0m",
            "\u001b[0;31mTypeError\u001b[0m                                 Traceback (most recent call last)",
            "\u001b[0;32m<ipython-input-86-dc4c678612e1>\u001b[0m in \u001b[0;36m<module>\u001b[0;34m()\u001b[0m\n\u001b[1;32m     14\u001b[0m   \u001b[0mplt\u001b[0m\u001b[0;34m.\u001b[0m\u001b[0msubplot\u001b[0m\u001b[0;34m(\u001b[0m\u001b[0;36m4\u001b[0m\u001b[0;34m,\u001b[0m\u001b[0mimages_to_sample\u001b[0m\u001b[0;34m/\u001b[0m\u001b[0;36m2\u001b[0m\u001b[0;34m,\u001b[0m\u001b[0mi\u001b[0m\u001b[0;34m+\u001b[0m\u001b[0;36m1\u001b[0m\u001b[0;34m)\u001b[0m\u001b[0;34m\u001b[0m\u001b[0;34m\u001b[0m\u001b[0m\n\u001b[1;32m     15\u001b[0m   tmp1 = tf.keras.preprocessing.image.random_rotation(\n\u001b[0;32m---> 16\u001b[0;31m       test_img,)\n\u001b[0m\u001b[1;32m     17\u001b[0m   \u001b[0;32mif\u001b[0m \u001b[0mi\u001b[0m \u001b[0;34m==\u001b[0m \u001b[0;36m0\u001b[0m\u001b[0;34m:\u001b[0m\u001b[0;34m\u001b[0m\u001b[0;34m\u001b[0m\u001b[0m\n\u001b[1;32m     18\u001b[0m     \u001b[0mplt\u001b[0m\u001b[0;34m.\u001b[0m\u001b[0mimshow\u001b[0m\u001b[0;34m(\u001b[0m\u001b[0mtest_img\u001b[0m\u001b[0;34m)\u001b[0m\u001b[0;34m\u001b[0m\u001b[0;34m\u001b[0m\u001b[0m\n",
            "\u001b[0;31mTypeError\u001b[0m: random_rotation() missing 1 required positional argument: 'rg'"
          ]
        },
        {
          "output_type": "display_data",
          "data": {
            "image/png": "[encoded data removed]",
            "text/plain": [
              "<Figure size 720x720 with 1 Axes>"
            ]
          },
          "metadata": {
            "tags": [],
            "needs_background": "light"
          }
        }
      ]
    },
    {
      "cell_type": "code",
      "metadata": {
        "id": "EB4nUtViNqeL",
        "colab_type": "code",
        "colab": {
          "base_uri": "https://localhost:8080/",
          "height": 285
        },
        "outputId": "403df52f-3e9a-4509-d55c-94bcc3e4b814"
      },
      "source": [
        "    plt.imshow(test_img)\n"
      ],
      "execution_count": null,
      "outputs": [
        {
          "output_type": "execute_result",
          "data": {
            "text/plain": [
              "<matplotlib.image.AxesImage at 0x7f3b1ab5a438>"
            ]
          },
          "metadata": {
            "tags": []
          },
          "execution_count": 80
        },
        {
          "output_type": "display_data",
          "data": {
            "image/png": "[encoded data removed]",
            "text/plain": [
              "<Figure size 432x288 with 1 Axes>"
            ]
          },
          "metadata": {
            "tags": [],
            "needs_background": "light"
          }
        }
      ]
    },
    {
      "cell_type": "code",
      "metadata": {
        "id": "H6LbxFBmJOZ8",
        "colab_type": "code",
        "colab": {
          "base_uri": "https://localhost:8080/",
          "height": 232
        },
        "outputId": "5ca0dc12-93f0-4ee9-96c4-5b21c2552be2"
      },
      "source": [
        "data_augmentation = keras.Sequential([\n",
        "  layers.experimental.preprocessing.RandomRotation(0.25),\n",
        "])\n",
        "\n",
        "# augmented_image = data_augmentation(tf.expand_dims(img, 0), training=True)\n",
        "# show(img,augmented_image[0].numpy())"
      ],
      "execution_count": null,
      "outputs": [
        {
          "output_type": "error",
          "ename": "NameError",
          "evalue": "ignored",
          "traceback": [
            "\u001b[0;31m---------------------------------------------------------------------------\u001b[0m",
            "\u001b[0;31mNameError\u001b[0m                                 Traceback (most recent call last)",
            "\u001b[0;32m<ipython-input-43-9d6fd17a0f7b>\u001b[0m in \u001b[0;36m<module>\u001b[0;34m()\u001b[0m\n\u001b[1;32m      1\u001b[0m data_augmentation = keras.Sequential([\n\u001b[0;32m----> 2\u001b[0;31m   \u001b[0mlayers\u001b[0m\u001b[0;34m.\u001b[0m\u001b[0mexperimental\u001b[0m\u001b[0;34m.\u001b[0m\u001b[0mpreprocessing\u001b[0m\u001b[0;34m.\u001b[0m\u001b[0mRandomRotation\u001b[0m\u001b[0;34m(\u001b[0m\u001b[0;36m0.25\u001b[0m\u001b[0;34m)\u001b[0m\u001b[0;34m,\u001b[0m\u001b[0;34m\u001b[0m\u001b[0;34m\u001b[0m\u001b[0m\n\u001b[0m\u001b[1;32m      3\u001b[0m ])\n\u001b[1;32m      4\u001b[0m \u001b[0;34m\u001b[0m\u001b[0m\n\u001b[1;32m      5\u001b[0m \u001b[0;31m# augmented_image = data_augmentation(tf.expand_dims(img, 0), training=True)\u001b[0m\u001b[0;34m\u001b[0m\u001b[0;34m\u001b[0m\u001b[0;34m\u001b[0m\u001b[0m\n",
            "\u001b[0;31mNameError\u001b[0m: name 'layers' is not defined"
          ]
        }
      ]
    },
    {
      "cell_type": "code",
      "metadata": {
        "id": "Xp7gZPwWT7lJ",
        "colab_type": "code",
        "colab": {}
      },
      "source": [
        "class_predict = []\n",
        "is_val_data = []\n",
        "for n, trial_name in enumerate(my_validation_batch_generator.file_trial_list):\n",
        "  # print(n)\n",
        "  dmatx, dmaty = my_validation_batch_generator.get_single_trials(n)\n",
        "  tmp1= model.predict(dmatx)\n",
        "  class_predict.append(tmp1)\n",
        "  is_val_data.append(1)\n",
        "for n, trial_name in enumerate(my_training_batch_generator.file_trial_list):\n",
        "  # print(n)\n",
        "  dmatx, dmaty = my_training_batch_generator.get_single_trials(n)\n",
        "  tmp1= model.predict(dmatx)\n",
        "  class_predict.append(tmp1)\n",
        "  is_val_data.append(0)\n"
      ],
      "execution_count": null,
      "outputs": []
    },
    {
      "cell_type": "code",
      "metadata": {
        "id": "TJv1H6lzT_Ky",
        "colab_type": "code",
        "colab": {}
      },
      "source": [
        "all_files = my_validation_batch_generator.file_trial_list + my_training_batch_generator.file_trial_list\n",
        "tmp1 = [all_files, class_predict, is_val_data]\n",
        "scipy.io.savemat('/content/gdrive/My Drive/Colab data/all_pred_200828_1.mat', mdict={'my_list': tmp1})"
      ],
      "execution_count": null,
      "outputs": []
    },
    {
      "cell_type": "code",
      "metadata": {
        "id": "e2QOurWewemK",
        "colab_type": "code",
        "colab": {
          "base_uri": "https://localhost:8080/",
          "height": 415
        },
        "outputId": "2473cbf1-4fe9-4ccf-98fd-01c134c19ee7"
      },
      "source": [
        "\n",
        "\n",
        "\n",
        "filename='/content/gdrive/My Drive/Colab data/allSaveData200828_2.out'\n",
        "my_shelf = shelve.open(filename,'n') # 'n' for new\n",
        "# dont_save_vars = ['exit', 'get_ipython']\n",
        "dont_save_vars = ['In', 'Out', '_', '_1', '__', '___', '__builtin__', '__builtins__', '__doc__', '__loader__', '__name__', '__package__', '__spec__', '_dh', '_i', '_i1', '_i2', '_i3', '_i4', '_ih', '_ii', '_iii', '_oh', '_sh', 'exit', 'get_ipython', 'quit']\n",
        "for key in dir():\n",
        "  if all([key != k for k in dont_save_vars]):\n",
        "    try:\n",
        "      my_shelf[key] = globals()[key]\n",
        "    except TypeError:\n",
        "      #\n",
        "      # __builtins__, my_shelf, and imported modules can not be shelved.\n",
        "      #\n",
        "      print('ERROR shelving: {0}'.format(key))\n",
        "      # print('ERROR')\n",
        "my_shelf.close()"
      ],
      "execution_count": null,
      "outputs": [
        {
          "output_type": "stream",
          "text": [
            "ERROR shelving: METRICS\n",
            "ERROR shelving: base_model\n",
            "ERROR shelving: callbacks\n",
            "ERROR shelving: class_weight\n",
            "ERROR shelving: drive\n",
            "ERROR shelving: feature_batch\n",
            "ERROR shelving: feature_batch_average\n",
            "ERROR shelving: glob\n",
            "ERROR shelving: global_average_layer\n",
            "ERROR shelving: history\n",
            "ERROR shelving: keras\n",
            "ERROR shelving: model\n",
            "ERROR shelving: ms\n",
            "ERROR shelving: my_shelf\n",
            "ERROR shelving: np\n",
            "ERROR shelving: plt\n",
            "ERROR shelving: prediction_batch\n",
            "ERROR shelving: prediction_layer\n",
            "ERROR shelving: scipy\n",
            "ERROR shelving: shelve\n",
            "ERROR shelving: sys\n",
            "ERROR shelving: tf\n",
            "ERROR shelving: time\n"
          ],
          "name": "stdout"
        }
      ]
    },
    {
      "cell_type": "code",
      "metadata": {
        "id": "lMWoIMLMXjBl",
        "colab_type": "code",
        "colab": {}
      },
      "source": [
        "                      #pip install dill --user\n",
        "filename = '/content/gdrive/My Drive/Colab data/globalsave.pkl'\n",
        "dill.dump_session(filename)\n",
        "\n",
        "# and to load the session again:\n",
        "dill.load_session(filename)"
      ],
      "execution_count": null,
      "outputs": []
    },
    {
      "cell_type": "code",
      "metadata": {
        "id": "YJ9Hizfy_bkH",
        "colab_type": "code",
        "colab": {
          "base_uri": "https://localhost:8080/",
          "height": 375
        },
        "outputId": "4dcfb022-8f1d-4944-f635-34a1519a0d56"
      },
      "source": [
        "filename = 'globalsave.pkl'\n",
        "dill.dump_session(filename)\n",
        "\n",
        "# and to load the session again:\n",
        "dill.load_session(filename)"
      ],
      "execution_count": null,
      "outputs": [
        {
          "output_type": "error",
          "ename": "TypeError",
          "evalue": "ignored",
          "traceback": [
            "\u001b[0;31m---------------------------------------------------------------------------\u001b[0m",
            "\u001b[0;31mTypeError\u001b[0m                                 Traceback (most recent call last)",
            "\u001b[0;32m<ipython-input-32-c09771e5fc0e>\u001b[0m in \u001b[0;36m<module>\u001b[0;34m()\u001b[0m\n\u001b[1;32m      1\u001b[0m \u001b[0;32mimport\u001b[0m \u001b[0mdill\u001b[0m                            \u001b[0;31m#pip install dill --user\u001b[0m\u001b[0;34m\u001b[0m\u001b[0;34m\u001b[0m\u001b[0m\n\u001b[1;32m      2\u001b[0m \u001b[0mfilename\u001b[0m \u001b[0;34m=\u001b[0m \u001b[0;34m'globalsave.pkl'\u001b[0m\u001b[0;34m\u001b[0m\u001b[0;34m\u001b[0m\u001b[0m\n\u001b[0;32m----> 3\u001b[0;31m \u001b[0mdill\u001b[0m\u001b[0;34m.\u001b[0m\u001b[0mdump_session\u001b[0m\u001b[0;34m(\u001b[0m\u001b[0mfilename\u001b[0m\u001b[0;34m)\u001b[0m\u001b[0;34m\u001b[0m\u001b[0;34m\u001b[0m\u001b[0m\n\u001b[0m\u001b[1;32m      4\u001b[0m \u001b[0;34m\u001b[0m\u001b[0m\n\u001b[1;32m      5\u001b[0m \u001b[0;31m# and to load the session again:\u001b[0m\u001b[0;34m\u001b[0m\u001b[0;34m\u001b[0m\u001b[0;34m\u001b[0m\u001b[0m\n",
            "\u001b[0;32m/usr/local/lib/python3.6/dist-packages/dill/_dill.py\u001b[0m in \u001b[0;36mdump_session\u001b[0;34m(filename, main, byref, **kwds)\u001b[0m\n\u001b[1;32m    349\u001b[0m         \u001b[0mpickler\u001b[0m\u001b[0;34m.\u001b[0m\u001b[0m_recurse\u001b[0m \u001b[0;34m=\u001b[0m \u001b[0;32mFalse\u001b[0m \u001b[0;31m# disable pickling recursion for globals\u001b[0m\u001b[0;34m\u001b[0m\u001b[0;34m\u001b[0m\u001b[0m\n\u001b[1;32m    350\u001b[0m         \u001b[0mpickler\u001b[0m\u001b[0;34m.\u001b[0m\u001b[0m_session\u001b[0m \u001b[0;34m=\u001b[0m \u001b[0;32mTrue\u001b[0m  \u001b[0;31m# is best indicator of when pickling a session\u001b[0m\u001b[0;34m\u001b[0m\u001b[0;34m\u001b[0m\u001b[0m\n\u001b[0;32m--> 351\u001b[0;31m         \u001b[0mpickler\u001b[0m\u001b[0;34m.\u001b[0m\u001b[0mdump\u001b[0m\u001b[0;34m(\u001b[0m\u001b[0mmain\u001b[0m\u001b[0;34m)\u001b[0m\u001b[0;34m\u001b[0m\u001b[0;34m\u001b[0m\u001b[0m\n\u001b[0m\u001b[1;32m    352\u001b[0m     \u001b[0;32mfinally\u001b[0m\u001b[0;34m:\u001b[0m\u001b[0;34m\u001b[0m\u001b[0;34m\u001b[0m\u001b[0m\n\u001b[1;32m    353\u001b[0m         \u001b[0;32mif\u001b[0m \u001b[0mf\u001b[0m \u001b[0;32mis\u001b[0m \u001b[0;32mnot\u001b[0m \u001b[0mfilename\u001b[0m\u001b[0;34m:\u001b[0m  \u001b[0;31m# If newly opened file\u001b[0m\u001b[0;34m\u001b[0m\u001b[0;34m\u001b[0m\u001b[0m\n",
            "\u001b[0;32m/usr/local/lib/python3.6/dist-packages/dill/_dill.py\u001b[0m in \u001b[0;36mdump\u001b[0;34m(self, obj)\u001b[0m\n\u001b[1;32m    444\u001b[0m             \u001b[0;32mraise\u001b[0m \u001b[0mPicklingError\u001b[0m\u001b[0;34m(\u001b[0m\u001b[0mmsg\u001b[0m\u001b[0;34m)\u001b[0m\u001b[0;34m\u001b[0m\u001b[0;34m\u001b[0m\u001b[0m\n\u001b[1;32m    445\u001b[0m         \u001b[0;32melse\u001b[0m\u001b[0;34m:\u001b[0m\u001b[0;34m\u001b[0m\u001b[0;34m\u001b[0m\u001b[0m\n\u001b[0;32m--> 446\u001b[0;31m             \u001b[0mStockPickler\u001b[0m\u001b[0;34m.\u001b[0m\u001b[0mdump\u001b[0m\u001b[0;34m(\u001b[0m\u001b[0mself\u001b[0m\u001b[0;34m,\u001b[0m \u001b[0mobj\u001b[0m\u001b[0;34m)\u001b[0m\u001b[0;34m\u001b[0m\u001b[0;34m\u001b[0m\u001b[0m\n\u001b[0m\u001b[1;32m    447\u001b[0m         \u001b[0mstack\u001b[0m\u001b[0;34m.\u001b[0m\u001b[0mclear\u001b[0m\u001b[0;34m(\u001b[0m\u001b[0;34m)\u001b[0m  \u001b[0;31m# clear record of 'recursion-sensitive' pickled objects\u001b[0m\u001b[0;34m\u001b[0m\u001b[0;34m\u001b[0m\u001b[0m\n\u001b[1;32m    448\u001b[0m         \u001b[0;32mreturn\u001b[0m\u001b[0;34m\u001b[0m\u001b[0;34m\u001b[0m\u001b[0m\n",
            "\u001b[0;32m/usr/lib/python3.6/pickle.py\u001b[0m in \u001b[0;36mdump\u001b[0;34m(self, obj)\u001b[0m\n\u001b[1;32m    407\u001b[0m         \u001b[0;32mif\u001b[0m \u001b[0mself\u001b[0m\u001b[0;34m.\u001b[0m\u001b[0mproto\u001b[0m \u001b[0;34m>=\u001b[0m \u001b[0;36m4\u001b[0m\u001b[0;34m:\u001b[0m\u001b[0;34m\u001b[0m\u001b[0;34m\u001b[0m\u001b[0m\n\u001b[1;32m    408\u001b[0m             \u001b[0mself\u001b[0m\u001b[0;34m.\u001b[0m\u001b[0mframer\u001b[0m\u001b[0;34m.\u001b[0m\u001b[0mstart_framing\u001b[0m\u001b[0;34m(\u001b[0m\u001b[0;34m)\u001b[0m\u001b[0;34m\u001b[0m\u001b[0;34m\u001b[0m\u001b[0m\n\u001b[0;32m--> 409\u001b[0;31m         \u001b[0mself\u001b[0m\u001b[0;34m.\u001b[0m\u001b[0msave\u001b[0m\u001b[0;34m(\u001b[0m\u001b[0mobj\u001b[0m\u001b[0;34m)\u001b[0m\u001b[0;34m\u001b[0m\u001b[0;34m\u001b[0m\u001b[0m\n\u001b[0m\u001b[1;32m    410\u001b[0m         \u001b[0mself\u001b[0m\u001b[0;34m.\u001b[0m\u001b[0mwrite\u001b[0m\u001b[0;34m(\u001b[0m\u001b[0mSTOP\u001b[0m\u001b[0;34m)\u001b[0m\u001b[0;34m\u001b[0m\u001b[0;34m\u001b[0m\u001b[0m\n\u001b[1;32m    411\u001b[0m         \u001b[0mself\u001b[0m\u001b[0;34m.\u001b[0m\u001b[0mframer\u001b[0m\u001b[0;34m.\u001b[0m\u001b[0mend_framing\u001b[0m\u001b[0;34m(\u001b[0m\u001b[0;34m)\u001b[0m\u001b[0;34m\u001b[0m\u001b[0;34m\u001b[0m\u001b[0m\n",
            "\u001b[0;32m/usr/lib/python3.6/pickle.py\u001b[0m in \u001b[0;36msave\u001b[0;34m(self, obj, save_persistent_id)\u001b[0m\n\u001b[1;32m    474\u001b[0m         \u001b[0mf\u001b[0m \u001b[0;34m=\u001b[0m \u001b[0mself\u001b[0m\u001b[0;34m.\u001b[0m\u001b[0mdispatch\u001b[0m\u001b[0;34m.\u001b[0m\u001b[0mget\u001b[0m\u001b[0;34m(\u001b[0m\u001b[0mt\u001b[0m\u001b[0;34m)\u001b[0m\u001b[0;34m\u001b[0m\u001b[0;34m\u001b[0m\u001b[0m\n\u001b[1;32m    475\u001b[0m         \u001b[0;32mif\u001b[0m \u001b[0mf\u001b[0m \u001b[0;32mis\u001b[0m \u001b[0;32mnot\u001b[0m \u001b[0;32mNone\u001b[0m\u001b[0;34m:\u001b[0m\u001b[0;34m\u001b[0m\u001b[0;34m\u001b[0m\u001b[0m\n\u001b[0;32m--> 476\u001b[0;31m             \u001b[0mf\u001b[0m\u001b[0;34m(\u001b[0m\u001b[0mself\u001b[0m\u001b[0;34m,\u001b[0m \u001b[0mobj\u001b[0m\u001b[0;34m)\u001b[0m \u001b[0;31m# Call unbound method with explicit self\u001b[0m\u001b[0;34m\u001b[0m\u001b[0;34m\u001b[0m\u001b[0m\n\u001b[0m\u001b[1;32m    477\u001b[0m             \u001b[0;32mreturn\u001b[0m\u001b[0;34m\u001b[0m\u001b[0;34m\u001b[0m\u001b[0m\n\u001b[1;32m    478\u001b[0m \u001b[0;34m\u001b[0m\u001b[0m\n",
            "\u001b[0;32m/usr/local/lib/python3.6/dist-packages/dill/_dill.py\u001b[0m in \u001b[0;36msave_module\u001b[0;34m(pickler, obj)\u001b[0m\n\u001b[1;32m   1316\u001b[0m                 + [\"__builtins__\", \"__loader__\"]]\n\u001b[1;32m   1317\u001b[0m             pickler.save_reduce(_import_module, (obj.__name__,), obj=obj,\n\u001b[0;32m-> 1318\u001b[0;31m                                 state=_main_dict)\n\u001b[0m\u001b[1;32m   1319\u001b[0m             \u001b[0mlog\u001b[0m\u001b[0;34m.\u001b[0m\u001b[0minfo\u001b[0m\u001b[0;34m(\u001b[0m\u001b[0;34m\"# M1\"\u001b[0m\u001b[0;34m)\u001b[0m\u001b[0;34m\u001b[0m\u001b[0;34m\u001b[0m\u001b[0m\n\u001b[1;32m   1320\u001b[0m         \u001b[0;32melse\u001b[0m\u001b[0;34m:\u001b[0m\u001b[0;34m\u001b[0m\u001b[0;34m\u001b[0m\u001b[0m\n",
            "\u001b[0;32m/usr/lib/python3.6/pickle.py\u001b[0m in \u001b[0;36msave_reduce\u001b[0;34m(self, func, args, state, listitems, dictitems, obj)\u001b[0m\n\u001b[1;32m    632\u001b[0m \u001b[0;34m\u001b[0m\u001b[0m\n\u001b[1;32m    633\u001b[0m         \u001b[0;32mif\u001b[0m \u001b[0mstate\u001b[0m \u001b[0;32mis\u001b[0m \u001b[0;32mnot\u001b[0m \u001b[0;32mNone\u001b[0m\u001b[0;34m:\u001b[0m\u001b[0;34m\u001b[0m\u001b[0;34m\u001b[0m\u001b[0m\n\u001b[0;32m--> 634\u001b[0;31m             \u001b[0msave\u001b[0m\u001b[0;34m(\u001b[0m\u001b[0mstate\u001b[0m\u001b[0;34m)\u001b[0m\u001b[0;34m\u001b[0m\u001b[0;34m\u001b[0m\u001b[0m\n\u001b[0m\u001b[1;32m    635\u001b[0m             \u001b[0mwrite\u001b[0m\u001b[0;34m(\u001b[0m\u001b[0mBUILD\u001b[0m\u001b[0;34m)\u001b[0m\u001b[0;34m\u001b[0m\u001b[0;34m\u001b[0m\u001b[0m\n\u001b[1;32m    636\u001b[0m \u001b[0;34m\u001b[0m\u001b[0m\n",
            "\u001b[0;32m/usr/lib/python3.6/pickle.py\u001b[0m in \u001b[0;36msave\u001b[0;34m(self, obj, save_persistent_id)\u001b[0m\n\u001b[1;32m    474\u001b[0m         \u001b[0mf\u001b[0m \u001b[0;34m=\u001b[0m \u001b[0mself\u001b[0m\u001b[0;34m.\u001b[0m\u001b[0mdispatch\u001b[0m\u001b[0;34m.\u001b[0m\u001b[0mget\u001b[0m\u001b[0;34m(\u001b[0m\u001b[0mt\u001b[0m\u001b[0;34m)\u001b[0m\u001b[0;34m\u001b[0m\u001b[0;34m\u001b[0m\u001b[0m\n\u001b[1;32m    475\u001b[0m         \u001b[0;32mif\u001b[0m \u001b[0mf\u001b[0m \u001b[0;32mis\u001b[0m \u001b[0;32mnot\u001b[0m \u001b[0;32mNone\u001b[0m\u001b[0;34m:\u001b[0m\u001b[0;34m\u001b[0m\u001b[0;34m\u001b[0m\u001b[0m\n\u001b[0;32m--> 476\u001b[0;31m             \u001b[0mf\u001b[0m\u001b[0;34m(\u001b[0m\u001b[0mself\u001b[0m\u001b[0;34m,\u001b[0m \u001b[0mobj\u001b[0m\u001b[0;34m)\u001b[0m \u001b[0;31m# Call unbound method with explicit self\u001b[0m\u001b[0;34m\u001b[0m\u001b[0;34m\u001b[0m\u001b[0m\n\u001b[0m\u001b[1;32m    477\u001b[0m             \u001b[0;32mreturn\u001b[0m\u001b[0;34m\u001b[0m\u001b[0;34m\u001b[0m\u001b[0m\n\u001b[1;32m    478\u001b[0m \u001b[0;34m\u001b[0m\u001b[0m\n",
            "\u001b[0;32m/usr/local/lib/python3.6/dist-packages/dill/_dill.py\u001b[0m in \u001b[0;36msave_module_dict\u001b[0;34m(pickler, obj)\u001b[0m\n\u001b[1;32m    931\u001b[0m             \u001b[0;31m# we only care about session the first pass thru\u001b[0m\u001b[0;34m\u001b[0m\u001b[0;34m\u001b[0m\u001b[0;34m\u001b[0m\u001b[0m\n\u001b[1;32m    932\u001b[0m             \u001b[0mpickler\u001b[0m\u001b[0;34m.\u001b[0m\u001b[0m_session\u001b[0m \u001b[0;34m=\u001b[0m \u001b[0;32mFalse\u001b[0m\u001b[0;34m\u001b[0m\u001b[0;34m\u001b[0m\u001b[0m\n\u001b[0;32m--> 933\u001b[0;31m         \u001b[0mStockPickler\u001b[0m\u001b[0;34m.\u001b[0m\u001b[0msave_dict\u001b[0m\u001b[0;34m(\u001b[0m\u001b[0mpickler\u001b[0m\u001b[0;34m,\u001b[0m \u001b[0mobj\u001b[0m\u001b[0;34m)\u001b[0m\u001b[0;34m\u001b[0m\u001b[0;34m\u001b[0m\u001b[0m\n\u001b[0m\u001b[1;32m    934\u001b[0m         \u001b[0mlog\u001b[0m\u001b[0;34m.\u001b[0m\u001b[0minfo\u001b[0m\u001b[0;34m(\u001b[0m\u001b[0;34m\"# D2\"\u001b[0m\u001b[0;34m)\u001b[0m\u001b[0;34m\u001b[0m\u001b[0;34m\u001b[0m\u001b[0m\n\u001b[1;32m    935\u001b[0m     \u001b[0;32mreturn\u001b[0m\u001b[0;34m\u001b[0m\u001b[0;34m\u001b[0m\u001b[0m\n",
            "\u001b[0;32m/usr/lib/python3.6/pickle.py\u001b[0m in \u001b[0;36msave_dict\u001b[0;34m(self, obj)\u001b[0m\n\u001b[1;32m    819\u001b[0m \u001b[0;34m\u001b[0m\u001b[0m\n\u001b[1;32m    820\u001b[0m         \u001b[0mself\u001b[0m\u001b[0;34m.\u001b[0m\u001b[0mmemoize\u001b[0m\u001b[0;34m(\u001b[0m\u001b[0mobj\u001b[0m\u001b[0;34m)\u001b[0m\u001b[0;34m\u001b[0m\u001b[0;34m\u001b[0m\u001b[0m\n\u001b[0;32m--> 821\u001b[0;31m         \u001b[0mself\u001b[0m\u001b[0;34m.\u001b[0m\u001b[0m_batch_setitems\u001b[0m\u001b[0;34m(\u001b[0m\u001b[0mobj\u001b[0m\u001b[0;34m.\u001b[0m\u001b[0mitems\u001b[0m\u001b[0;34m(\u001b[0m\u001b[0;34m)\u001b[0m\u001b[0;34m)\u001b[0m\u001b[0;34m\u001b[0m\u001b[0;34m\u001b[0m\u001b[0m\n\u001b[0m\u001b[1;32m    822\u001b[0m \u001b[0;34m\u001b[0m\u001b[0m\n\u001b[1;32m    823\u001b[0m     \u001b[0mdispatch\u001b[0m\u001b[0;34m[\u001b[0m\u001b[0mdict\u001b[0m\u001b[0;34m]\u001b[0m \u001b[0;34m=\u001b[0m \u001b[0msave_dict\u001b[0m\u001b[0;34m\u001b[0m\u001b[0;34m\u001b[0m\u001b[0m\n",
            "\u001b[0;32m/usr/lib/python3.6/pickle.py\u001b[0m in \u001b[0;36m_batch_setitems\u001b[0;34m(self, items)\u001b[0m\n\u001b[1;32m    845\u001b[0m                 \u001b[0;32mfor\u001b[0m \u001b[0mk\u001b[0m\u001b[0;34m,\u001b[0m \u001b[0mv\u001b[0m \u001b[0;32min\u001b[0m \u001b[0mtmp\u001b[0m\u001b[0;34m:\u001b[0m\u001b[0;34m\u001b[0m\u001b[0;34m\u001b[0m\u001b[0m\n\u001b[1;32m    846\u001b[0m                     \u001b[0msave\u001b[0m\u001b[0;34m(\u001b[0m\u001b[0mk\u001b[0m\u001b[0;34m)\u001b[0m\u001b[0;34m\u001b[0m\u001b[0;34m\u001b[0m\u001b[0m\n\u001b[0;32m--> 847\u001b[0;31m                     \u001b[0msave\u001b[0m\u001b[0;34m(\u001b[0m\u001b[0mv\u001b[0m\u001b[0;34m)\u001b[0m\u001b[0;34m\u001b[0m\u001b[0;34m\u001b[0m\u001b[0m\n\u001b[0m\u001b[1;32m    848\u001b[0m                 \u001b[0mwrite\u001b[0m\u001b[0;34m(\u001b[0m\u001b[0mSETITEMS\u001b[0m\u001b[0;34m)\u001b[0m\u001b[0;34m\u001b[0m\u001b[0;34m\u001b[0m\u001b[0m\n\u001b[1;32m    849\u001b[0m             \u001b[0;32melif\u001b[0m \u001b[0mn\u001b[0m\u001b[0;34m:\u001b[0m\u001b[0;34m\u001b[0m\u001b[0;34m\u001b[0m\u001b[0m\n",
            "\u001b[0;32m/usr/lib/python3.6/pickle.py\u001b[0m in \u001b[0;36msave\u001b[0;34m(self, obj, save_persistent_id)\u001b[0m\n\u001b[1;32m    519\u001b[0m \u001b[0;34m\u001b[0m\u001b[0m\n\u001b[1;32m    520\u001b[0m         \u001b[0;31m# Save the reduce() output and finally memoize the object\u001b[0m\u001b[0;34m\u001b[0m\u001b[0;34m\u001b[0m\u001b[0;34m\u001b[0m\u001b[0m\n\u001b[0;32m--> 521\u001b[0;31m         \u001b[0mself\u001b[0m\u001b[0;34m.\u001b[0m\u001b[0msave_reduce\u001b[0m\u001b[0;34m(\u001b[0m\u001b[0mobj\u001b[0m\u001b[0;34m=\u001b[0m\u001b[0mobj\u001b[0m\u001b[0;34m,\u001b[0m \u001b[0;34m*\u001b[0m\u001b[0mrv\u001b[0m\u001b[0;34m)\u001b[0m\u001b[0;34m\u001b[0m\u001b[0;34m\u001b[0m\u001b[0m\n\u001b[0m\u001b[1;32m    522\u001b[0m \u001b[0;34m\u001b[0m\u001b[0m\n\u001b[1;32m    523\u001b[0m     \u001b[0;32mdef\u001b[0m \u001b[0mpersistent_id\u001b[0m\u001b[0;34m(\u001b[0m\u001b[0mself\u001b[0m\u001b[0;34m,\u001b[0m \u001b[0mobj\u001b[0m\u001b[0;34m)\u001b[0m\u001b[0;34m:\u001b[0m\u001b[0;34m\u001b[0m\u001b[0;34m\u001b[0m\u001b[0m\n",
            "\u001b[0;32m/usr/lib/python3.6/pickle.py\u001b[0m in \u001b[0;36msave_reduce\u001b[0;34m(self, func, args, state, listitems, dictitems, obj)\u001b[0m\n\u001b[1;32m    632\u001b[0m \u001b[0;34m\u001b[0m\u001b[0m\n\u001b[1;32m    633\u001b[0m         \u001b[0;32mif\u001b[0m \u001b[0mstate\u001b[0m \u001b[0;32mis\u001b[0m \u001b[0;32mnot\u001b[0m \u001b[0;32mNone\u001b[0m\u001b[0;34m:\u001b[0m\u001b[0;34m\u001b[0m\u001b[0;34m\u001b[0m\u001b[0m\n\u001b[0;32m--> 634\u001b[0;31m             \u001b[0msave\u001b[0m\u001b[0;34m(\u001b[0m\u001b[0mstate\u001b[0m\u001b[0;34m)\u001b[0m\u001b[0;34m\u001b[0m\u001b[0;34m\u001b[0m\u001b[0m\n\u001b[0m\u001b[1;32m    635\u001b[0m             \u001b[0mwrite\u001b[0m\u001b[0;34m(\u001b[0m\u001b[0mBUILD\u001b[0m\u001b[0;34m)\u001b[0m\u001b[0;34m\u001b[0m\u001b[0;34m\u001b[0m\u001b[0m\n\u001b[1;32m    636\u001b[0m \u001b[0;34m\u001b[0m\u001b[0m\n",
            "\u001b[0;32m/usr/lib/python3.6/pickle.py\u001b[0m in \u001b[0;36msave\u001b[0;34m(self, obj, save_persistent_id)\u001b[0m\n\u001b[1;32m    474\u001b[0m         \u001b[0mf\u001b[0m \u001b[0;34m=\u001b[0m \u001b[0mself\u001b[0m\u001b[0;34m.\u001b[0m\u001b[0mdispatch\u001b[0m\u001b[0;34m.\u001b[0m\u001b[0mget\u001b[0m\u001b[0;34m(\u001b[0m\u001b[0mt\u001b[0m\u001b[0;34m)\u001b[0m\u001b[0;34m\u001b[0m\u001b[0;34m\u001b[0m\u001b[0m\n\u001b[1;32m    475\u001b[0m         \u001b[0;32mif\u001b[0m \u001b[0mf\u001b[0m \u001b[0;32mis\u001b[0m \u001b[0;32mnot\u001b[0m \u001b[0;32mNone\u001b[0m\u001b[0;34m:\u001b[0m\u001b[0;34m\u001b[0m\u001b[0;34m\u001b[0m\u001b[0m\n\u001b[0;32m--> 476\u001b[0;31m             \u001b[0mf\u001b[0m\u001b[0;34m(\u001b[0m\u001b[0mself\u001b[0m\u001b[0;34m,\u001b[0m \u001b[0mobj\u001b[0m\u001b[0;34m)\u001b[0m \u001b[0;31m# Call unbound method with explicit self\u001b[0m\u001b[0;34m\u001b[0m\u001b[0;34m\u001b[0m\u001b[0m\n\u001b[0m\u001b[1;32m    477\u001b[0m             \u001b[0;32mreturn\u001b[0m\u001b[0;34m\u001b[0m\u001b[0;34m\u001b[0m\u001b[0m\n\u001b[1;32m    478\u001b[0m \u001b[0;34m\u001b[0m\u001b[0m\n",
            "\u001b[0;32m/usr/local/lib/python3.6/dist-packages/dill/_dill.py\u001b[0m in \u001b[0;36msave_module_dict\u001b[0;34m(pickler, obj)\u001b[0m\n\u001b[1;32m    931\u001b[0m             \u001b[0;31m# we only care about session the first pass thru\u001b[0m\u001b[0;34m\u001b[0m\u001b[0;34m\u001b[0m\u001b[0;34m\u001b[0m\u001b[0m\n\u001b[1;32m    932\u001b[0m             \u001b[0mpickler\u001b[0m\u001b[0;34m.\u001b[0m\u001b[0m_session\u001b[0m \u001b[0;34m=\u001b[0m \u001b[0;32mFalse\u001b[0m\u001b[0;34m\u001b[0m\u001b[0;34m\u001b[0m\u001b[0m\n\u001b[0;32m--> 933\u001b[0;31m         \u001b[0mStockPickler\u001b[0m\u001b[0;34m.\u001b[0m\u001b[0msave_dict\u001b[0m\u001b[0;34m(\u001b[0m\u001b[0mpickler\u001b[0m\u001b[0;34m,\u001b[0m \u001b[0mobj\u001b[0m\u001b[0;34m)\u001b[0m\u001b[0;34m\u001b[0m\u001b[0;34m\u001b[0m\u001b[0m\n\u001b[0m\u001b[1;32m    934\u001b[0m         \u001b[0mlog\u001b[0m\u001b[0;34m.\u001b[0m\u001b[0minfo\u001b[0m\u001b[0;34m(\u001b[0m\u001b[0;34m\"# D2\"\u001b[0m\u001b[0;34m)\u001b[0m\u001b[0;34m\u001b[0m\u001b[0;34m\u001b[0m\u001b[0m\n\u001b[1;32m    935\u001b[0m     \u001b[0;32mreturn\u001b[0m\u001b[0;34m\u001b[0m\u001b[0;34m\u001b[0m\u001b[0m\n",
            "\u001b[0;32m/usr/lib/python3.6/pickle.py\u001b[0m in \u001b[0;36msave_dict\u001b[0;34m(self, obj)\u001b[0m\n\u001b[1;32m    819\u001b[0m \u001b[0;34m\u001b[0m\u001b[0m\n\u001b[1;32m    820\u001b[0m         \u001b[0mself\u001b[0m\u001b[0;34m.\u001b[0m\u001b[0mmemoize\u001b[0m\u001b[0;34m(\u001b[0m\u001b[0mobj\u001b[0m\u001b[0;34m)\u001b[0m\u001b[0;34m\u001b[0m\u001b[0;34m\u001b[0m\u001b[0m\n\u001b[0;32m--> 821\u001b[0;31m         \u001b[0mself\u001b[0m\u001b[0;34m.\u001b[0m\u001b[0m_batch_setitems\u001b[0m\u001b[0;34m(\u001b[0m\u001b[0mobj\u001b[0m\u001b[0;34m.\u001b[0m\u001b[0mitems\u001b[0m\u001b[0;34m(\u001b[0m\u001b[0;34m)\u001b[0m\u001b[0;34m)\u001b[0m\u001b[0;34m\u001b[0m\u001b[0;34m\u001b[0m\u001b[0m\n\u001b[0m\u001b[1;32m    822\u001b[0m \u001b[0;34m\u001b[0m\u001b[0m\n\u001b[1;32m    823\u001b[0m     \u001b[0mdispatch\u001b[0m\u001b[0;34m[\u001b[0m\u001b[0mdict\u001b[0m\u001b[0;34m]\u001b[0m \u001b[0;34m=\u001b[0m \u001b[0msave_dict\u001b[0m\u001b[0;34m\u001b[0m\u001b[0;34m\u001b[0m\u001b[0m\n",
            "\u001b[0;32m/usr/lib/python3.6/pickle.py\u001b[0m in \u001b[0;36m_batch_setitems\u001b[0;34m(self, items)\u001b[0m\n\u001b[1;32m    845\u001b[0m                 \u001b[0;32mfor\u001b[0m \u001b[0mk\u001b[0m\u001b[0;34m,\u001b[0m \u001b[0mv\u001b[0m \u001b[0;32min\u001b[0m \u001b[0mtmp\u001b[0m\u001b[0;34m:\u001b[0m\u001b[0;34m\u001b[0m\u001b[0;34m\u001b[0m\u001b[0m\n\u001b[1;32m    846\u001b[0m                     \u001b[0msave\u001b[0m\u001b[0;34m(\u001b[0m\u001b[0mk\u001b[0m\u001b[0;34m)\u001b[0m\u001b[0;34m\u001b[0m\u001b[0;34m\u001b[0m\u001b[0m\n\u001b[0;32m--> 847\u001b[0;31m                     \u001b[0msave\u001b[0m\u001b[0;34m(\u001b[0m\u001b[0mv\u001b[0m\u001b[0;34m)\u001b[0m\u001b[0;34m\u001b[0m\u001b[0;34m\u001b[0m\u001b[0m\n\u001b[0m\u001b[1;32m    848\u001b[0m                 \u001b[0mwrite\u001b[0m\u001b[0;34m(\u001b[0m\u001b[0mSETITEMS\u001b[0m\u001b[0;34m)\u001b[0m\u001b[0;34m\u001b[0m\u001b[0;34m\u001b[0m\u001b[0m\n\u001b[1;32m    849\u001b[0m             \u001b[0;32melif\u001b[0m \u001b[0mn\u001b[0m\u001b[0;34m:\u001b[0m\u001b[0;34m\u001b[0m\u001b[0;34m\u001b[0m\u001b[0m\n",
            "\u001b[0;32m/usr/lib/python3.6/pickle.py\u001b[0m in \u001b[0;36msave\u001b[0;34m(self, obj, save_persistent_id)\u001b[0m\n\u001b[1;32m    474\u001b[0m         \u001b[0mf\u001b[0m \u001b[0;34m=\u001b[0m \u001b[0mself\u001b[0m\u001b[0;34m.\u001b[0m\u001b[0mdispatch\u001b[0m\u001b[0;34m.\u001b[0m\u001b[0mget\u001b[0m\u001b[0;34m(\u001b[0m\u001b[0mt\u001b[0m\u001b[0;34m)\u001b[0m\u001b[0;34m\u001b[0m\u001b[0;34m\u001b[0m\u001b[0m\n\u001b[1;32m    475\u001b[0m         \u001b[0;32mif\u001b[0m \u001b[0mf\u001b[0m \u001b[0;32mis\u001b[0m \u001b[0;32mnot\u001b[0m \u001b[0;32mNone\u001b[0m\u001b[0;34m:\u001b[0m\u001b[0;34m\u001b[0m\u001b[0;34m\u001b[0m\u001b[0m\n\u001b[0;32m--> 476\u001b[0;31m             \u001b[0mf\u001b[0m\u001b[0;34m(\u001b[0m\u001b[0mself\u001b[0m\u001b[0;34m,\u001b[0m \u001b[0mobj\u001b[0m\u001b[0;34m)\u001b[0m \u001b[0;31m# Call unbound method with explicit self\u001b[0m\u001b[0;34m\u001b[0m\u001b[0;34m\u001b[0m\u001b[0m\n\u001b[0m\u001b[1;32m    477\u001b[0m             \u001b[0;32mreturn\u001b[0m\u001b[0;34m\u001b[0m\u001b[0;34m\u001b[0m\u001b[0m\n\u001b[1;32m    478\u001b[0m \u001b[0;34m\u001b[0m\u001b[0m\n",
            "\u001b[0;32m/usr/lib/python3.6/pickle.py\u001b[0m in \u001b[0;36msave_list\u001b[0;34m(self, obj)\u001b[0m\n\u001b[1;32m    779\u001b[0m \u001b[0;34m\u001b[0m\u001b[0m\n\u001b[1;32m    780\u001b[0m         \u001b[0mself\u001b[0m\u001b[0;34m.\u001b[0m\u001b[0mmemoize\u001b[0m\u001b[0;34m(\u001b[0m\u001b[0mobj\u001b[0m\u001b[0;34m)\u001b[0m\u001b[0;34m\u001b[0m\u001b[0;34m\u001b[0m\u001b[0m\n\u001b[0;32m--> 781\u001b[0;31m         \u001b[0mself\u001b[0m\u001b[0;34m.\u001b[0m\u001b[0m_batch_appends\u001b[0m\u001b[0;34m(\u001b[0m\u001b[0mobj\u001b[0m\u001b[0;34m)\u001b[0m\u001b[0;34m\u001b[0m\u001b[0;34m\u001b[0m\u001b[0m\n\u001b[0m\u001b[1;32m    782\u001b[0m \u001b[0;34m\u001b[0m\u001b[0m\n\u001b[1;32m    783\u001b[0m     \u001b[0mdispatch\u001b[0m\u001b[0;34m[\u001b[0m\u001b[0mlist\u001b[0m\u001b[0;34m]\u001b[0m \u001b[0;34m=\u001b[0m \u001b[0msave_list\u001b[0m\u001b[0;34m\u001b[0m\u001b[0;34m\u001b[0m\u001b[0m\n",
            "\u001b[0;32m/usr/lib/python3.6/pickle.py\u001b[0m in \u001b[0;36m_batch_appends\u001b[0;34m(self, items)\u001b[0m\n\u001b[1;32m    803\u001b[0m                 \u001b[0mwrite\u001b[0m\u001b[0;34m(\u001b[0m\u001b[0mMARK\u001b[0m\u001b[0;34m)\u001b[0m\u001b[0;34m\u001b[0m\u001b[0;34m\u001b[0m\u001b[0m\n\u001b[1;32m    804\u001b[0m                 \u001b[0;32mfor\u001b[0m \u001b[0mx\u001b[0m \u001b[0;32min\u001b[0m \u001b[0mtmp\u001b[0m\u001b[0;34m:\u001b[0m\u001b[0;34m\u001b[0m\u001b[0;34m\u001b[0m\u001b[0m\n\u001b[0;32m--> 805\u001b[0;31m                     \u001b[0msave\u001b[0m\u001b[0;34m(\u001b[0m\u001b[0mx\u001b[0m\u001b[0;34m)\u001b[0m\u001b[0;34m\u001b[0m\u001b[0;34m\u001b[0m\u001b[0m\n\u001b[0m\u001b[1;32m    806\u001b[0m                 \u001b[0mwrite\u001b[0m\u001b[0;34m(\u001b[0m\u001b[0mAPPENDS\u001b[0m\u001b[0;34m)\u001b[0m\u001b[0;34m\u001b[0m\u001b[0;34m\u001b[0m\u001b[0m\n\u001b[1;32m    807\u001b[0m             \u001b[0;32melif\u001b[0m \u001b[0mn\u001b[0m\u001b[0;34m:\u001b[0m\u001b[0;34m\u001b[0m\u001b[0;34m\u001b[0m\u001b[0m\n",
            "\u001b[0;32m/usr/lib/python3.6/pickle.py\u001b[0m in \u001b[0;36msave\u001b[0;34m(self, obj, save_persistent_id)\u001b[0m\n\u001b[1;32m    519\u001b[0m \u001b[0;34m\u001b[0m\u001b[0m\n\u001b[1;32m    520\u001b[0m         \u001b[0;31m# Save the reduce() output and finally memoize the object\u001b[0m\u001b[0;34m\u001b[0m\u001b[0;34m\u001b[0m\u001b[0;34m\u001b[0m\u001b[0m\n\u001b[0;32m--> 521\u001b[0;31m         \u001b[0mself\u001b[0m\u001b[0;34m.\u001b[0m\u001b[0msave_reduce\u001b[0m\u001b[0;34m(\u001b[0m\u001b[0mobj\u001b[0m\u001b[0;34m=\u001b[0m\u001b[0mobj\u001b[0m\u001b[0;34m,\u001b[0m \u001b[0;34m*\u001b[0m\u001b[0mrv\u001b[0m\u001b[0;34m)\u001b[0m\u001b[0;34m\u001b[0m\u001b[0;34m\u001b[0m\u001b[0m\n\u001b[0m\u001b[1;32m    522\u001b[0m \u001b[0;34m\u001b[0m\u001b[0m\n\u001b[1;32m    523\u001b[0m     \u001b[0;32mdef\u001b[0m \u001b[0mpersistent_id\u001b[0m\u001b[0;34m(\u001b[0m\u001b[0mself\u001b[0m\u001b[0;34m,\u001b[0m \u001b[0mobj\u001b[0m\u001b[0;34m)\u001b[0m\u001b[0;34m:\u001b[0m\u001b[0;34m\u001b[0m\u001b[0;34m\u001b[0m\u001b[0m\n",
            "\u001b[0;32m/usr/lib/python3.6/pickle.py\u001b[0m in \u001b[0;36msave_reduce\u001b[0;34m(self, func, args, state, listitems, dictitems, obj)\u001b[0m\n\u001b[1;32m    632\u001b[0m \u001b[0;34m\u001b[0m\u001b[0m\n\u001b[1;32m    633\u001b[0m         \u001b[0;32mif\u001b[0m \u001b[0mstate\u001b[0m \u001b[0;32mis\u001b[0m \u001b[0;32mnot\u001b[0m \u001b[0;32mNone\u001b[0m\u001b[0;34m:\u001b[0m\u001b[0;34m\u001b[0m\u001b[0;34m\u001b[0m\u001b[0m\n\u001b[0;32m--> 634\u001b[0;31m             \u001b[0msave\u001b[0m\u001b[0;34m(\u001b[0m\u001b[0mstate\u001b[0m\u001b[0;34m)\u001b[0m\u001b[0;34m\u001b[0m\u001b[0;34m\u001b[0m\u001b[0m\n\u001b[0m\u001b[1;32m    635\u001b[0m             \u001b[0mwrite\u001b[0m\u001b[0;34m(\u001b[0m\u001b[0mBUILD\u001b[0m\u001b[0;34m)\u001b[0m\u001b[0;34m\u001b[0m\u001b[0;34m\u001b[0m\u001b[0m\n\u001b[1;32m    636\u001b[0m \u001b[0;34m\u001b[0m\u001b[0m\n",
            "\u001b[0;32m/usr/lib/python3.6/pickle.py\u001b[0m in \u001b[0;36msave\u001b[0;34m(self, obj, save_persistent_id)\u001b[0m\n\u001b[1;32m    474\u001b[0m         \u001b[0mf\u001b[0m \u001b[0;34m=\u001b[0m \u001b[0mself\u001b[0m\u001b[0;34m.\u001b[0m\u001b[0mdispatch\u001b[0m\u001b[0;34m.\u001b[0m\u001b[0mget\u001b[0m\u001b[0;34m(\u001b[0m\u001b[0mt\u001b[0m\u001b[0;34m)\u001b[0m\u001b[0;34m\u001b[0m\u001b[0;34m\u001b[0m\u001b[0m\n\u001b[1;32m    475\u001b[0m         \u001b[0;32mif\u001b[0m \u001b[0mf\u001b[0m \u001b[0;32mis\u001b[0m \u001b[0;32mnot\u001b[0m \u001b[0;32mNone\u001b[0m\u001b[0;34m:\u001b[0m\u001b[0;34m\u001b[0m\u001b[0;34m\u001b[0m\u001b[0m\n\u001b[0;32m--> 476\u001b[0;31m             \u001b[0mf\u001b[0m\u001b[0;34m(\u001b[0m\u001b[0mself\u001b[0m\u001b[0;34m,\u001b[0m \u001b[0mobj\u001b[0m\u001b[0;34m)\u001b[0m \u001b[0;31m# Call unbound method with explicit self\u001b[0m\u001b[0;34m\u001b[0m\u001b[0;34m\u001b[0m\u001b[0m\n\u001b[0m\u001b[1;32m    477\u001b[0m             \u001b[0;32mreturn\u001b[0m\u001b[0;34m\u001b[0m\u001b[0;34m\u001b[0m\u001b[0m\n\u001b[1;32m    478\u001b[0m \u001b[0;34m\u001b[0m\u001b[0m\n",
            "\u001b[0;32m/usr/local/lib/python3.6/dist-packages/dill/_dill.py\u001b[0m in \u001b[0;36msave_module_dict\u001b[0;34m(pickler, obj)\u001b[0m\n\u001b[1;32m    931\u001b[0m             \u001b[0;31m# we only care about session the first pass thru\u001b[0m\u001b[0;34m\u001b[0m\u001b[0;34m\u001b[0m\u001b[0;34m\u001b[0m\u001b[0m\n\u001b[1;32m    932\u001b[0m             \u001b[0mpickler\u001b[0m\u001b[0;34m.\u001b[0m\u001b[0m_session\u001b[0m \u001b[0;34m=\u001b[0m \u001b[0;32mFalse\u001b[0m\u001b[0;34m\u001b[0m\u001b[0;34m\u001b[0m\u001b[0m\n\u001b[0;32m--> 933\u001b[0;31m         \u001b[0mStockPickler\u001b[0m\u001b[0;34m.\u001b[0m\u001b[0msave_dict\u001b[0m\u001b[0;34m(\u001b[0m\u001b[0mpickler\u001b[0m\u001b[0;34m,\u001b[0m \u001b[0mobj\u001b[0m\u001b[0;34m)\u001b[0m\u001b[0;34m\u001b[0m\u001b[0;34m\u001b[0m\u001b[0m\n\u001b[0m\u001b[1;32m    934\u001b[0m         \u001b[0mlog\u001b[0m\u001b[0;34m.\u001b[0m\u001b[0minfo\u001b[0m\u001b[0;34m(\u001b[0m\u001b[0;34m\"# D2\"\u001b[0m\u001b[0;34m)\u001b[0m\u001b[0;34m\u001b[0m\u001b[0;34m\u001b[0m\u001b[0m\n\u001b[1;32m    935\u001b[0m     \u001b[0;32mreturn\u001b[0m\u001b[0;34m\u001b[0m\u001b[0;34m\u001b[0m\u001b[0m\n",
            "\u001b[0;32m/usr/lib/python3.6/pickle.py\u001b[0m in \u001b[0;36msave_dict\u001b[0;34m(self, obj)\u001b[0m\n\u001b[1;32m    819\u001b[0m \u001b[0;34m\u001b[0m\u001b[0m\n\u001b[1;32m    820\u001b[0m         \u001b[0mself\u001b[0m\u001b[0;34m.\u001b[0m\u001b[0mmemoize\u001b[0m\u001b[0;34m(\u001b[0m\u001b[0mobj\u001b[0m\u001b[0;34m)\u001b[0m\u001b[0;34m\u001b[0m\u001b[0;34m\u001b[0m\u001b[0m\n\u001b[0;32m--> 821\u001b[0;31m         \u001b[0mself\u001b[0m\u001b[0;34m.\u001b[0m\u001b[0m_batch_setitems\u001b[0m\u001b[0;34m(\u001b[0m\u001b[0mobj\u001b[0m\u001b[0;34m.\u001b[0m\u001b[0mitems\u001b[0m\u001b[0;34m(\u001b[0m\u001b[0;34m)\u001b[0m\u001b[0;34m)\u001b[0m\u001b[0;34m\u001b[0m\u001b[0;34m\u001b[0m\u001b[0m\n\u001b[0m\u001b[1;32m    822\u001b[0m \u001b[0;34m\u001b[0m\u001b[0m\n\u001b[1;32m    823\u001b[0m     \u001b[0mdispatch\u001b[0m\u001b[0;34m[\u001b[0m\u001b[0mdict\u001b[0m\u001b[0;34m]\u001b[0m \u001b[0;34m=\u001b[0m \u001b[0msave_dict\u001b[0m\u001b[0;34m\u001b[0m\u001b[0;34m\u001b[0m\u001b[0m\n",
            "\u001b[0;32m/usr/lib/python3.6/pickle.py\u001b[0m in \u001b[0;36m_batch_setitems\u001b[0;34m(self, items)\u001b[0m\n\u001b[1;32m    845\u001b[0m                 \u001b[0;32mfor\u001b[0m \u001b[0mk\u001b[0m\u001b[0;34m,\u001b[0m \u001b[0mv\u001b[0m \u001b[0;32min\u001b[0m \u001b[0mtmp\u001b[0m\u001b[0;34m:\u001b[0m\u001b[0;34m\u001b[0m\u001b[0;34m\u001b[0m\u001b[0m\n\u001b[1;32m    846\u001b[0m                     \u001b[0msave\u001b[0m\u001b[0;34m(\u001b[0m\u001b[0mk\u001b[0m\u001b[0;34m)\u001b[0m\u001b[0;34m\u001b[0m\u001b[0;34m\u001b[0m\u001b[0m\n\u001b[0;32m--> 847\u001b[0;31m                     \u001b[0msave\u001b[0m\u001b[0;34m(\u001b[0m\u001b[0mv\u001b[0m\u001b[0;34m)\u001b[0m\u001b[0;34m\u001b[0m\u001b[0;34m\u001b[0m\u001b[0m\n\u001b[0m\u001b[1;32m    848\u001b[0m                 \u001b[0mwrite\u001b[0m\u001b[0;34m(\u001b[0m\u001b[0mSETITEMS\u001b[0m\u001b[0;34m)\u001b[0m\u001b[0;34m\u001b[0m\u001b[0;34m\u001b[0m\u001b[0m\n\u001b[1;32m    849\u001b[0m             \u001b[0;32melif\u001b[0m \u001b[0mn\u001b[0m\u001b[0;34m:\u001b[0m\u001b[0;34m\u001b[0m\u001b[0;34m\u001b[0m\u001b[0m\n",
            "\u001b[0;32m/usr/lib/python3.6/pickle.py\u001b[0m in \u001b[0;36msave\u001b[0;34m(self, obj, save_persistent_id)\u001b[0m\n\u001b[1;32m    474\u001b[0m         \u001b[0mf\u001b[0m \u001b[0;34m=\u001b[0m \u001b[0mself\u001b[0m\u001b[0;34m.\u001b[0m\u001b[0mdispatch\u001b[0m\u001b[0;34m.\u001b[0m\u001b[0mget\u001b[0m\u001b[0;34m(\u001b[0m\u001b[0mt\u001b[0m\u001b[0;34m)\u001b[0m\u001b[0;34m\u001b[0m\u001b[0;34m\u001b[0m\u001b[0m\n\u001b[1;32m    475\u001b[0m         \u001b[0;32mif\u001b[0m \u001b[0mf\u001b[0m \u001b[0;32mis\u001b[0m \u001b[0;32mnot\u001b[0m \u001b[0;32mNone\u001b[0m\u001b[0;34m:\u001b[0m\u001b[0;34m\u001b[0m\u001b[0;34m\u001b[0m\u001b[0m\n\u001b[0;32m--> 476\u001b[0;31m             \u001b[0mf\u001b[0m\u001b[0;34m(\u001b[0m\u001b[0mself\u001b[0m\u001b[0;34m,\u001b[0m \u001b[0mobj\u001b[0m\u001b[0;34m)\u001b[0m \u001b[0;31m# Call unbound method with explicit self\u001b[0m\u001b[0;34m\u001b[0m\u001b[0;34m\u001b[0m\u001b[0m\n\u001b[0m\u001b[1;32m    477\u001b[0m             \u001b[0;32mreturn\u001b[0m\u001b[0;34m\u001b[0m\u001b[0;34m\u001b[0m\u001b[0m\n\u001b[1;32m    478\u001b[0m \u001b[0;34m\u001b[0m\u001b[0m\n",
            "\u001b[0;32m/usr/lib/python3.6/pickle.py\u001b[0m in \u001b[0;36msave_list\u001b[0;34m(self, obj)\u001b[0m\n\u001b[1;32m    779\u001b[0m \u001b[0;34m\u001b[0m\u001b[0m\n\u001b[1;32m    780\u001b[0m         \u001b[0mself\u001b[0m\u001b[0;34m.\u001b[0m\u001b[0mmemoize\u001b[0m\u001b[0;34m(\u001b[0m\u001b[0mobj\u001b[0m\u001b[0;34m)\u001b[0m\u001b[0;34m\u001b[0m\u001b[0;34m\u001b[0m\u001b[0m\n\u001b[0;32m--> 781\u001b[0;31m         \u001b[0mself\u001b[0m\u001b[0;34m.\u001b[0m\u001b[0m_batch_appends\u001b[0m\u001b[0;34m(\u001b[0m\u001b[0mobj\u001b[0m\u001b[0;34m)\u001b[0m\u001b[0;34m\u001b[0m\u001b[0;34m\u001b[0m\u001b[0m\n\u001b[0m\u001b[1;32m    782\u001b[0m \u001b[0;34m\u001b[0m\u001b[0m\n\u001b[1;32m    783\u001b[0m     \u001b[0mdispatch\u001b[0m\u001b[0;34m[\u001b[0m\u001b[0mlist\u001b[0m\u001b[0;34m]\u001b[0m \u001b[0;34m=\u001b[0m \u001b[0msave_list\u001b[0m\u001b[0;34m\u001b[0m\u001b[0;34m\u001b[0m\u001b[0m\n",
            "\u001b[0;32m/usr/lib/python3.6/pickle.py\u001b[0m in \u001b[0;36m_batch_appends\u001b[0;34m(self, items)\u001b[0m\n\u001b[1;32m    806\u001b[0m                 \u001b[0mwrite\u001b[0m\u001b[0;34m(\u001b[0m\u001b[0mAPPENDS\u001b[0m\u001b[0;34m)\u001b[0m\u001b[0;34m\u001b[0m\u001b[0;34m\u001b[0m\u001b[0m\n\u001b[1;32m    807\u001b[0m             \u001b[0;32melif\u001b[0m \u001b[0mn\u001b[0m\u001b[0;34m:\u001b[0m\u001b[0;34m\u001b[0m\u001b[0;34m\u001b[0m\u001b[0m\n\u001b[0;32m--> 808\u001b[0;31m                 \u001b[0msave\u001b[0m\u001b[0;34m(\u001b[0m\u001b[0mtmp\u001b[0m\u001b[0;34m[\u001b[0m\u001b[0;36m0\u001b[0m\u001b[0;34m]\u001b[0m\u001b[0;34m)\u001b[0m\u001b[0;34m\u001b[0m\u001b[0;34m\u001b[0m\u001b[0m\n\u001b[0m\u001b[1;32m    809\u001b[0m                 \u001b[0mwrite\u001b[0m\u001b[0;34m(\u001b[0m\u001b[0mAPPEND\u001b[0m\u001b[0;34m)\u001b[0m\u001b[0;34m\u001b[0m\u001b[0;34m\u001b[0m\u001b[0m\n\u001b[1;32m    810\u001b[0m             \u001b[0;31m# else tmp is empty, and we're done\u001b[0m\u001b[0;34m\u001b[0m\u001b[0;34m\u001b[0m\u001b[0;34m\u001b[0m\u001b[0m\n",
            "\u001b[0;32m/usr/lib/python3.6/pickle.py\u001b[0m in \u001b[0;36msave\u001b[0;34m(self, obj, save_persistent_id)\u001b[0m\n\u001b[1;32m    519\u001b[0m \u001b[0;34m\u001b[0m\u001b[0m\n\u001b[1;32m    520\u001b[0m         \u001b[0;31m# Save the reduce() output and finally memoize the object\u001b[0m\u001b[0;34m\u001b[0m\u001b[0;34m\u001b[0m\u001b[0;34m\u001b[0m\u001b[0m\n\u001b[0;32m--> 521\u001b[0;31m         \u001b[0mself\u001b[0m\u001b[0;34m.\u001b[0m\u001b[0msave_reduce\u001b[0m\u001b[0;34m(\u001b[0m\u001b[0mobj\u001b[0m\u001b[0;34m=\u001b[0m\u001b[0mobj\u001b[0m\u001b[0;34m,\u001b[0m \u001b[0;34m*\u001b[0m\u001b[0mrv\u001b[0m\u001b[0;34m)\u001b[0m\u001b[0;34m\u001b[0m\u001b[0;34m\u001b[0m\u001b[0m\n\u001b[0m\u001b[1;32m    522\u001b[0m \u001b[0;34m\u001b[0m\u001b[0m\n\u001b[1;32m    523\u001b[0m     \u001b[0;32mdef\u001b[0m \u001b[0mpersistent_id\u001b[0m\u001b[0;34m(\u001b[0m\u001b[0mself\u001b[0m\u001b[0;34m,\u001b[0m \u001b[0mobj\u001b[0m\u001b[0;34m)\u001b[0m\u001b[0;34m:\u001b[0m\u001b[0;34m\u001b[0m\u001b[0;34m\u001b[0m\u001b[0m\n",
            "\u001b[0;32m/usr/lib/python3.6/pickle.py\u001b[0m in \u001b[0;36msave_reduce\u001b[0;34m(self, func, args, state, listitems, dictitems, obj)\u001b[0m\n\u001b[1;32m    632\u001b[0m \u001b[0;34m\u001b[0m\u001b[0m\n\u001b[1;32m    633\u001b[0m         \u001b[0;32mif\u001b[0m \u001b[0mstate\u001b[0m \u001b[0;32mis\u001b[0m \u001b[0;32mnot\u001b[0m \u001b[0;32mNone\u001b[0m\u001b[0;34m:\u001b[0m\u001b[0;34m\u001b[0m\u001b[0;34m\u001b[0m\u001b[0m\n\u001b[0;32m--> 634\u001b[0;31m             \u001b[0msave\u001b[0m\u001b[0;34m(\u001b[0m\u001b[0mstate\u001b[0m\u001b[0;34m)\u001b[0m\u001b[0;34m\u001b[0m\u001b[0;34m\u001b[0m\u001b[0m\n\u001b[0m\u001b[1;32m    635\u001b[0m             \u001b[0mwrite\u001b[0m\u001b[0;34m(\u001b[0m\u001b[0mBUILD\u001b[0m\u001b[0;34m)\u001b[0m\u001b[0;34m\u001b[0m\u001b[0;34m\u001b[0m\u001b[0m\n\u001b[1;32m    636\u001b[0m \u001b[0;34m\u001b[0m\u001b[0m\n",
            "\u001b[0;32m/usr/lib/python3.6/pickle.py\u001b[0m in \u001b[0;36msave\u001b[0;34m(self, obj, save_persistent_id)\u001b[0m\n\u001b[1;32m    474\u001b[0m         \u001b[0mf\u001b[0m \u001b[0;34m=\u001b[0m \u001b[0mself\u001b[0m\u001b[0;34m.\u001b[0m\u001b[0mdispatch\u001b[0m\u001b[0;34m.\u001b[0m\u001b[0mget\u001b[0m\u001b[0;34m(\u001b[0m\u001b[0mt\u001b[0m\u001b[0;34m)\u001b[0m\u001b[0;34m\u001b[0m\u001b[0;34m\u001b[0m\u001b[0m\n\u001b[1;32m    475\u001b[0m         \u001b[0;32mif\u001b[0m \u001b[0mf\u001b[0m \u001b[0;32mis\u001b[0m \u001b[0;32mnot\u001b[0m \u001b[0;32mNone\u001b[0m\u001b[0;34m:\u001b[0m\u001b[0;34m\u001b[0m\u001b[0;34m\u001b[0m\u001b[0m\n\u001b[0;32m--> 476\u001b[0;31m             \u001b[0mf\u001b[0m\u001b[0;34m(\u001b[0m\u001b[0mself\u001b[0m\u001b[0;34m,\u001b[0m \u001b[0mobj\u001b[0m\u001b[0;34m)\u001b[0m \u001b[0;31m# Call unbound method with explicit self\u001b[0m\u001b[0;34m\u001b[0m\u001b[0;34m\u001b[0m\u001b[0m\n\u001b[0m\u001b[1;32m    477\u001b[0m             \u001b[0;32mreturn\u001b[0m\u001b[0;34m\u001b[0m\u001b[0;34m\u001b[0m\u001b[0m\n\u001b[1;32m    478\u001b[0m \u001b[0;34m\u001b[0m\u001b[0m\n",
            "\u001b[0;32m/usr/local/lib/python3.6/dist-packages/dill/_dill.py\u001b[0m in \u001b[0;36msave_module_dict\u001b[0;34m(pickler, obj)\u001b[0m\n\u001b[1;32m    931\u001b[0m             \u001b[0;31m# we only care about session the first pass thru\u001b[0m\u001b[0;34m\u001b[0m\u001b[0;34m\u001b[0m\u001b[0;34m\u001b[0m\u001b[0m\n\u001b[1;32m    932\u001b[0m             \u001b[0mpickler\u001b[0m\u001b[0;34m.\u001b[0m\u001b[0m_session\u001b[0m \u001b[0;34m=\u001b[0m \u001b[0;32mFalse\u001b[0m\u001b[0;34m\u001b[0m\u001b[0;34m\u001b[0m\u001b[0m\n\u001b[0;32m--> 933\u001b[0;31m         \u001b[0mStockPickler\u001b[0m\u001b[0;34m.\u001b[0m\u001b[0msave_dict\u001b[0m\u001b[0;34m(\u001b[0m\u001b[0mpickler\u001b[0m\u001b[0;34m,\u001b[0m \u001b[0mobj\u001b[0m\u001b[0;34m)\u001b[0m\u001b[0;34m\u001b[0m\u001b[0;34m\u001b[0m\u001b[0m\n\u001b[0m\u001b[1;32m    934\u001b[0m         \u001b[0mlog\u001b[0m\u001b[0;34m.\u001b[0m\u001b[0minfo\u001b[0m\u001b[0;34m(\u001b[0m\u001b[0;34m\"# D2\"\u001b[0m\u001b[0;34m)\u001b[0m\u001b[0;34m\u001b[0m\u001b[0;34m\u001b[0m\u001b[0m\n\u001b[1;32m    935\u001b[0m     \u001b[0;32mreturn\u001b[0m\u001b[0;34m\u001b[0m\u001b[0;34m\u001b[0m\u001b[0m\n",
            "\u001b[0;32m/usr/lib/python3.6/pickle.py\u001b[0m in \u001b[0;36msave_dict\u001b[0;34m(self, obj)\u001b[0m\n\u001b[1;32m    819\u001b[0m \u001b[0;34m\u001b[0m\u001b[0m\n\u001b[1;32m    820\u001b[0m         \u001b[0mself\u001b[0m\u001b[0;34m.\u001b[0m\u001b[0mmemoize\u001b[0m\u001b[0;34m(\u001b[0m\u001b[0mobj\u001b[0m\u001b[0;34m)\u001b[0m\u001b[0;34m\u001b[0m\u001b[0;34m\u001b[0m\u001b[0m\n\u001b[0;32m--> 821\u001b[0;31m         \u001b[0mself\u001b[0m\u001b[0;34m.\u001b[0m\u001b[0m_batch_setitems\u001b[0m\u001b[0;34m(\u001b[0m\u001b[0mobj\u001b[0m\u001b[0;34m.\u001b[0m\u001b[0mitems\u001b[0m\u001b[0;34m(\u001b[0m\u001b[0;34m)\u001b[0m\u001b[0;34m)\u001b[0m\u001b[0;34m\u001b[0m\u001b[0;34m\u001b[0m\u001b[0m\n\u001b[0m\u001b[1;32m    822\u001b[0m \u001b[0;34m\u001b[0m\u001b[0m\n\u001b[1;32m    823\u001b[0m     \u001b[0mdispatch\u001b[0m\u001b[0;34m[\u001b[0m\u001b[0mdict\u001b[0m\u001b[0;34m]\u001b[0m \u001b[0;34m=\u001b[0m \u001b[0msave_dict\u001b[0m\u001b[0;34m\u001b[0m\u001b[0;34m\u001b[0m\u001b[0m\n",
            "\u001b[0;32m/usr/lib/python3.6/pickle.py\u001b[0m in \u001b[0;36m_batch_setitems\u001b[0;34m(self, items)\u001b[0m\n\u001b[1;32m    845\u001b[0m                 \u001b[0;32mfor\u001b[0m \u001b[0mk\u001b[0m\u001b[0;34m,\u001b[0m \u001b[0mv\u001b[0m \u001b[0;32min\u001b[0m \u001b[0mtmp\u001b[0m\u001b[0;34m:\u001b[0m\u001b[0;34m\u001b[0m\u001b[0;34m\u001b[0m\u001b[0m\n\u001b[1;32m    846\u001b[0m                     \u001b[0msave\u001b[0m\u001b[0;34m(\u001b[0m\u001b[0mk\u001b[0m\u001b[0;34m)\u001b[0m\u001b[0;34m\u001b[0m\u001b[0;34m\u001b[0m\u001b[0m\n\u001b[0;32m--> 847\u001b[0;31m                     \u001b[0msave\u001b[0m\u001b[0;34m(\u001b[0m\u001b[0mv\u001b[0m\u001b[0;34m)\u001b[0m\u001b[0;34m\u001b[0m\u001b[0;34m\u001b[0m\u001b[0m\n\u001b[0m\u001b[1;32m    848\u001b[0m                 \u001b[0mwrite\u001b[0m\u001b[0;34m(\u001b[0m\u001b[0mSETITEMS\u001b[0m\u001b[0;34m)\u001b[0m\u001b[0;34m\u001b[0m\u001b[0;34m\u001b[0m\u001b[0m\n\u001b[1;32m    849\u001b[0m             \u001b[0;32melif\u001b[0m \u001b[0mn\u001b[0m\u001b[0;34m:\u001b[0m\u001b[0;34m\u001b[0m\u001b[0;34m\u001b[0m\u001b[0m\n",
            "\u001b[0;32m/usr/lib/python3.6/pickle.py\u001b[0m in \u001b[0;36msave\u001b[0;34m(self, obj, save_persistent_id)\u001b[0m\n\u001b[1;32m    519\u001b[0m \u001b[0;34m\u001b[0m\u001b[0m\n\u001b[1;32m    520\u001b[0m         \u001b[0;31m# Save the reduce() output and finally memoize the object\u001b[0m\u001b[0;34m\u001b[0m\u001b[0;34m\u001b[0m\u001b[0;34m\u001b[0m\u001b[0m\n\u001b[0;32m--> 521\u001b[0;31m         \u001b[0mself\u001b[0m\u001b[0;34m.\u001b[0m\u001b[0msave_reduce\u001b[0m\u001b[0;34m(\u001b[0m\u001b[0mobj\u001b[0m\u001b[0;34m=\u001b[0m\u001b[0mobj\u001b[0m\u001b[0;34m,\u001b[0m \u001b[0;34m*\u001b[0m\u001b[0mrv\u001b[0m\u001b[0;34m)\u001b[0m\u001b[0;34m\u001b[0m\u001b[0;34m\u001b[0m\u001b[0m\n\u001b[0m\u001b[1;32m    522\u001b[0m \u001b[0;34m\u001b[0m\u001b[0m\n\u001b[1;32m    523\u001b[0m     \u001b[0;32mdef\u001b[0m \u001b[0mpersistent_id\u001b[0m\u001b[0;34m(\u001b[0m\u001b[0mself\u001b[0m\u001b[0;34m,\u001b[0m \u001b[0mobj\u001b[0m\u001b[0;34m)\u001b[0m\u001b[0;34m:\u001b[0m\u001b[0;34m\u001b[0m\u001b[0;34m\u001b[0m\u001b[0m\n",
            "\u001b[0;32m/usr/lib/python3.6/pickle.py\u001b[0m in \u001b[0;36msave_reduce\u001b[0;34m(self, func, args, state, listitems, dictitems, obj)\u001b[0m\n\u001b[1;32m    632\u001b[0m \u001b[0;34m\u001b[0m\u001b[0m\n\u001b[1;32m    633\u001b[0m         \u001b[0;32mif\u001b[0m \u001b[0mstate\u001b[0m \u001b[0;32mis\u001b[0m \u001b[0;32mnot\u001b[0m \u001b[0;32mNone\u001b[0m\u001b[0;34m:\u001b[0m\u001b[0;34m\u001b[0m\u001b[0;34m\u001b[0m\u001b[0m\n\u001b[0;32m--> 634\u001b[0;31m             \u001b[0msave\u001b[0m\u001b[0;34m(\u001b[0m\u001b[0mstate\u001b[0m\u001b[0;34m)\u001b[0m\u001b[0;34m\u001b[0m\u001b[0;34m\u001b[0m\u001b[0m\n\u001b[0m\u001b[1;32m    635\u001b[0m             \u001b[0mwrite\u001b[0m\u001b[0;34m(\u001b[0m\u001b[0mBUILD\u001b[0m\u001b[0;34m)\u001b[0m\u001b[0;34m\u001b[0m\u001b[0;34m\u001b[0m\u001b[0m\n\u001b[1;32m    636\u001b[0m \u001b[0;34m\u001b[0m\u001b[0m\n",
            "\u001b[0;32m/usr/lib/python3.6/pickle.py\u001b[0m in \u001b[0;36msave\u001b[0;34m(self, obj, save_persistent_id)\u001b[0m\n\u001b[1;32m    474\u001b[0m         \u001b[0mf\u001b[0m \u001b[0;34m=\u001b[0m \u001b[0mself\u001b[0m\u001b[0;34m.\u001b[0m\u001b[0mdispatch\u001b[0m\u001b[0;34m.\u001b[0m\u001b[0mget\u001b[0m\u001b[0;34m(\u001b[0m\u001b[0mt\u001b[0m\u001b[0;34m)\u001b[0m\u001b[0;34m\u001b[0m\u001b[0;34m\u001b[0m\u001b[0m\n\u001b[1;32m    475\u001b[0m         \u001b[0;32mif\u001b[0m \u001b[0mf\u001b[0m \u001b[0;32mis\u001b[0m \u001b[0;32mnot\u001b[0m \u001b[0;32mNone\u001b[0m\u001b[0;34m:\u001b[0m\u001b[0;34m\u001b[0m\u001b[0;34m\u001b[0m\u001b[0m\n\u001b[0;32m--> 476\u001b[0;31m             \u001b[0mf\u001b[0m\u001b[0;34m(\u001b[0m\u001b[0mself\u001b[0m\u001b[0;34m,\u001b[0m \u001b[0mobj\u001b[0m\u001b[0;34m)\u001b[0m \u001b[0;31m# Call unbound method with explicit self\u001b[0m\u001b[0;34m\u001b[0m\u001b[0;34m\u001b[0m\u001b[0m\n\u001b[0m\u001b[1;32m    477\u001b[0m             \u001b[0;32mreturn\u001b[0m\u001b[0;34m\u001b[0m\u001b[0;34m\u001b[0m\u001b[0m\n\u001b[1;32m    478\u001b[0m \u001b[0;34m\u001b[0m\u001b[0m\n",
            "\u001b[0;32m/usr/local/lib/python3.6/dist-packages/dill/_dill.py\u001b[0m in \u001b[0;36msave_module_dict\u001b[0;34m(pickler, obj)\u001b[0m\n\u001b[1;32m    931\u001b[0m             \u001b[0;31m# we only care about session the first pass thru\u001b[0m\u001b[0;34m\u001b[0m\u001b[0;34m\u001b[0m\u001b[0;34m\u001b[0m\u001b[0m\n\u001b[1;32m    932\u001b[0m             \u001b[0mpickler\u001b[0m\u001b[0;34m.\u001b[0m\u001b[0m_session\u001b[0m \u001b[0;34m=\u001b[0m \u001b[0;32mFalse\u001b[0m\u001b[0;34m\u001b[0m\u001b[0;34m\u001b[0m\u001b[0m\n\u001b[0;32m--> 933\u001b[0;31m         \u001b[0mStockPickler\u001b[0m\u001b[0;34m.\u001b[0m\u001b[0msave_dict\u001b[0m\u001b[0;34m(\u001b[0m\u001b[0mpickler\u001b[0m\u001b[0;34m,\u001b[0m \u001b[0mobj\u001b[0m\u001b[0;34m)\u001b[0m\u001b[0;34m\u001b[0m\u001b[0;34m\u001b[0m\u001b[0m\n\u001b[0m\u001b[1;32m    934\u001b[0m         \u001b[0mlog\u001b[0m\u001b[0;34m.\u001b[0m\u001b[0minfo\u001b[0m\u001b[0;34m(\u001b[0m\u001b[0;34m\"# D2\"\u001b[0m\u001b[0;34m)\u001b[0m\u001b[0;34m\u001b[0m\u001b[0;34m\u001b[0m\u001b[0m\n\u001b[1;32m    935\u001b[0m     \u001b[0;32mreturn\u001b[0m\u001b[0;34m\u001b[0m\u001b[0;34m\u001b[0m\u001b[0m\n",
            "\u001b[0;32m/usr/lib/python3.6/pickle.py\u001b[0m in \u001b[0;36msave_dict\u001b[0;34m(self, obj)\u001b[0m\n\u001b[1;32m    819\u001b[0m \u001b[0;34m\u001b[0m\u001b[0m\n\u001b[1;32m    820\u001b[0m         \u001b[0mself\u001b[0m\u001b[0;34m.\u001b[0m\u001b[0mmemoize\u001b[0m\u001b[0;34m(\u001b[0m\u001b[0mobj\u001b[0m\u001b[0;34m)\u001b[0m\u001b[0;34m\u001b[0m\u001b[0;34m\u001b[0m\u001b[0m\n\u001b[0;32m--> 821\u001b[0;31m         \u001b[0mself\u001b[0m\u001b[0;34m.\u001b[0m\u001b[0m_batch_setitems\u001b[0m\u001b[0;34m(\u001b[0m\u001b[0mobj\u001b[0m\u001b[0;34m.\u001b[0m\u001b[0mitems\u001b[0m\u001b[0;34m(\u001b[0m\u001b[0;34m)\u001b[0m\u001b[0;34m)\u001b[0m\u001b[0;34m\u001b[0m\u001b[0;34m\u001b[0m\u001b[0m\n\u001b[0m\u001b[1;32m    822\u001b[0m \u001b[0;34m\u001b[0m\u001b[0m\n\u001b[1;32m    823\u001b[0m     \u001b[0mdispatch\u001b[0m\u001b[0;34m[\u001b[0m\u001b[0mdict\u001b[0m\u001b[0;34m]\u001b[0m \u001b[0;34m=\u001b[0m \u001b[0msave_dict\u001b[0m\u001b[0;34m\u001b[0m\u001b[0;34m\u001b[0m\u001b[0m\n",
            "\u001b[0;32m/usr/lib/python3.6/pickle.py\u001b[0m in \u001b[0;36m_batch_setitems\u001b[0;34m(self, items)\u001b[0m\n\u001b[1;32m    845\u001b[0m                 \u001b[0;32mfor\u001b[0m \u001b[0mk\u001b[0m\u001b[0;34m,\u001b[0m \u001b[0mv\u001b[0m \u001b[0;32min\u001b[0m \u001b[0mtmp\u001b[0m\u001b[0;34m:\u001b[0m\u001b[0;34m\u001b[0m\u001b[0;34m\u001b[0m\u001b[0m\n\u001b[1;32m    846\u001b[0m                     \u001b[0msave\u001b[0m\u001b[0;34m(\u001b[0m\u001b[0mk\u001b[0m\u001b[0;34m)\u001b[0m\u001b[0;34m\u001b[0m\u001b[0;34m\u001b[0m\u001b[0m\n\u001b[0;32m--> 847\u001b[0;31m                     \u001b[0msave\u001b[0m\u001b[0;34m(\u001b[0m\u001b[0mv\u001b[0m\u001b[0;34m)\u001b[0m\u001b[0;34m\u001b[0m\u001b[0;34m\u001b[0m\u001b[0m\n\u001b[0m\u001b[1;32m    848\u001b[0m                 \u001b[0mwrite\u001b[0m\u001b[0;34m(\u001b[0m\u001b[0mSETITEMS\u001b[0m\u001b[0;34m)\u001b[0m\u001b[0;34m\u001b[0m\u001b[0;34m\u001b[0m\u001b[0m\n\u001b[1;32m    849\u001b[0m             \u001b[0;32melif\u001b[0m \u001b[0mn\u001b[0m\u001b[0;34m:\u001b[0m\u001b[0;34m\u001b[0m\u001b[0;34m\u001b[0m\u001b[0m\n",
            "\u001b[0;32m/usr/lib/python3.6/pickle.py\u001b[0m in \u001b[0;36msave\u001b[0;34m(self, obj, save_persistent_id)\u001b[0m\n\u001b[1;32m    519\u001b[0m \u001b[0;34m\u001b[0m\u001b[0m\n\u001b[1;32m    520\u001b[0m         \u001b[0;31m# Save the reduce() output and finally memoize the object\u001b[0m\u001b[0;34m\u001b[0m\u001b[0;34m\u001b[0m\u001b[0;34m\u001b[0m\u001b[0m\n\u001b[0;32m--> 521\u001b[0;31m         \u001b[0mself\u001b[0m\u001b[0;34m.\u001b[0m\u001b[0msave_reduce\u001b[0m\u001b[0;34m(\u001b[0m\u001b[0mobj\u001b[0m\u001b[0;34m=\u001b[0m\u001b[0mobj\u001b[0m\u001b[0;34m,\u001b[0m \u001b[0;34m*\u001b[0m\u001b[0mrv\u001b[0m\u001b[0;34m)\u001b[0m\u001b[0;34m\u001b[0m\u001b[0;34m\u001b[0m\u001b[0m\n\u001b[0m\u001b[1;32m    522\u001b[0m \u001b[0;34m\u001b[0m\u001b[0m\n\u001b[1;32m    523\u001b[0m     \u001b[0;32mdef\u001b[0m \u001b[0mpersistent_id\u001b[0m\u001b[0;34m(\u001b[0m\u001b[0mself\u001b[0m\u001b[0;34m,\u001b[0m \u001b[0mobj\u001b[0m\u001b[0;34m)\u001b[0m\u001b[0;34m:\u001b[0m\u001b[0;34m\u001b[0m\u001b[0;34m\u001b[0m\u001b[0m\n",
            "\u001b[0;32m/usr/lib/python3.6/pickle.py\u001b[0m in \u001b[0;36msave_reduce\u001b[0;34m(self, func, args, state, listitems, dictitems, obj)\u001b[0m\n\u001b[1;32m    632\u001b[0m \u001b[0;34m\u001b[0m\u001b[0m\n\u001b[1;32m    633\u001b[0m         \u001b[0;32mif\u001b[0m \u001b[0mstate\u001b[0m \u001b[0;32mis\u001b[0m \u001b[0;32mnot\u001b[0m \u001b[0;32mNone\u001b[0m\u001b[0;34m:\u001b[0m\u001b[0;34m\u001b[0m\u001b[0;34m\u001b[0m\u001b[0m\n\u001b[0;32m--> 634\u001b[0;31m             \u001b[0msave\u001b[0m\u001b[0;34m(\u001b[0m\u001b[0mstate\u001b[0m\u001b[0;34m)\u001b[0m\u001b[0;34m\u001b[0m\u001b[0;34m\u001b[0m\u001b[0m\n\u001b[0m\u001b[1;32m    635\u001b[0m             \u001b[0mwrite\u001b[0m\u001b[0;34m(\u001b[0m\u001b[0mBUILD\u001b[0m\u001b[0;34m)\u001b[0m\u001b[0;34m\u001b[0m\u001b[0;34m\u001b[0m\u001b[0m\n\u001b[1;32m    636\u001b[0m \u001b[0;34m\u001b[0m\u001b[0m\n",
            "\u001b[0;32m/usr/lib/python3.6/pickle.py\u001b[0m in \u001b[0;36msave\u001b[0;34m(self, obj, save_persistent_id)\u001b[0m\n\u001b[1;32m    474\u001b[0m         \u001b[0mf\u001b[0m \u001b[0;34m=\u001b[0m \u001b[0mself\u001b[0m\u001b[0;34m.\u001b[0m\u001b[0mdispatch\u001b[0m\u001b[0;34m.\u001b[0m\u001b[0mget\u001b[0m\u001b[0;34m(\u001b[0m\u001b[0mt\u001b[0m\u001b[0;34m)\u001b[0m\u001b[0;34m\u001b[0m\u001b[0;34m\u001b[0m\u001b[0m\n\u001b[1;32m    475\u001b[0m         \u001b[0;32mif\u001b[0m \u001b[0mf\u001b[0m \u001b[0;32mis\u001b[0m \u001b[0;32mnot\u001b[0m \u001b[0;32mNone\u001b[0m\u001b[0;34m:\u001b[0m\u001b[0;34m\u001b[0m\u001b[0;34m\u001b[0m\u001b[0m\n\u001b[0;32m--> 476\u001b[0;31m             \u001b[0mf\u001b[0m\u001b[0;34m(\u001b[0m\u001b[0mself\u001b[0m\u001b[0;34m,\u001b[0m \u001b[0mobj\u001b[0m\u001b[0;34m)\u001b[0m \u001b[0;31m# Call unbound method with explicit self\u001b[0m\u001b[0;34m\u001b[0m\u001b[0;34m\u001b[0m\u001b[0m\n\u001b[0m\u001b[1;32m    477\u001b[0m             \u001b[0;32mreturn\u001b[0m\u001b[0;34m\u001b[0m\u001b[0;34m\u001b[0m\u001b[0m\n\u001b[1;32m    478\u001b[0m \u001b[0;34m\u001b[0m\u001b[0m\n",
            "\u001b[0;32m/usr/local/lib/python3.6/dist-packages/dill/_dill.py\u001b[0m in \u001b[0;36msave_module_dict\u001b[0;34m(pickler, obj)\u001b[0m\n\u001b[1;32m    931\u001b[0m             \u001b[0;31m# we only care about session the first pass thru\u001b[0m\u001b[0;34m\u001b[0m\u001b[0;34m\u001b[0m\u001b[0;34m\u001b[0m\u001b[0m\n\u001b[1;32m    932\u001b[0m             \u001b[0mpickler\u001b[0m\u001b[0;34m.\u001b[0m\u001b[0m_session\u001b[0m \u001b[0;34m=\u001b[0m \u001b[0;32mFalse\u001b[0m\u001b[0;34m\u001b[0m\u001b[0;34m\u001b[0m\u001b[0m\n\u001b[0;32m--> 933\u001b[0;31m         \u001b[0mStockPickler\u001b[0m\u001b[0;34m.\u001b[0m\u001b[0msave_dict\u001b[0m\u001b[0;34m(\u001b[0m\u001b[0mpickler\u001b[0m\u001b[0;34m,\u001b[0m \u001b[0mobj\u001b[0m\u001b[0;34m)\u001b[0m\u001b[0;34m\u001b[0m\u001b[0;34m\u001b[0m\u001b[0m\n\u001b[0m\u001b[1;32m    934\u001b[0m         \u001b[0mlog\u001b[0m\u001b[0;34m.\u001b[0m\u001b[0minfo\u001b[0m\u001b[0;34m(\u001b[0m\u001b[0;34m\"# D2\"\u001b[0m\u001b[0;34m)\u001b[0m\u001b[0;34m\u001b[0m\u001b[0;34m\u001b[0m\u001b[0m\n\u001b[1;32m    935\u001b[0m     \u001b[0;32mreturn\u001b[0m\u001b[0;34m\u001b[0m\u001b[0;34m\u001b[0m\u001b[0m\n",
            "\u001b[0;32m/usr/lib/python3.6/pickle.py\u001b[0m in \u001b[0;36msave_dict\u001b[0;34m(self, obj)\u001b[0m\n\u001b[1;32m    819\u001b[0m \u001b[0;34m\u001b[0m\u001b[0m\n\u001b[1;32m    820\u001b[0m         \u001b[0mself\u001b[0m\u001b[0;34m.\u001b[0m\u001b[0mmemoize\u001b[0m\u001b[0;34m(\u001b[0m\u001b[0mobj\u001b[0m\u001b[0;34m)\u001b[0m\u001b[0;34m\u001b[0m\u001b[0;34m\u001b[0m\u001b[0m\n\u001b[0;32m--> 821\u001b[0;31m         \u001b[0mself\u001b[0m\u001b[0;34m.\u001b[0m\u001b[0m_batch_setitems\u001b[0m\u001b[0;34m(\u001b[0m\u001b[0mobj\u001b[0m\u001b[0;34m.\u001b[0m\u001b[0mitems\u001b[0m\u001b[0;34m(\u001b[0m\u001b[0;34m)\u001b[0m\u001b[0;34m)\u001b[0m\u001b[0;34m\u001b[0m\u001b[0;34m\u001b[0m\u001b[0m\n\u001b[0m\u001b[1;32m    822\u001b[0m \u001b[0;34m\u001b[0m\u001b[0m\n\u001b[1;32m    823\u001b[0m     \u001b[0mdispatch\u001b[0m\u001b[0;34m[\u001b[0m\u001b[0mdict\u001b[0m\u001b[0;34m]\u001b[0m \u001b[0;34m=\u001b[0m \u001b[0msave_dict\u001b[0m\u001b[0;34m\u001b[0m\u001b[0;34m\u001b[0m\u001b[0m\n",
            "\u001b[0;32m/usr/lib/python3.6/pickle.py\u001b[0m in \u001b[0;36m_batch_setitems\u001b[0;34m(self, items)\u001b[0m\n\u001b[1;32m    845\u001b[0m                 \u001b[0;32mfor\u001b[0m \u001b[0mk\u001b[0m\u001b[0;34m,\u001b[0m \u001b[0mv\u001b[0m \u001b[0;32min\u001b[0m \u001b[0mtmp\u001b[0m\u001b[0;34m:\u001b[0m\u001b[0;34m\u001b[0m\u001b[0;34m\u001b[0m\u001b[0m\n\u001b[1;32m    846\u001b[0m                     \u001b[0msave\u001b[0m\u001b[0;34m(\u001b[0m\u001b[0mk\u001b[0m\u001b[0;34m)\u001b[0m\u001b[0;34m\u001b[0m\u001b[0;34m\u001b[0m\u001b[0m\n\u001b[0;32m--> 847\u001b[0;31m                     \u001b[0msave\u001b[0m\u001b[0;34m(\u001b[0m\u001b[0mv\u001b[0m\u001b[0;34m)\u001b[0m\u001b[0;34m\u001b[0m\u001b[0;34m\u001b[0m\u001b[0m\n\u001b[0m\u001b[1;32m    848\u001b[0m                 \u001b[0mwrite\u001b[0m\u001b[0;34m(\u001b[0m\u001b[0mSETITEMS\u001b[0m\u001b[0;34m)\u001b[0m\u001b[0;34m\u001b[0m\u001b[0;34m\u001b[0m\u001b[0m\n\u001b[1;32m    849\u001b[0m             \u001b[0;32melif\u001b[0m \u001b[0mn\u001b[0m\u001b[0;34m:\u001b[0m\u001b[0;34m\u001b[0m\u001b[0;34m\u001b[0m\u001b[0m\n",
            "\u001b[0;32m/usr/lib/python3.6/pickle.py\u001b[0m in \u001b[0;36msave\u001b[0;34m(self, obj, save_persistent_id)\u001b[0m\n\u001b[1;32m    519\u001b[0m \u001b[0;34m\u001b[0m\u001b[0m\n\u001b[1;32m    520\u001b[0m         \u001b[0;31m# Save the reduce() output and finally memoize the object\u001b[0m\u001b[0;34m\u001b[0m\u001b[0;34m\u001b[0m\u001b[0;34m\u001b[0m\u001b[0m\n\u001b[0;32m--> 521\u001b[0;31m         \u001b[0mself\u001b[0m\u001b[0;34m.\u001b[0m\u001b[0msave_reduce\u001b[0m\u001b[0;34m(\u001b[0m\u001b[0mobj\u001b[0m\u001b[0;34m=\u001b[0m\u001b[0mobj\u001b[0m\u001b[0;34m,\u001b[0m \u001b[0;34m*\u001b[0m\u001b[0mrv\u001b[0m\u001b[0;34m)\u001b[0m\u001b[0;34m\u001b[0m\u001b[0;34m\u001b[0m\u001b[0m\n\u001b[0m\u001b[1;32m    522\u001b[0m \u001b[0;34m\u001b[0m\u001b[0m\n\u001b[1;32m    523\u001b[0m     \u001b[0;32mdef\u001b[0m \u001b[0mpersistent_id\u001b[0m\u001b[0;34m(\u001b[0m\u001b[0mself\u001b[0m\u001b[0;34m,\u001b[0m \u001b[0mobj\u001b[0m\u001b[0;34m)\u001b[0m\u001b[0;34m:\u001b[0m\u001b[0;34m\u001b[0m\u001b[0;34m\u001b[0m\u001b[0m\n",
            "\u001b[0;32m/usr/lib/python3.6/pickle.py\u001b[0m in \u001b[0;36msave_reduce\u001b[0;34m(self, func, args, state, listitems, dictitems, obj)\u001b[0m\n\u001b[1;32m    632\u001b[0m \u001b[0;34m\u001b[0m\u001b[0m\n\u001b[1;32m    633\u001b[0m         \u001b[0;32mif\u001b[0m \u001b[0mstate\u001b[0m \u001b[0;32mis\u001b[0m \u001b[0;32mnot\u001b[0m \u001b[0;32mNone\u001b[0m\u001b[0;34m:\u001b[0m\u001b[0;34m\u001b[0m\u001b[0;34m\u001b[0m\u001b[0m\n\u001b[0;32m--> 634\u001b[0;31m             \u001b[0msave\u001b[0m\u001b[0;34m(\u001b[0m\u001b[0mstate\u001b[0m\u001b[0;34m)\u001b[0m\u001b[0;34m\u001b[0m\u001b[0;34m\u001b[0m\u001b[0m\n\u001b[0m\u001b[1;32m    635\u001b[0m             \u001b[0mwrite\u001b[0m\u001b[0;34m(\u001b[0m\u001b[0mBUILD\u001b[0m\u001b[0;34m)\u001b[0m\u001b[0;34m\u001b[0m\u001b[0;34m\u001b[0m\u001b[0m\n\u001b[1;32m    636\u001b[0m \u001b[0;34m\u001b[0m\u001b[0m\n",
            "\u001b[0;32m/usr/lib/python3.6/pickle.py\u001b[0m in \u001b[0;36msave\u001b[0;34m(self, obj, save_persistent_id)\u001b[0m\n\u001b[1;32m    474\u001b[0m         \u001b[0mf\u001b[0m \u001b[0;34m=\u001b[0m \u001b[0mself\u001b[0m\u001b[0;34m.\u001b[0m\u001b[0mdispatch\u001b[0m\u001b[0;34m.\u001b[0m\u001b[0mget\u001b[0m\u001b[0;34m(\u001b[0m\u001b[0mt\u001b[0m\u001b[0;34m)\u001b[0m\u001b[0;34m\u001b[0m\u001b[0;34m\u001b[0m\u001b[0m\n\u001b[1;32m    475\u001b[0m         \u001b[0;32mif\u001b[0m \u001b[0mf\u001b[0m \u001b[0;32mis\u001b[0m \u001b[0;32mnot\u001b[0m \u001b[0;32mNone\u001b[0m\u001b[0;34m:\u001b[0m\u001b[0;34m\u001b[0m\u001b[0;34m\u001b[0m\u001b[0m\n\u001b[0;32m--> 476\u001b[0;31m             \u001b[0mf\u001b[0m\u001b[0;34m(\u001b[0m\u001b[0mself\u001b[0m\u001b[0;34m,\u001b[0m \u001b[0mobj\u001b[0m\u001b[0;34m)\u001b[0m \u001b[0;31m# Call unbound method with explicit self\u001b[0m\u001b[0;34m\u001b[0m\u001b[0;34m\u001b[0m\u001b[0m\n\u001b[0m\u001b[1;32m    477\u001b[0m             \u001b[0;32mreturn\u001b[0m\u001b[0;34m\u001b[0m\u001b[0;34m\u001b[0m\u001b[0m\n\u001b[1;32m    478\u001b[0m \u001b[0;34m\u001b[0m\u001b[0m\n",
            "\u001b[0;32m/usr/local/lib/python3.6/dist-packages/dill/_dill.py\u001b[0m in \u001b[0;36msave_module_dict\u001b[0;34m(pickler, obj)\u001b[0m\n\u001b[1;32m    931\u001b[0m             \u001b[0;31m# we only care about session the first pass thru\u001b[0m\u001b[0;34m\u001b[0m\u001b[0;34m\u001b[0m\u001b[0;34m\u001b[0m\u001b[0m\n\u001b[1;32m    932\u001b[0m             \u001b[0mpickler\u001b[0m\u001b[0;34m.\u001b[0m\u001b[0m_session\u001b[0m \u001b[0;34m=\u001b[0m \u001b[0;32mFalse\u001b[0m\u001b[0;34m\u001b[0m\u001b[0;34m\u001b[0m\u001b[0m\n\u001b[0;32m--> 933\u001b[0;31m         \u001b[0mStockPickler\u001b[0m\u001b[0;34m.\u001b[0m\u001b[0msave_dict\u001b[0m\u001b[0;34m(\u001b[0m\u001b[0mpickler\u001b[0m\u001b[0;34m,\u001b[0m \u001b[0mobj\u001b[0m\u001b[0;34m)\u001b[0m\u001b[0;34m\u001b[0m\u001b[0;34m\u001b[0m\u001b[0m\n\u001b[0m\u001b[1;32m    934\u001b[0m         \u001b[0mlog\u001b[0m\u001b[0;34m.\u001b[0m\u001b[0minfo\u001b[0m\u001b[0;34m(\u001b[0m\u001b[0;34m\"# D2\"\u001b[0m\u001b[0;34m)\u001b[0m\u001b[0;34m\u001b[0m\u001b[0;34m\u001b[0m\u001b[0m\n\u001b[1;32m    935\u001b[0m     \u001b[0;32mreturn\u001b[0m\u001b[0;34m\u001b[0m\u001b[0;34m\u001b[0m\u001b[0m\n",
            "\u001b[0;32m/usr/lib/python3.6/pickle.py\u001b[0m in \u001b[0;36msave_dict\u001b[0;34m(self, obj)\u001b[0m\n\u001b[1;32m    819\u001b[0m \u001b[0;34m\u001b[0m\u001b[0m\n\u001b[1;32m    820\u001b[0m         \u001b[0mself\u001b[0m\u001b[0;34m.\u001b[0m\u001b[0mmemoize\u001b[0m\u001b[0;34m(\u001b[0m\u001b[0mobj\u001b[0m\u001b[0;34m)\u001b[0m\u001b[0;34m\u001b[0m\u001b[0;34m\u001b[0m\u001b[0m\n\u001b[0;32m--> 821\u001b[0;31m         \u001b[0mself\u001b[0m\u001b[0;34m.\u001b[0m\u001b[0m_batch_setitems\u001b[0m\u001b[0;34m(\u001b[0m\u001b[0mobj\u001b[0m\u001b[0;34m.\u001b[0m\u001b[0mitems\u001b[0m\u001b[0;34m(\u001b[0m\u001b[0;34m)\u001b[0m\u001b[0;34m)\u001b[0m\u001b[0;34m\u001b[0m\u001b[0;34m\u001b[0m\u001b[0m\n\u001b[0m\u001b[1;32m    822\u001b[0m \u001b[0;34m\u001b[0m\u001b[0m\n\u001b[1;32m    823\u001b[0m     \u001b[0mdispatch\u001b[0m\u001b[0;34m[\u001b[0m\u001b[0mdict\u001b[0m\u001b[0;34m]\u001b[0m \u001b[0;34m=\u001b[0m \u001b[0msave_dict\u001b[0m\u001b[0;34m\u001b[0m\u001b[0;34m\u001b[0m\u001b[0m\n",
            "\u001b[0;32m/usr/lib/python3.6/pickle.py\u001b[0m in \u001b[0;36m_batch_setitems\u001b[0;34m(self, items)\u001b[0m\n\u001b[1;32m    845\u001b[0m                 \u001b[0;32mfor\u001b[0m \u001b[0mk\u001b[0m\u001b[0;34m,\u001b[0m \u001b[0mv\u001b[0m \u001b[0;32min\u001b[0m \u001b[0mtmp\u001b[0m\u001b[0;34m:\u001b[0m\u001b[0;34m\u001b[0m\u001b[0;34m\u001b[0m\u001b[0m\n\u001b[1;32m    846\u001b[0m                     \u001b[0msave\u001b[0m\u001b[0;34m(\u001b[0m\u001b[0mk\u001b[0m\u001b[0;34m)\u001b[0m\u001b[0;34m\u001b[0m\u001b[0;34m\u001b[0m\u001b[0m\n\u001b[0;32m--> 847\u001b[0;31m                     \u001b[0msave\u001b[0m\u001b[0;34m(\u001b[0m\u001b[0mv\u001b[0m\u001b[0;34m)\u001b[0m\u001b[0;34m\u001b[0m\u001b[0;34m\u001b[0m\u001b[0m\n\u001b[0m\u001b[1;32m    848\u001b[0m                 \u001b[0mwrite\u001b[0m\u001b[0;34m(\u001b[0m\u001b[0mSETITEMS\u001b[0m\u001b[0;34m)\u001b[0m\u001b[0;34m\u001b[0m\u001b[0;34m\u001b[0m\u001b[0m\n\u001b[1;32m    849\u001b[0m             \u001b[0;32melif\u001b[0m \u001b[0mn\u001b[0m\u001b[0;34m:\u001b[0m\u001b[0;34m\u001b[0m\u001b[0;34m\u001b[0m\u001b[0m\n",
            "\u001b[0;32m/usr/lib/python3.6/pickle.py\u001b[0m in \u001b[0;36msave\u001b[0;34m(self, obj, save_persistent_id)\u001b[0m\n\u001b[1;32m    474\u001b[0m         \u001b[0mf\u001b[0m \u001b[0;34m=\u001b[0m \u001b[0mself\u001b[0m\u001b[0;34m.\u001b[0m\u001b[0mdispatch\u001b[0m\u001b[0;34m.\u001b[0m\u001b[0mget\u001b[0m\u001b[0;34m(\u001b[0m\u001b[0mt\u001b[0m\u001b[0;34m)\u001b[0m\u001b[0;34m\u001b[0m\u001b[0;34m\u001b[0m\u001b[0m\n\u001b[1;32m    475\u001b[0m         \u001b[0;32mif\u001b[0m \u001b[0mf\u001b[0m \u001b[0;32mis\u001b[0m \u001b[0;32mnot\u001b[0m \u001b[0;32mNone\u001b[0m\u001b[0;34m:\u001b[0m\u001b[0;34m\u001b[0m\u001b[0;34m\u001b[0m\u001b[0m\n\u001b[0;32m--> 476\u001b[0;31m             \u001b[0mf\u001b[0m\u001b[0;34m(\u001b[0m\u001b[0mself\u001b[0m\u001b[0;34m,\u001b[0m \u001b[0mobj\u001b[0m\u001b[0;34m)\u001b[0m \u001b[0;31m# Call unbound method with explicit self\u001b[0m\u001b[0;34m\u001b[0m\u001b[0;34m\u001b[0m\u001b[0m\n\u001b[0m\u001b[1;32m    477\u001b[0m             \u001b[0;32mreturn\u001b[0m\u001b[0;34m\u001b[0m\u001b[0;34m\u001b[0m\u001b[0m\n\u001b[1;32m    478\u001b[0m \u001b[0;34m\u001b[0m\u001b[0m\n",
            "\u001b[0;32m/usr/local/lib/python3.6/dist-packages/dill/_dill.py\u001b[0m in \u001b[0;36msave_module_dict\u001b[0;34m(pickler, obj)\u001b[0m\n\u001b[1;32m    931\u001b[0m             \u001b[0;31m# we only care about session the first pass thru\u001b[0m\u001b[0;34m\u001b[0m\u001b[0;34m\u001b[0m\u001b[0;34m\u001b[0m\u001b[0m\n\u001b[1;32m    932\u001b[0m             \u001b[0mpickler\u001b[0m\u001b[0;34m.\u001b[0m\u001b[0m_session\u001b[0m \u001b[0;34m=\u001b[0m \u001b[0;32mFalse\u001b[0m\u001b[0;34m\u001b[0m\u001b[0;34m\u001b[0m\u001b[0m\n\u001b[0;32m--> 933\u001b[0;31m         \u001b[0mStockPickler\u001b[0m\u001b[0;34m.\u001b[0m\u001b[0msave_dict\u001b[0m\u001b[0;34m(\u001b[0m\u001b[0mpickler\u001b[0m\u001b[0;34m,\u001b[0m \u001b[0mobj\u001b[0m\u001b[0;34m)\u001b[0m\u001b[0;34m\u001b[0m\u001b[0;34m\u001b[0m\u001b[0m\n\u001b[0m\u001b[1;32m    934\u001b[0m         \u001b[0mlog\u001b[0m\u001b[0;34m.\u001b[0m\u001b[0minfo\u001b[0m\u001b[0;34m(\u001b[0m\u001b[0;34m\"# D2\"\u001b[0m\u001b[0;34m)\u001b[0m\u001b[0;34m\u001b[0m\u001b[0;34m\u001b[0m\u001b[0m\n\u001b[1;32m    935\u001b[0m     \u001b[0;32mreturn\u001b[0m\u001b[0;34m\u001b[0m\u001b[0;34m\u001b[0m\u001b[0m\n",
            "\u001b[0;32m/usr/lib/python3.6/pickle.py\u001b[0m in \u001b[0;36msave_dict\u001b[0;34m(self, obj)\u001b[0m\n\u001b[1;32m    819\u001b[0m \u001b[0;34m\u001b[0m\u001b[0m\n\u001b[1;32m    820\u001b[0m         \u001b[0mself\u001b[0m\u001b[0;34m.\u001b[0m\u001b[0mmemoize\u001b[0m\u001b[0;34m(\u001b[0m\u001b[0mobj\u001b[0m\u001b[0;34m)\u001b[0m\u001b[0;34m\u001b[0m\u001b[0;34m\u001b[0m\u001b[0m\n\u001b[0;32m--> 821\u001b[0;31m         \u001b[0mself\u001b[0m\u001b[0;34m.\u001b[0m\u001b[0m_batch_setitems\u001b[0m\u001b[0;34m(\u001b[0m\u001b[0mobj\u001b[0m\u001b[0;34m.\u001b[0m\u001b[0mitems\u001b[0m\u001b[0;34m(\u001b[0m\u001b[0;34m)\u001b[0m\u001b[0;34m)\u001b[0m\u001b[0;34m\u001b[0m\u001b[0;34m\u001b[0m\u001b[0m\n\u001b[0m\u001b[1;32m    822\u001b[0m \u001b[0;34m\u001b[0m\u001b[0m\n\u001b[1;32m    823\u001b[0m     \u001b[0mdispatch\u001b[0m\u001b[0;34m[\u001b[0m\u001b[0mdict\u001b[0m\u001b[0;34m]\u001b[0m \u001b[0;34m=\u001b[0m \u001b[0msave_dict\u001b[0m\u001b[0;34m\u001b[0m\u001b[0;34m\u001b[0m\u001b[0m\n",
            "\u001b[0;32m/usr/lib/python3.6/pickle.py\u001b[0m in \u001b[0;36m_batch_setitems\u001b[0;34m(self, items)\u001b[0m\n\u001b[1;32m    845\u001b[0m                 \u001b[0;32mfor\u001b[0m \u001b[0mk\u001b[0m\u001b[0;34m,\u001b[0m \u001b[0mv\u001b[0m \u001b[0;32min\u001b[0m \u001b[0mtmp\u001b[0m\u001b[0;34m:\u001b[0m\u001b[0;34m\u001b[0m\u001b[0;34m\u001b[0m\u001b[0m\n\u001b[1;32m    846\u001b[0m                     \u001b[0msave\u001b[0m\u001b[0;34m(\u001b[0m\u001b[0mk\u001b[0m\u001b[0;34m)\u001b[0m\u001b[0;34m\u001b[0m\u001b[0;34m\u001b[0m\u001b[0m\n\u001b[0;32m--> 847\u001b[0;31m                     \u001b[0msave\u001b[0m\u001b[0;34m(\u001b[0m\u001b[0mv\u001b[0m\u001b[0;34m)\u001b[0m\u001b[0;34m\u001b[0m\u001b[0;34m\u001b[0m\u001b[0m\n\u001b[0m\u001b[1;32m    848\u001b[0m                 \u001b[0mwrite\u001b[0m\u001b[0;34m(\u001b[0m\u001b[0mSETITEMS\u001b[0m\u001b[0;34m)\u001b[0m\u001b[0;34m\u001b[0m\u001b[0;34m\u001b[0m\u001b[0m\n\u001b[1;32m    849\u001b[0m             \u001b[0;32melif\u001b[0m \u001b[0mn\u001b[0m\u001b[0;34m:\u001b[0m\u001b[0;34m\u001b[0m\u001b[0;34m\u001b[0m\u001b[0m\n",
            "\u001b[0;32m/usr/lib/python3.6/pickle.py\u001b[0m in \u001b[0;36msave\u001b[0;34m(self, obj, save_persistent_id)\u001b[0m\n\u001b[1;32m    519\u001b[0m \u001b[0;34m\u001b[0m\u001b[0m\n\u001b[1;32m    520\u001b[0m         \u001b[0;31m# Save the reduce() output and finally memoize the object\u001b[0m\u001b[0;34m\u001b[0m\u001b[0;34m\u001b[0m\u001b[0;34m\u001b[0m\u001b[0m\n\u001b[0;32m--> 521\u001b[0;31m         \u001b[0mself\u001b[0m\u001b[0;34m.\u001b[0m\u001b[0msave_reduce\u001b[0m\u001b[0;34m(\u001b[0m\u001b[0mobj\u001b[0m\u001b[0;34m=\u001b[0m\u001b[0mobj\u001b[0m\u001b[0;34m,\u001b[0m \u001b[0;34m*\u001b[0m\u001b[0mrv\u001b[0m\u001b[0;34m)\u001b[0m\u001b[0;34m\u001b[0m\u001b[0;34m\u001b[0m\u001b[0m\n\u001b[0m\u001b[1;32m    522\u001b[0m \u001b[0;34m\u001b[0m\u001b[0m\n\u001b[1;32m    523\u001b[0m     \u001b[0;32mdef\u001b[0m \u001b[0mpersistent_id\u001b[0m\u001b[0;34m(\u001b[0m\u001b[0mself\u001b[0m\u001b[0;34m,\u001b[0m \u001b[0mobj\u001b[0m\u001b[0;34m)\u001b[0m\u001b[0;34m:\u001b[0m\u001b[0;34m\u001b[0m\u001b[0;34m\u001b[0m\u001b[0m\n",
            "\u001b[0;32m/usr/lib/python3.6/pickle.py\u001b[0m in \u001b[0;36msave_reduce\u001b[0;34m(self, func, args, state, listitems, dictitems, obj)\u001b[0m\n\u001b[1;32m    632\u001b[0m \u001b[0;34m\u001b[0m\u001b[0m\n\u001b[1;32m    633\u001b[0m         \u001b[0;32mif\u001b[0m \u001b[0mstate\u001b[0m \u001b[0;32mis\u001b[0m \u001b[0;32mnot\u001b[0m \u001b[0;32mNone\u001b[0m\u001b[0;34m:\u001b[0m\u001b[0;34m\u001b[0m\u001b[0;34m\u001b[0m\u001b[0m\n\u001b[0;32m--> 634\u001b[0;31m             \u001b[0msave\u001b[0m\u001b[0;34m(\u001b[0m\u001b[0mstate\u001b[0m\u001b[0;34m)\u001b[0m\u001b[0;34m\u001b[0m\u001b[0;34m\u001b[0m\u001b[0m\n\u001b[0m\u001b[1;32m    635\u001b[0m             \u001b[0mwrite\u001b[0m\u001b[0;34m(\u001b[0m\u001b[0mBUILD\u001b[0m\u001b[0;34m)\u001b[0m\u001b[0;34m\u001b[0m\u001b[0;34m\u001b[0m\u001b[0m\n\u001b[1;32m    636\u001b[0m \u001b[0;34m\u001b[0m\u001b[0m\n",
            "\u001b[0;32m/usr/lib/python3.6/pickle.py\u001b[0m in \u001b[0;36msave\u001b[0;34m(self, obj, save_persistent_id)\u001b[0m\n\u001b[1;32m    474\u001b[0m         \u001b[0mf\u001b[0m \u001b[0;34m=\u001b[0m \u001b[0mself\u001b[0m\u001b[0;34m.\u001b[0m\u001b[0mdispatch\u001b[0m\u001b[0;34m.\u001b[0m\u001b[0mget\u001b[0m\u001b[0;34m(\u001b[0m\u001b[0mt\u001b[0m\u001b[0;34m)\u001b[0m\u001b[0;34m\u001b[0m\u001b[0;34m\u001b[0m\u001b[0m\n\u001b[1;32m    475\u001b[0m         \u001b[0;32mif\u001b[0m \u001b[0mf\u001b[0m \u001b[0;32mis\u001b[0m \u001b[0;32mnot\u001b[0m \u001b[0;32mNone\u001b[0m\u001b[0;34m:\u001b[0m\u001b[0;34m\u001b[0m\u001b[0;34m\u001b[0m\u001b[0m\n\u001b[0;32m--> 476\u001b[0;31m             \u001b[0mf\u001b[0m\u001b[0;34m(\u001b[0m\u001b[0mself\u001b[0m\u001b[0;34m,\u001b[0m \u001b[0mobj\u001b[0m\u001b[0;34m)\u001b[0m \u001b[0;31m# Call unbound method with explicit self\u001b[0m\u001b[0;34m\u001b[0m\u001b[0;34m\u001b[0m\u001b[0m\n\u001b[0m\u001b[1;32m    477\u001b[0m             \u001b[0;32mreturn\u001b[0m\u001b[0;34m\u001b[0m\u001b[0;34m\u001b[0m\u001b[0m\n\u001b[1;32m    478\u001b[0m \u001b[0;34m\u001b[0m\u001b[0m\n",
            "\u001b[0;32m/usr/local/lib/python3.6/dist-packages/dill/_dill.py\u001b[0m in \u001b[0;36msave_module_dict\u001b[0;34m(pickler, obj)\u001b[0m\n\u001b[1;32m    931\u001b[0m             \u001b[0;31m# we only care about session the first pass thru\u001b[0m\u001b[0;34m\u001b[0m\u001b[0;34m\u001b[0m\u001b[0;34m\u001b[0m\u001b[0m\n\u001b[1;32m    932\u001b[0m             \u001b[0mpickler\u001b[0m\u001b[0;34m.\u001b[0m\u001b[0m_session\u001b[0m \u001b[0;34m=\u001b[0m \u001b[0;32mFalse\u001b[0m\u001b[0;34m\u001b[0m\u001b[0;34m\u001b[0m\u001b[0m\n\u001b[0;32m--> 933\u001b[0;31m         \u001b[0mStockPickler\u001b[0m\u001b[0;34m.\u001b[0m\u001b[0msave_dict\u001b[0m\u001b[0;34m(\u001b[0m\u001b[0mpickler\u001b[0m\u001b[0;34m,\u001b[0m \u001b[0mobj\u001b[0m\u001b[0;34m)\u001b[0m\u001b[0;34m\u001b[0m\u001b[0;34m\u001b[0m\u001b[0m\n\u001b[0m\u001b[1;32m    934\u001b[0m         \u001b[0mlog\u001b[0m\u001b[0;34m.\u001b[0m\u001b[0minfo\u001b[0m\u001b[0;34m(\u001b[0m\u001b[0;34m\"# D2\"\u001b[0m\u001b[0;34m)\u001b[0m\u001b[0;34m\u001b[0m\u001b[0;34m\u001b[0m\u001b[0m\n\u001b[1;32m    935\u001b[0m     \u001b[0;32mreturn\u001b[0m\u001b[0;34m\u001b[0m\u001b[0;34m\u001b[0m\u001b[0m\n",
            "\u001b[0;32m/usr/lib/python3.6/pickle.py\u001b[0m in \u001b[0;36msave_dict\u001b[0;34m(self, obj)\u001b[0m\n\u001b[1;32m    819\u001b[0m \u001b[0;34m\u001b[0m\u001b[0m\n\u001b[1;32m    820\u001b[0m         \u001b[0mself\u001b[0m\u001b[0;34m.\u001b[0m\u001b[0mmemoize\u001b[0m\u001b[0;34m(\u001b[0m\u001b[0mobj\u001b[0m\u001b[0;34m)\u001b[0m\u001b[0;34m\u001b[0m\u001b[0;34m\u001b[0m\u001b[0m\n\u001b[0;32m--> 821\u001b[0;31m         \u001b[0mself\u001b[0m\u001b[0;34m.\u001b[0m\u001b[0m_batch_setitems\u001b[0m\u001b[0;34m(\u001b[0m\u001b[0mobj\u001b[0m\u001b[0;34m.\u001b[0m\u001b[0mitems\u001b[0m\u001b[0;34m(\u001b[0m\u001b[0;34m)\u001b[0m\u001b[0;34m)\u001b[0m\u001b[0;34m\u001b[0m\u001b[0;34m\u001b[0m\u001b[0m\n\u001b[0m\u001b[1;32m    822\u001b[0m \u001b[0;34m\u001b[0m\u001b[0m\n\u001b[1;32m    823\u001b[0m     \u001b[0mdispatch\u001b[0m\u001b[0;34m[\u001b[0m\u001b[0mdict\u001b[0m\u001b[0;34m]\u001b[0m \u001b[0;34m=\u001b[0m \u001b[0msave_dict\u001b[0m\u001b[0;34m\u001b[0m\u001b[0;34m\u001b[0m\u001b[0m\n",
            "\u001b[0;32m/usr/lib/python3.6/pickle.py\u001b[0m in \u001b[0;36m_batch_setitems\u001b[0;34m(self, items)\u001b[0m\n\u001b[1;32m    845\u001b[0m                 \u001b[0;32mfor\u001b[0m \u001b[0mk\u001b[0m\u001b[0;34m,\u001b[0m \u001b[0mv\u001b[0m \u001b[0;32min\u001b[0m \u001b[0mtmp\u001b[0m\u001b[0;34m:\u001b[0m\u001b[0;34m\u001b[0m\u001b[0;34m\u001b[0m\u001b[0m\n\u001b[1;32m    846\u001b[0m                     \u001b[0msave\u001b[0m\u001b[0;34m(\u001b[0m\u001b[0mk\u001b[0m\u001b[0;34m)\u001b[0m\u001b[0;34m\u001b[0m\u001b[0;34m\u001b[0m\u001b[0m\n\u001b[0;32m--> 847\u001b[0;31m                     \u001b[0msave\u001b[0m\u001b[0;34m(\u001b[0m\u001b[0mv\u001b[0m\u001b[0;34m)\u001b[0m\u001b[0;34m\u001b[0m\u001b[0;34m\u001b[0m\u001b[0m\n\u001b[0m\u001b[1;32m    848\u001b[0m                 \u001b[0mwrite\u001b[0m\u001b[0;34m(\u001b[0m\u001b[0mSETITEMS\u001b[0m\u001b[0;34m)\u001b[0m\u001b[0;34m\u001b[0m\u001b[0;34m\u001b[0m\u001b[0m\n\u001b[1;32m    849\u001b[0m             \u001b[0;32melif\u001b[0m \u001b[0mn\u001b[0m\u001b[0;34m:\u001b[0m\u001b[0;34m\u001b[0m\u001b[0;34m\u001b[0m\u001b[0m\n",
            "\u001b[0;32m/usr/lib/python3.6/pickle.py\u001b[0m in \u001b[0;36msave\u001b[0;34m(self, obj, save_persistent_id)\u001b[0m\n\u001b[1;32m    494\u001b[0m             \u001b[0mreduce\u001b[0m \u001b[0;34m=\u001b[0m \u001b[0mgetattr\u001b[0m\u001b[0;34m(\u001b[0m\u001b[0mobj\u001b[0m\u001b[0;34m,\u001b[0m \u001b[0;34m\"__reduce_ex__\"\u001b[0m\u001b[0;34m,\u001b[0m \u001b[0;32mNone\u001b[0m\u001b[0;34m)\u001b[0m\u001b[0;34m\u001b[0m\u001b[0;34m\u001b[0m\u001b[0m\n\u001b[1;32m    495\u001b[0m             \u001b[0;32mif\u001b[0m \u001b[0mreduce\u001b[0m \u001b[0;32mis\u001b[0m \u001b[0;32mnot\u001b[0m \u001b[0;32mNone\u001b[0m\u001b[0;34m:\u001b[0m\u001b[0;34m\u001b[0m\u001b[0;34m\u001b[0m\u001b[0m\n\u001b[0;32m--> 496\u001b[0;31m                 \u001b[0mrv\u001b[0m \u001b[0;34m=\u001b[0m \u001b[0mreduce\u001b[0m\u001b[0;34m(\u001b[0m\u001b[0mself\u001b[0m\u001b[0;34m.\u001b[0m\u001b[0mproto\u001b[0m\u001b[0;34m)\u001b[0m\u001b[0;34m\u001b[0m\u001b[0;34m\u001b[0m\u001b[0m\n\u001b[0m\u001b[1;32m    497\u001b[0m             \u001b[0;32melse\u001b[0m\u001b[0;34m:\u001b[0m\u001b[0;34m\u001b[0m\u001b[0;34m\u001b[0m\u001b[0m\n\u001b[1;32m    498\u001b[0m                 \u001b[0mreduce\u001b[0m \u001b[0;34m=\u001b[0m \u001b[0mgetattr\u001b[0m\u001b[0;34m(\u001b[0m\u001b[0mobj\u001b[0m\u001b[0;34m,\u001b[0m \u001b[0;34m\"__reduce__\"\u001b[0m\u001b[0;34m,\u001b[0m \u001b[0;32mNone\u001b[0m\u001b[0;34m)\u001b[0m\u001b[0;34m\u001b[0m\u001b[0;34m\u001b[0m\u001b[0m\n",
            "\u001b[0;31mTypeError\u001b[0m: can't pickle tensorflow.python._tf_stack.StackSummary objects"
          ]
        }
      ]
    },
    {
      "cell_type": "code",
      "metadata": {
        "id": "V0t9nMCUmmcr",
        "colab_type": "code",
        "colab": {}
      },
      "source": [
        "model.save('/content/gdrive/My Drive/Colab data/model_200828_1.h5')\n"
      ],
      "execution_count": null,
      "outputs": []
    },
    {
      "cell_type": "code",
      "metadata": {
        "id": "zzV8kS5BZo3n",
        "colab_type": "code",
        "colab": {}
      },
      "source": [
        "class My_Custom_Generator(keras.utils.Sequence) :\n",
        "  \n",
        "  def __init__(self, file_trial_list, file_Y_list, num_in_each, batch_size, to_fit) :\n",
        "    cnt = 0\n",
        "    extract_inds = []\n",
        "    # num_in_each contains the number of frames in each file I am loading, ie\n",
        "    # for trial/file 1 there are 200 frames , trial/file 2 has 215 frames etc\n",
        "    for k, elem in enumerate(num_in_each) :\n",
        "      tot_frame_nums = sum(num_in_each[cnt: k+1]) # used to test if the number of frames in \n",
        "      # all these files exceded the \"batch_size\" limit \n",
        "      if tot_frame_nums>batch_size or len(num_in_each)-1 == k: # condition met, these files together \n",
        "      # meet the max requirment to load together as a batch \n",
        "        extract_inds.append([cnt, k+1])\n",
        "        cnt = k+1 # reset to the current iter\n",
        "        if np.diff(extract_inds[-1]) > 1: # if there is more than one file then we want to take off the last file \n",
        "        # because it excedes the set number of frames\n",
        "          extract_inds[-1][-1] = extract_inds[-1][-1]-1\n",
        "          cnt = cnt-1\n",
        "    \n",
        "    file_list_chunks = []\n",
        "    file_Y_list_chunks = []\n",
        "    for i, ii in enumerate(extract_inds):\n",
        "      file_list_chunks.append(file_trial_list[ii[0]:ii[1]])\n",
        "      file_Y_list_chunks.append(file_Y_list[ii[0]:ii[1]])\n",
        "\n",
        "    self.to_fit = to_fit #set to True to return XY and False to return X\n",
        "    self.file_trial_list = file_trial_list\n",
        "    self.file_Y_list = file_Y_list\n",
        "    self.batch_size = batch_size\n",
        "    self.extract_inds = extract_inds\n",
        "    self.num_in_each = num_in_each\n",
        "    self.file_list_chunks = file_list_chunks\n",
        "    self.file_Y_list_chunks = file_Y_list_chunks\n",
        "\n",
        "    \n",
        "  def __len__(self) :\n",
        "    return len(self.extract_inds)\n",
        "  \n",
        "  def __getitem__(self, num_2_extract) :\n",
        "    # raw_X, raw_Y = self._build_data(self.file_list_chunks[num_2_extract], \n",
        "    #                       self.file_Y_list_chunks[num_2_extract])\n",
        "    \n",
        "    raw_X = self._generate_X(self.file_list_chunks[num_2_extract])\n",
        "    \n",
        "    rgb_batch = np.repeat(raw_X[..., np.newaxis], 3, -1)\n",
        "    IMG_SIZE = 96 # All images will be resized to 160x160. This is the size of MobileNetV2 input sizes\n",
        "\n",
        "    rgb_tensor = tf.cast(rgb_batch, tf.float32) # convert to tf tensor with float32 dtypes\n",
        "    rgb_tensor = (rgb_tensor/127.5) - 1 # /127.5 = 0:2, -1 = -1:1 requirement for mobilenetV2\n",
        "    rgb_tensor = tf.image.resize(rgb_tensor, (IMG_SIZE, IMG_SIZE)) # resizing\n",
        "\n",
        "    self.IMG_SHAPE = (IMG_SIZE, IMG_SIZE, 3)\n",
        "    rgb_tensor_aug = rgb_tensor\n",
        "\n",
        "    # print(len(raw_Y))\n",
        "    # for i, ims in enumerate(rgb_tensor):\n",
        "    #   # print(i)\n",
        "    #   tmp1 = fux_wit_imgs(20, ims)\n",
        "    #   rgb_tensor_aug = np.append(rgb_tensor_aug, tmp1, 0)\n",
        "    \n",
        "    if self.to_fit:\n",
        "      raw_Y = self._generate_Y(self.file_Y_list_chunks[num_2_extract])\n",
        "      return rgb_tensor_aug, raw_Y\n",
        "    else:\n",
        "      return rgb_tensor_aug\n",
        "\n",
        "\n",
        "  # def _getitem__tmp(self, touch_aug_num, no_touch_aug_num)\n",
        "\n",
        "  def get_single_trials(self, num_2_extract) :\n",
        "      # raw_X, raw_Y = self._build_data([self.file_trial_list[num_2_extract]], \n",
        "      #                       [self.file_Y_list[num_2_extract]])\n",
        "      \n",
        "      raw_X = self._generate_X(self.file_list_chunks[num_2_extract])\n",
        "      raw_Y = self._generate_Y(self.file_Y_list_chunks[num_2_extract])\n",
        "\n",
        "      frame_index = scipy.io.loadmat(self.frame_ind_list[num_2_extract])\n",
        "      frame_index = frame_index['relevantIdx']\n",
        "      frame_index = frame_index[0]\n",
        "      rgb_batch = np.repeat(raw_X[..., np.newaxis], 3, -1)\n",
        "      IMG_SIZE = 96 # All images will be resized to 160x160. This is the size of MobileNetV2 input sizes\n",
        "\n",
        "      rgb_tensor = tf.cast(rgb_batch, tf.float32) # convert to tf tensor with float32 dtypes\n",
        "      rgb_tensor = (rgb_tensor/127.5) - 1 # /127.5 = 0:2, -1 = -1:1 requirement for mobilenetV2\n",
        "      rgb_tensor = tf.image.resize(rgb_tensor, (IMG_SIZE, IMG_SIZE)) # resizing\n",
        "\n",
        "      self.IMG_SHAPE = (IMG_SIZE, IMG_SIZE, 3)\n",
        "      rgb_tensor_aug = rgb_tensor\n",
        "      # print(len(raw_Y))\n",
        "      # for i, ims in enumerate(rgb_tensor):\n",
        "      #   print(i)\n",
        "      #   tmp1 = fux_wit_imgs(20, ims)\n",
        "      #   rgb_tensor_aug = np.append(rgb_tensor_aug, tmp1, 0)\n",
        "      return rgb_tensor_aug, raw_Y\n",
        "    \n",
        "      # return rgb_tensor, raw_Y, frame_index#, trial_file_num\n",
        "  # Function to generate an image tensor and corresponding label array\n",
        "\n",
        "  def _build_data(self, x_files, y_files) :\n",
        "    \"\"\"Phils original build data structure used to generate X and Y together. It has been broken down into _generate_X and _generate_Y. Delete ASAP\"\"\" \n",
        "    cnt1 = -1;\n",
        "\n",
        "    for k in range(len(y_files)):\n",
        "      cnt1 = cnt1 + 1\n",
        "      tmp1 = scipy.io.loadmat(x_files[cnt1])\n",
        "      tmp2 = scipy.io.loadmat(y_files[cnt1])\n",
        "\n",
        "      Xtmp = tmp1['finalMat']\n",
        "      Ytmp = tmp2['touchClass']\n",
        "      if cnt1==0:\n",
        "        raw_X = Xtmp\n",
        "        raw_Y = Ytmp\n",
        "      else:\n",
        "\n",
        "        raw_X = np.concatenate((raw_X,Xtmp), axis=0)\n",
        "        raw_Y = np.concatenate((raw_Y,Ytmp), axis=0)\n",
        "\n",
        "    return raw_X, raw_Y\n",
        "\n",
        "  def _generate_X(self, x_files) :\n",
        "    cnt1 = -1;\n",
        "\n",
        "    for k in range(len(x_files)):\n",
        "      cnt1 = cnt1 + 1\n",
        "      tmp1 = scipy.io.loadmat(x_files[cnt1])\n",
        "      Xtmp = tmp1['finalMat']\n",
        "      \n",
        "      if cnt1==0:\n",
        "        raw_X = Xtmp      \n",
        "      else:\n",
        "        raw_X = np.concatenate((raw_X,Xtmp), axis=0)\n",
        "        \n",
        "    return raw_X\n",
        "  def _generate_Y(self, y_files) :\n",
        "    cnt1 = -1;\n",
        "\n",
        "    for k in range(len(y_files)):\n",
        "      cnt1 = cnt1 + 1\n",
        "      tmp2 = scipy.io.loadmat(y_files[cnt1])\n",
        "\n",
        "      Ytmp = tmp2['touchClass']\n",
        "      if cnt1==0:\n",
        "        raw_Y = Ytmp\n",
        "      else:\n",
        "        raw_Y = np.concatenate((raw_Y,Ytmp), axis=0)\n",
        "\n",
        "    return raw_Y\n",
        "  def plot_batch_distribution(self):\n",
        "      # randomly select a batch and generate images and labels\n",
        "      batch_num = np.random.choice(np.arange(0, len(self.file_list_chunks)))\n",
        "      samp_x, samp_y = self.__getitem__(batch_num)\n",
        "\n",
        "      # look at the distribution of classes\n",
        "      plt.pie([1 - np.mean(samp_y), np.mean(samp_y)],\n",
        "              labels=['non-touch frames', 'touch frames'], autopct='%1.1f%%', )\n",
        "      plt.title('class distribution from batch ' + str(batch_num))\n",
        "      plt.show()\n",
        "\n",
        "      # generate indices for positive and negative classes\n",
        "      images_to_sample = 20\n",
        "      neg_class = [i for i, val in enumerate(samp_y) if val == 0]\n",
        "      pos_class = [i for i, val in enumerate(samp_y) if val == 1]\n",
        "      neg_index = np.random.choice(neg_class, images_to_sample)\n",
        "      pos_index = np.random.choice(pos_class, images_to_sample)\n",
        "\n",
        "      # plot sample positive and negative class images\n",
        "      plt.figure(figsize=(10, 10))\n",
        "      for i in range(images_to_sample):\n",
        "          plt.subplot(5, 10, i + 1)\n",
        "          plt.xticks([])\n",
        "          plt.yticks([])\n",
        "          plt.grid(False)\n",
        "          _ = plt.imshow(image_transform(samp_x[neg_index[i]]))\n",
        "          plt.xlabel('0')\n",
        "\n",
        "          plt.subplot(5, 10, images_to_sample + i + 1)\n",
        "          plt.xticks([])\n",
        "          plt.yticks([])\n",
        "          plt.grid(False)\n",
        "          plt.imshow(image_transform(samp_x[pos_index[i]]))\n",
        "          plt.xlabel('1')\n",
        "      plt.suptitle('sample images from batch  ' + str(batch_num))\n",
        "      plt.show()"
      ],
      "execution_count": 114,
      "outputs": []
    },
    {
      "cell_type": "code",
      "metadata": {
        "id": "CufU_utlZv9u",
        "colab_type": "code",
        "colab": {
          "base_uri": "https://localhost:8080/",
          "height": 1000
        },
        "outputId": "066de619-a2c1-49e0-af63-44eb184cd03c"
      },
      "source": [
        "my_training_batch_generator = My_Custom_Generator([frames[k] for k in T_inds],\n",
        "                                                  [T_class_reordered[k] for k in T_inds],\n",
        "                                                  [frame_num_in_Y_set[k] for k in T_inds],\n",
        "                                                  batch_size,\n",
        "                                                  to_fit = True)\n",
        "test_batch_generator = My_Custom_Generator([frames[k] for k in T_inds],\n",
        "                                                  [],\n",
        "                                                  [frame_num_in_Y_set[k] for k in T_inds],\n",
        "                                                  batch_size,\n",
        "                                                  to_fit = False)\n",
        "\n"
      ],
      "execution_count": 128,
      "outputs": [
        {
          "output_type": "execute_result",
          "data": {
            "text/plain": [
              "<tf.Tensor: shape=(1922, 96, 96, 3), dtype=float32, numpy=\n",
              "array([[[[0.28627455, 0.28627455, 0.28627455],\n",
              "         [0.28272063, 0.28272063, 0.28272063],\n",
              "         [0.28051475, 0.28051475, 0.28051475],\n",
              "         ...,\n",
              "         [0.38892975, 0.38892975, 0.38892975],\n",
              "         [0.38823533, 0.38823533, 0.38823533],\n",
              "         [0.38823533, 0.38823533, 0.38823533]],\n",
              "\n",
              "        [[0.28627455, 0.28627455, 0.28627455],\n",
              "         [0.284331  , 0.284331  , 0.284331  ],\n",
              "         [0.28343934, 0.28343934, 0.28343934],\n",
              "         ...,\n",
              "         [0.38892975, 0.38892975, 0.38892975],\n",
              "         [0.38823533, 0.38823533, 0.38823533],\n",
              "         [0.38823533, 0.38823533, 0.38823533]],\n",
              "\n",
              "        [[0.28627455, 0.28627455, 0.28627455],\n",
              "         [0.28658924, 0.28658924, 0.28658924],\n",
              "         [0.28754047, 0.28754047, 0.28754047],\n",
              "         ...,\n",
              "         [0.3882353 , 0.3882353 , 0.3882353 ],\n",
              "         [0.38830045, 0.38830045, 0.38830045],\n",
              "         [0.38892978, 0.38892978, 0.38892978]],\n",
              "\n",
              "        ...,\n",
              "\n",
              "        [[0.19215691, 0.19215691, 0.19215691],\n",
              "         [0.18860298, 0.18860298, 0.18860298],\n",
              "         [0.18361934, 0.18361934, 0.18361934],\n",
              "         ...,\n",
              "         [0.30132788, 0.30132788, 0.30132788],\n",
              "         [0.3012664 , 0.3012664 , 0.3012664 ],\n",
              "         [0.3012664 , 0.3012664 , 0.3012664 ]],\n",
              "\n",
              "        [[0.1878677 , 0.1878677 , 0.1878677 ],\n",
              "         [0.18431377, 0.18431377, 0.18431377],\n",
              "         [0.17933013, 0.17933013, 0.17933013],\n",
              "         ...,\n",
              "         [0.30196083, 0.30196083, 0.30196083],\n",
              "         [0.30196083, 0.30196083, 0.30196083],\n",
              "         [0.30196083, 0.30196083, 0.30196083]],\n",
              "\n",
              "        [[0.18431377, 0.18431377, 0.18431377],\n",
              "         [0.18075985, 0.18075985, 0.18075985],\n",
              "         [0.1757762 , 0.1757762 , 0.1757762 ],\n",
              "         ...,\n",
              "         [0.30196083, 0.30196083, 0.30196083],\n",
              "         [0.30196083, 0.30196083, 0.30196083],\n",
              "         [0.30196083, 0.30196083, 0.30196083]]],\n",
              "\n",
              "\n",
              "       [[[0.24705887, 0.24705887, 0.24705887],\n",
              "         [0.25772062, 0.25772062, 0.25772062],\n",
              "         [0.2726716 , 0.2726716 , 0.2726716 ],\n",
              "         ...,\n",
              "         [0.38108662, 0.38108662, 0.38108662],\n",
              "         [0.3889706 , 0.3889706 , 0.3889706 ],\n",
              "         [0.39607847, 0.39607847, 0.39607847]],\n",
              "\n",
              "        [[0.25772062, 0.25772062, 0.25772062],\n",
              "         [0.26516166, 0.26516166, 0.26516166],\n",
              "         [0.27622554, 0.27622554, 0.27622554],\n",
              "         ...,\n",
              "         [0.38464054, 0.38464054, 0.38464054],\n",
              "         [0.38863742, 0.38863742, 0.38863742],\n",
              "         [0.39252454, 0.39252454, 0.39252454]],\n",
              "\n",
              "        [[0.27197716, 0.27197716, 0.27197716],\n",
              "         [0.27521643, 0.27521643, 0.27521643],\n",
              "         [0.2810862 , 0.2810862 , 0.2810862 ],\n",
              "         ...,\n",
              "         [0.38892975, 0.38892975, 0.38892975],\n",
              "         [0.38823533, 0.38823533, 0.38823533],\n",
              "         [0.38823533, 0.38823533, 0.38823533]],\n",
              "\n",
              "        ...,\n",
              "\n",
              "        [[0.18639705, 0.18639705, 0.18639705],\n",
              "         [0.18576773, 0.18576773, 0.18576773],\n",
              "         [0.18431376, 0.18431376, 0.18431376],\n",
              "         ...,\n",
              "         [0.3020838 , 0.3020838 , 0.3020838 ],\n",
              "         [0.31091902, 0.31091902, 0.31091902],\n",
              "         [0.31834152, 0.31834152, 0.31834152]],\n",
              "\n",
              "        [[0.18860298, 0.18860298, 0.18860298],\n",
              "         [0.18665944, 0.18665944, 0.18665944],\n",
              "         [0.18361934, 0.18361934, 0.18361934],\n",
              "         ...,\n",
              "         [0.29767162, 0.29767162, 0.29767162],\n",
              "         [0.30390435, 0.30390435, 0.30390435],\n",
              "         [0.30906868, 0.30906868, 0.30906868]],\n",
              "\n",
              "        [[0.19215691, 0.19215691, 0.19215691],\n",
              "         [0.18860298, 0.18860298, 0.18860298],\n",
              "         [0.18361934, 0.18361934, 0.18361934],\n",
              "         ...,\n",
              "         [0.2941177 , 0.2941177 , 0.2941177 ],\n",
              "         [0.2984069 , 0.2984069 , 0.2984069 ],\n",
              "         [0.30196083, 0.30196083, 0.30196083]]],\n",
              "\n",
              "\n",
              "       [[[0.2941177 , 0.2941177 , 0.2941177 ],\n",
              "         [0.2941177 , 0.2941177 , 0.2941177 ],\n",
              "         [0.2941177 , 0.2941177 , 0.2941177 ],\n",
              "         ...,\n",
              "         [0.38108662, 0.38108662, 0.38108662],\n",
              "         [0.3846814 , 0.3846814 , 0.3846814 ],\n",
              "         [0.38823533, 0.38823533, 0.38823533]],\n",
              "\n",
              "        [[0.2941177 , 0.2941177 , 0.2941177 ],\n",
              "         [0.2941177 , 0.2941177 , 0.2941177 ],\n",
              "         [0.2941177 , 0.2941177 , 0.2941177 ],\n",
              "         ...,\n",
              "         [0.38108662, 0.38108662, 0.38108662],\n",
              "         [0.38273785, 0.38273785, 0.38273785],\n",
              "         [0.3846814 , 0.3846814 , 0.3846814 ]],\n",
              "\n",
              "        [[0.2941177 , 0.2941177 , 0.2941177 ],\n",
              "         [0.2941177 , 0.2941177 , 0.2941177 ],\n",
              "         [0.2941177 , 0.2941177 , 0.2941177 ],\n",
              "         ...,\n",
              "         [0.38108662, 0.38108662, 0.38108662],\n",
              "         [0.38077196, 0.38077196, 0.38077196],\n",
              "         [0.38108665, 0.38108665, 0.38108665]],\n",
              "\n",
              "        ...,\n",
              "\n",
              "        [[0.20784318, 0.20784318, 0.20784318],\n",
              "         [0.20073535, 0.20073535, 0.20073535],\n",
              "         [0.1908295 , 0.1908295 , 0.1908295 ],\n",
              "         ...,\n",
              "         [0.3020838 , 0.3020838 , 0.3020838 ],\n",
              "         [0.31091902, 0.31091902, 0.31091902],\n",
              "         [0.31834152, 0.31834152, 0.31834152]],\n",
              "\n",
              "        [[0.19497554, 0.19497554, 0.19497554],\n",
              "         [0.18981124, 0.18981124, 0.18981124],\n",
              "         [0.18294914, 0.18294914, 0.18294914],\n",
              "         ...,\n",
              "         [0.29767162, 0.29767162, 0.29767162],\n",
              "         [0.30390435, 0.30390435, 0.30390435],\n",
              "         [0.30906868, 0.30906868, 0.30906868]],\n",
              "\n",
              "        [[0.18431377, 0.18431377, 0.18431377],\n",
              "         [0.18075985, 0.18075985, 0.18075985],\n",
              "         [0.17647064, 0.17647064, 0.17647064],\n",
              "         ...,\n",
              "         [0.2941177 , 0.2941177 , 0.2941177 ],\n",
              "         [0.2984069 , 0.2984069 , 0.2984069 ],\n",
              "         [0.30196083, 0.30196083, 0.30196083]]],\n",
              "\n",
              "\n",
              "       ...,\n",
              "\n",
              "\n",
              "       [[[0.30196083, 0.30196083, 0.30196083],\n",
              "         [0.30196083, 0.30196083, 0.30196083],\n",
              "         [0.30126637, 0.30126637, 0.30126637],\n",
              "         ...,\n",
              "         [0.3739379 , 0.3739379 , 0.3739379 ],\n",
              "         [0.38112748, 0.38112748, 0.38112748],\n",
              "         [0.38823533, 0.38823533, 0.38823533]],\n",
              "\n",
              "        [[0.2984069 , 0.2984069 , 0.2984069 ],\n",
              "         [0.2984069 , 0.2984069 , 0.2984069 ],\n",
              "         [0.29771245, 0.29771245, 0.29771245],\n",
              "         ...,\n",
              "         [0.383341  , 0.383341  , 0.383341  ],\n",
              "         [0.38401505, 0.38401505, 0.38401505],\n",
              "         [0.3846814 , 0.3846814 , 0.3846814 ]],\n",
              "\n",
              "        [[0.2927288 , 0.2927288 , 0.2927288 ],\n",
              "         [0.29241413, 0.29241413, 0.29241413],\n",
              "         [0.29146287, 0.29146287, 0.29146287],\n",
              "         ...,\n",
              "         [0.39468962, 0.39468962, 0.39468962],\n",
              "         [0.38787982, 0.38787982, 0.38787982],\n",
              "         [0.38108665, 0.38108665, 0.38108665]],\n",
              "\n",
              "        ...,\n",
              "\n",
              "        [[0.12941182, 0.12941182, 0.12941182],\n",
              "         [0.12554322, 0.12554322, 0.12554322],\n",
              "         [0.1188524 , 0.1188524 , 0.1188524 ],\n",
              "         ...,\n",
              "         [0.3252443 , 0.3252443 , 0.3252443 ],\n",
              "         [0.30947265, 0.30947265, 0.30947265],\n",
              "         [0.29620096, 0.29620096, 0.29620096]],\n",
              "\n",
              "        [[0.12941182, 0.12941182, 0.12941182],\n",
              "         [0.12391434, 0.12391434, 0.12391434],\n",
              "         [0.1155759 , 0.1155759 , 0.1155759 ],\n",
              "         ...,\n",
              "         [0.32006174, 0.32006174, 0.32006174],\n",
              "         [0.3087355 , 0.3087355 , 0.3087355 ],\n",
              "         [0.2984069 , 0.2984069 , 0.2984069 ]],\n",
              "\n",
              "        [[0.12941182, 0.12941182, 0.12941182],\n",
              "         [0.12230397, 0.12230397, 0.12230397],\n",
              "         [0.11233665, 0.11233665, 0.11233665],\n",
              "         ...,\n",
              "         [0.31556383, 0.31556383, 0.31556383],\n",
              "         [0.30906868, 0.30906868, 0.30906868],\n",
              "         [0.30196083, 0.30196083, 0.30196083]]],\n",
              "\n",
              "\n",
              "       [[[0.2941177 , 0.2941177 , 0.2941177 ],\n",
              "         [0.30477944, 0.30477944, 0.30477944],\n",
              "         [0.31625822, 0.31625822, 0.31625822],\n",
              "         ...,\n",
              "         [0.3739379 , 0.3739379 , 0.3739379 ],\n",
              "         [0.38112748, 0.38112748, 0.38112748],\n",
              "         [0.38823533, 0.38823533, 0.38823533]],\n",
              "\n",
              "        [[0.29056376, 0.29056376, 0.29056376],\n",
              "         [0.2915633 , 0.2915633 , 0.2915633 ],\n",
              "         [0.29263943, 0.29263943, 0.29263943],\n",
              "         ...,\n",
              "         [0.383341  , 0.383341  , 0.383341  ],\n",
              "         [0.38401505, 0.38401505, 0.38401505],\n",
              "         [0.3846814 , 0.3846814 , 0.3846814 ]],\n",
              "\n",
              "        [[0.28488567, 0.28488567, 0.28488567],\n",
              "         [0.27579728, 0.27579728, 0.27579728],\n",
              "         [0.2660944 , 0.2660944 , 0.2660944 ],\n",
              "         ...,\n",
              "         [0.39468962, 0.39468962, 0.39468962],\n",
              "         [0.38787982, 0.38787982, 0.38787982],\n",
              "         [0.38108665, 0.38108665, 0.38108665]],\n",
              "\n",
              "        ...,\n",
              "\n",
              "        [[0.12156868, 0.12156868, 0.12156868],\n",
              "         [0.11446083, 0.11446083, 0.11446083],\n",
              "         [0.10449351, 0.10449351, 0.10449351],\n",
              "         ...,\n",
              "         [0.3176471 , 0.3176471 , 0.3176471 ],\n",
              "         [0.3176471 , 0.3176471 , 0.3176471 ],\n",
              "         [0.3176471 , 0.3176471 , 0.3176471 ]],\n",
              "\n",
              "        [[0.12156868, 0.12156868, 0.12156868],\n",
              "         [0.11446083, 0.11446083, 0.11446083],\n",
              "         [0.10449351, 0.10449351, 0.10449351],\n",
              "         ...,\n",
              "         [0.3168876 , 0.3168876 , 0.3168876 ],\n",
              "         [0.31295577, 0.31295577, 0.31295577],\n",
              "         [0.30906868, 0.30906868, 0.30906868]],\n",
              "\n",
              "        [[0.12156868, 0.12156868, 0.12156868],\n",
              "         [0.11446083, 0.11446083, 0.11446083],\n",
              "         [0.10449351, 0.10449351, 0.10449351],\n",
              "         ...,\n",
              "         [0.31625825, 0.31625825, 0.31625825],\n",
              "         [0.30906868, 0.30906868, 0.30906868],\n",
              "         [0.30196083, 0.30196083, 0.30196083]]],\n",
              "\n",
              "\n",
              "       [[[0.2941177 , 0.2941177 , 0.2941177 ],\n",
              "         [0.29767162, 0.29767162, 0.29767162],\n",
              "         [0.30126637, 0.30126637, 0.30126637],\n",
              "         ...,\n",
              "         [0.3803922 , 0.3803922 , 0.3803922 ],\n",
              "         [0.3846814 , 0.3846814 , 0.3846814 ],\n",
              "         [0.38823533, 0.38823533, 0.38823533]],\n",
              "\n",
              "        [[0.29056376, 0.29056376, 0.29056376],\n",
              "         [0.28928658, 0.28928658, 0.28928658],\n",
              "         [0.28799468, 0.28799468, 0.28799468],\n",
              "         ...,\n",
              "         [0.38394612, 0.38394612, 0.38394612],\n",
              "         [0.3843482 , 0.3843482 , 0.3843482 ],\n",
              "         [0.3846814 , 0.3846814 , 0.3846814 ]],\n",
              "\n",
              "        [[0.28488567, 0.28488567, 0.28488567],\n",
              "         [0.2787218 , 0.2787218 , 0.2787218 ],\n",
              "         [0.27254862, 0.27254862, 0.27254862],\n",
              "         ...,\n",
              "         [0.38937828, 0.38937828, 0.38937828],\n",
              "         [0.38495523, 0.38495523, 0.38495523],\n",
              "         [0.38108665, 0.38108665, 0.38108665]],\n",
              "\n",
              "        ...,\n",
              "\n",
              "        [[0.12156868, 0.12156868, 0.12156868],\n",
              "         [0.11090691, 0.11090691, 0.11090691],\n",
              "         [0.09532297, 0.09532297, 0.09532297],\n",
              "         ...,\n",
              "         [0.3176471 , 0.3176471 , 0.3176471 ],\n",
              "         [0.3176471 , 0.3176471 , 0.3176471 ],\n",
              "         [0.3176471 , 0.3176471 , 0.3176471 ]],\n",
              "\n",
              "        [[0.12156868, 0.12156868, 0.12156868],\n",
              "         [0.11090691, 0.11090691, 0.11090691],\n",
              "         [0.09526149, 0.09526149, 0.09526149],\n",
              "         ...,\n",
              "         [0.3168876 , 0.3168876 , 0.3168876 ],\n",
              "         [0.31295577, 0.31295577, 0.31295577],\n",
              "         [0.30906868, 0.30906868, 0.30906868]],\n",
              "\n",
              "        [[0.12156868, 0.12156868, 0.12156868],\n",
              "         [0.11090691, 0.11090691, 0.11090691],\n",
              "         [0.09526149, 0.09526149, 0.09526149],\n",
              "         ...,\n",
              "         [0.31625825, 0.31625825, 0.31625825],\n",
              "         [0.30906868, 0.30906868, 0.30906868],\n",
              "         [0.30196083, 0.30196083, 0.30196083]]]], dtype=float32)>"
            ]
          },
          "metadata": {
            "tags": []
          },
          "execution_count": 128
        }
      ]
    },
    {
      "cell_type": "markdown",
      "metadata": {
        "id": "8IHRXxQOef4G",
        "colab_type": "text"
      },
      "source": [
        "# Phil's old generator"
      ]
    },
    {
      "cell_type": "code",
      "metadata": {
        "id": "Ls0klmrRNy0r",
        "colab_type": "code",
        "colab": {}
      },
      "source": [
        "# Function to generate an image tensor and corresponding label array\n",
        "\n",
        "def build_data(x_files, y_files) :\n",
        "  to_del = 0\n",
        "  start = time.time()\n",
        "\n",
        "  cnt1 = -1;\n",
        "  mem_free = 9999\n",
        "\n",
        "  for k in range(len(y_files)):\n",
        "    cnt1 = cnt1 + 1\n",
        "    tmp1 = scipy.io.loadmat(x_files[cnt1])\n",
        "    tmp2 = scipy.io.loadmat(y_files[cnt1])\n",
        "\n",
        "    Xtmp = tmp1['finalMat']\n",
        "    Ytmp = tmp2['touchClass']\n",
        "    if cnt1==0:\n",
        "      raw_X = Xtmp\n",
        "      raw_Y = Ytmp\n",
        "    else:\n",
        "\n",
        "      raw_X = np.concatenate((raw_X,Xtmp), axis=0)\n",
        "      raw_Y = np.concatenate((raw_Y,Ytmp), axis=0)\n",
        "    # if ((time.time() - start) > 10000) or cnt1>=len(x_files)-1:# update every 10 seconds or when loop ends\n",
        "    #   print(len(x_files))\n",
        "    #   mem = virtual_memory()\n",
        "    #   mem_free = mem.free/1024**3;\n",
        "    #   start = time.time()\n",
        "    #   print('free mem = ' +  str(mem_free))\n",
        "\n",
        "  return raw_X, raw_Y\n",
        "\n"
      ],
      "execution_count": 79,
      "outputs": []
    },
    {
      "cell_type": "markdown",
      "metadata": {
        "id": "Qasu3Qg73pcL",
        "colab_type": "text"
      },
      "source": [
        "make a custom class to help load in the data to prevent crashing due to over using RAM \n",
        "This class will \n",
        "- chunk the files based on the total frames contained in them based on \"batch_size\" variable \n"
      ]
    },
    {
      "cell_type": "code",
      "metadata": {
        "id": "OkN3VJIA5XEV",
        "colab_type": "code",
        "colab": {}
      },
      "source": [
        "class My_Custom_Generator(keras.utils.Sequence) :\n",
        "  \n",
        "  def __init__(self, file_trial_list, file_Y_list, num_in_each, batch_size, to_fit) :\n",
        "    cnt = 0\n",
        "    extract_inds = []\n",
        "    # num_in_each contains the number of frames in each file I am loading, ie\n",
        "    # for trial/file 1 there are 200 frames , trial/file 2 has 215 frames etc\n",
        "    for k, elem in enumerate(num_in_each) :\n",
        "      tot_frame_nums = sum(num_in_each[cnt: k+1]) # used to test if the number of frames in \n",
        "      # all these files exceded the \"batch_size\" limit \n",
        "      if tot_frame_nums>batch_size or len(num_in_each)-1 == k: # condition met, these files together \n",
        "      # meet the max requirment to load together as a batch \n",
        "        extract_inds.append([cnt, k+1])\n",
        "        cnt = k+1 # reset to the current iter\n",
        "        if np.diff(extract_inds[-1]) > 1: # if there is more than one file then we want to take off the last file \n",
        "        # because it excedes the set number of frames\n",
        "          extract_inds[-1][-1] = extract_inds[-1][-1]-1\n",
        "          cnt = cnt-1\n",
        "    \n",
        "    file_list_chunks = []\n",
        "    file_Y_list_chunks = []\n",
        "    for i, ii in enumerate(extract_inds):\n",
        "      file_list_chunks.append(file_trial_list[ii[0]:ii[1]])\n",
        "      file_Y_list_chunks.append(file_Y_list[ii[0]:ii[1]])\n",
        "\n",
        "    self.to_fit = to_fit #set to True to return XY and False to return X\n",
        "    self.file_trial_list = file_trial_list\n",
        "    self.file_Y_list = file_Y_list\n",
        "    self.batch_size = batch_size\n",
        "    self.extract_inds = extract_inds\n",
        "    self.num_in_each = num_in_each\n",
        "    self.file_list_chunks = file_list_chunks\n",
        "    self.file_Y_list_chunks = file_Y_list_chunks\n",
        "\n",
        "    \n",
        "  def __len__(self) :\n",
        "    return len(self.extract_inds)\n",
        "  \n",
        "  def __getitem__(self, num_2_extract) :\n",
        "    raw_X, raw_Y = build_data(self.file_list_chunks[num_2_extract], \n",
        "                          self.file_Y_list_chunks[num_2_extract])\n",
        "\n",
        "    rgb_batch = np.repeat(raw_X[..., np.newaxis], 3, -1)\n",
        "    IMG_SIZE = 96 # All images will be resized to 160x160. This is the size of MobileNetV2 input sizes\n",
        "\n",
        "    rgb_tensor = tf.cast(rgb_batch, tf.float32) # convert to tf tensor with float32 dtypes\n",
        "    rgb_tensor = (rgb_tensor/127.5) - 1 # /127.5 = 0:2, -1 = -1:1 requirement for mobilenetV2\n",
        "    rgb_tensor = tf.image.resize(rgb_tensor, (IMG_SIZE, IMG_SIZE)) # resizing\n",
        "\n",
        "    self.IMG_SHAPE = (IMG_SIZE, IMG_SIZE, 3)\n",
        "    rgb_tensor_aug = rgb_tensor\n",
        "\n",
        "    # print(len(raw_Y))\n",
        "    # for i, ims in enumerate(rgb_tensor):\n",
        "    #   # print(i)\n",
        "    #   tmp1 = fux_wit_imgs(20, ims)\n",
        "    #   rgb_tensor_aug = np.append(rgb_tensor_aug, tmp1, 0)\n",
        "    \n",
        "    if self.to_fit:\n",
        "      return rgb_tensor_aug, raw_Y\n",
        "    else:\n",
        "      return rgb_tensor_aug\n",
        "\n",
        "\n",
        "  # def _getitem__tmp(self, touch_aug_num, no_touch_aug_num)\n",
        "\n",
        "  def get_single_trials(self, num_2_extract) :\n",
        "      raw_X, raw_Y = build_data([self.file_trial_list[num_2_extract]], \n",
        "                            [self.file_Y_list[num_2_extract]])\n",
        "    \n",
        "      frame_index = scipy.io.loadmat(self.frame_ind_list[num_2_extract])\n",
        "      frame_index = frame_index['relevantIdx']\n",
        "      frame_index = frame_index[0]\n",
        "      rgb_batch = np.repeat(raw_X[..., np.newaxis], 3, -1)\n",
        "      IMG_SIZE = 96 # All images will be resized to 160x160. This is the size of MobileNetV2 input sizes\n",
        "\n",
        "      rgb_tensor = tf.cast(rgb_batch, tf.float32) # convert to tf tensor with float32 dtypes\n",
        "      rgb_tensor = (rgb_tensor/127.5) - 1 # /127.5 = 0:2, -1 = -1:1 requirement for mobilenetV2\n",
        "      rgb_tensor = tf.image.resize(rgb_tensor, (IMG_SIZE, IMG_SIZE)) # resizing\n",
        "\n",
        "      self.IMG_SHAPE = (IMG_SIZE, IMG_SIZE, 3)\n",
        "      rgb_tensor_aug = rgb_tensor\n",
        "      # print(len(raw_Y))\n",
        "      # for i, ims in enumerate(rgb_tensor):\n",
        "      #   print(i)\n",
        "      #   tmp1 = fux_wit_imgs(20, ims)\n",
        "      #   rgb_tensor_aug = np.append(rgb_tensor_aug, tmp1, 0)\n",
        "      return rgb_tensor_aug, raw_Y\n",
        "    \n",
        "      # return rgb_tensor, raw_Y, frame_index#, trial_file_num\n",
        "\n",
        "  def plot_batch_distribution(self):\n",
        "      # randomly select a batch and generate images and labels\n",
        "      batch_num = np.random.choice(np.arange(0, len(self.file_list_chunks)))\n",
        "      samp_x, samp_y = self.__getitem__(batch_num)\n",
        "\n",
        "      # look at the distribution of classes\n",
        "      plt.pie([1 - np.mean(samp_y), np.mean(samp_y)],\n",
        "              labels=['non-touch frames', 'touch frames'], autopct='%1.1f%%', )\n",
        "      plt.title('class distribution from batch ' + str(batch_num))\n",
        "      plt.show()\n",
        "\n",
        "      # generate indices for positive and negative classes\n",
        "      images_to_sample = 20\n",
        "      neg_class = [i for i, val in enumerate(samp_y) if val == 0]\n",
        "      pos_class = [i for i, val in enumerate(samp_y) if val == 1]\n",
        "      neg_index = np.random.choice(neg_class, images_to_sample)\n",
        "      pos_index = np.random.choice(pos_class, images_to_sample)\n",
        "\n",
        "      # plot sample positive and negative class images\n",
        "      plt.figure(figsize=(10, 10))\n",
        "      for i in range(images_to_sample):\n",
        "          plt.subplot(5, 10, i + 1)\n",
        "          plt.xticks([])\n",
        "          plt.yticks([])\n",
        "          plt.grid(False)\n",
        "          _ = plt.imshow(image_transform(samp_x[neg_index[i]]))\n",
        "          plt.xlabel('0')\n",
        "\n",
        "          plt.subplot(5, 10, images_to_sample + i + 1)\n",
        "          plt.xticks([])\n",
        "          plt.yticks([])\n",
        "          plt.grid(False)\n",
        "          plt.imshow(image_transform(samp_x[pos_index[i]]))\n",
        "          plt.xlabel('1')\n",
        "      plt.suptitle('sample images from batch  ' + str(batch_num))\n",
        "      plt.show()"
      ],
      "execution_count": 88,
      "outputs": []
    }
  ]
}